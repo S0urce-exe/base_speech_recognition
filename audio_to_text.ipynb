{
 "cells": [
  {
   "cell_type": "markdown",
   "id": "97cdbef4-9e7b-43a8-a242-cf757d7a11ac",
   "metadata": {},
   "source": [
    "# Пример работы с моделями открытых репозиториев:\n",
    "\n",
    "## - Hugginface:\n",
    "\n",
    "1. **Запуск моделей**:\n",
    "    - загрузить биилиотеки для работы: requirements.txt\n",
    "    - пройти на страницу моделей Hugginface: https://huggingface.co/models\n",
    "    - выбрать теги для работы. наши теги по задачам:\n",
    "        - Speech to text (STT): Audio и там automatic-speech-recognition, в \"Filter by name\" в меру воображения про русский язык (например, просто пишем  - ru )\n",
    "        - Text Sentiment Analize (TSA): Natural Language Processing и там text-classification, а  в \"Filter by name\" в меру воображения про русский язык (например, просто пишем  - ru ) \n",
    "        - Speech to Emotion recognition (SER): Audio и там audio-classification, в \"Filter by name\" в меру воображения про русский язык (например, просто пишем  - ru ) - замечание : тут много моделей не про речь - читаем описание моделей и корректируем выбор.\n",
    "    - Собираем список имен моделей:\n",
    "        - открыть модель из списка оставшихся рабочих образцов со страницы \n",
    "        - запустить модель с примером из датасета (небольшое тестовое множество)\n",
    "        - записать выходы и проверить адекватность записываемого \n",
    "    - Отбросить модели, которые решают не \"нашу\" задачу (не всегда прозрачно описан выход модели), и модели, которые не заработала (так тоже бывает)\n",
    " \n",
    " 2. **Тест**:\n",
    "    - Не верим результатам из карты модели - проверяем, но и себе не верим (проверяем)\n",
    "    - Запускаем \"Уцелевший список рабочих моделей\" и записываем результаты в один параллельно заполняемый Дата фрейм\n",
    "    - собрать таблицу результатов работы модели (дописать выходы модели к таблице с датасетом)\n",
    " \n",
    " 3. **Анализ**:\n",
    "    - провести очистку и интерпретицию результатов (модели не обязаны писать ответы как нам нужно, они пищут их как у них записано)\n",
    "    - тестим на разных данных (датасеты, тоже имеют свою разметку)\n",
    "    - пользуемся одной метрикой!!!!\n",
    " \n",
    " 4. **Выводы**       \n",
    "        "
   ]
  },
  {
   "cell_type": "markdown",
   "id": "ffbe034c-3518-4047-976a-bf70d11dc234",
   "metadata": {},
   "source": [
    "Пример для юболее продвинутого варианта использования моделей-  с доучиванием https://github.com/huggingface/notebooks/blob/main/examples/audio_classification.ipynb\n",
    "\n",
    "## Audio classification"
   ]
  },
  {
   "cell_type": "code",
   "execution_count": 1,
   "id": "1487e952-2211-49e8-b224-bddaa109ac70",
   "metadata": {},
   "outputs": [],
   "source": [
    "\n",
    "import pandas as pd\n",
    "import numpy as np\n",
    "import time\n",
    "\n",
    "import warnings\n",
    "warnings.simplefilter('ignore')\n"
   ]
  },
  {
   "cell_type": "markdown",
   "id": "ad45c130-ca05-4a5e-924b-6a75171b5add",
   "metadata": {},
   "source": [
    "## инсталировать нужные пакеты"
   ]
  },
  {
   "cell_type": "code",
   "execution_count": 2,
   "id": "908baa76-e27a-4dd7-8f20-07a24ca7c43d",
   "metadata": {},
   "outputs": [],
   "source": [
    "# # для установки torch (похоже tensorflow если используем его)\n",
    "# !pip install torch torchvision\n",
    "# # общий вариант\n",
    "# !pip install transformers \n",
    "# # вариант с только с цпу\n",
    "# # for torch\n",
    "# !pip install 'transformers[torch]'\n",
    "# # for tensorflow\n",
    "# !pip install 'transformers[tf-cpu]'\n",
    "\n",
    "# # другие варианты https://huggingface.co/docs/transformers/installation"
   ]
  },
  {
   "cell_type": "code",
   "execution_count": 3,
   "id": "5b6c7ea5-acab-4d87-a781-c443dd3673d4",
   "metadata": {},
   "outputs": [],
   "source": [
    "# пакет от Hugginface"
   ]
  },
  {
   "cell_type": "code",
   "execution_count": 4,
   "id": "f35d395c-cca0-46a8-9807-667fdde6833f",
   "metadata": {},
   "outputs": [],
   "source": [
    "from transformers import pipeline\n"
   ]
  },
  {
   "cell_type": "code",
   "execution_count": 5,
   "id": "8ab05915-d536-47b0-b35c-d20f7fed5ae8",
   "metadata": {},
   "outputs": [],
   "source": [
    "# серилизация объектов"
   ]
  },
  {
   "cell_type": "code",
   "execution_count": 6,
   "id": "75ad8b89-6747-4f43-ac73-be75a228d17b",
   "metadata": {},
   "outputs": [],
   "source": [
    "import pickle"
   ]
  },
  {
   "cell_type": "markdown",
   "id": "63303d8f-c844-4894-91dd-d30b5ad755f3",
   "metadata": {},
   "source": [
    "## Датасеты\n",
    "\n",
    "  - **RESD** : 7 классов\n",
    "  - https://huggingface.co/datasets/Aniemore/resd_annotated\n"
   ]
  },
  {
   "cell_type": "code",
   "execution_count": 7,
   "id": "b996bbac-2493-413e-8b85-41cd7ac6889d",
   "metadata": {},
   "outputs": [],
   "source": [
    "path_resd_train = '../dataset/data_RESD.pickle'\n",
    "\n",
    "\n",
    "with open(path_resd_train, 'rb') as f:\n",
    "    # The protocol version used is detected automatically, so we do not\n",
    "    # have to specify it.\n",
    "    data = pickle.load(f)"
   ]
  },
  {
   "cell_type": "code",
   "execution_count": 8,
   "id": "ff99a7b4-b8a0-4741-99fb-74f6325d85e4",
   "metadata": {},
   "outputs": [
    {
     "data": {
      "text/plain": [
       "{'name': '32_happiness_enthusiasm_h_120',\n",
       " 'path': 'happiness_enthusiasm_32/32_happiness_enthusiasm_h_120.wav',\n",
       " 'emotion': 'happiness',\n",
       " 'speech': {'path': '32_happiness_enthusiasm_h_120.wav',\n",
       "  'array': array([-0.00018311, -0.00061035, -0.00076294, ...,  0.00085449,\n",
       "          0.00048828,  0.00030518]),\n",
       "  'sampling_rate': 16000}}"
      ]
     },
     "execution_count": 8,
     "metadata": {},
     "output_type": "execute_result"
    }
   ],
   "source": [
    "data[0]"
   ]
  },
  {
   "cell_type": "code",
   "execution_count": 9,
   "id": "af5d6073-2663-4718-b276-3a28cf298175",
   "metadata": {},
   "outputs": [
    {
     "data": {
      "text/html": [
       "<div>\n",
       "<style scoped>\n",
       "    .dataframe tbody tr th:only-of-type {\n",
       "        vertical-align: middle;\n",
       "    }\n",
       "\n",
       "    .dataframe tbody tr th {\n",
       "        vertical-align: top;\n",
       "    }\n",
       "\n",
       "    .dataframe thead th {\n",
       "        text-align: right;\n",
       "    }\n",
       "</style>\n",
       "<table border=\"1\" class=\"dataframe\">\n",
       "  <thead>\n",
       "    <tr style=\"text-align: right;\">\n",
       "      <th></th>\n",
       "      <th>name</th>\n",
       "      <th>path</th>\n",
       "      <th>emotion</th>\n",
       "      <th>speech</th>\n",
       "    </tr>\n",
       "  </thead>\n",
       "  <tbody>\n",
       "    <tr>\n",
       "      <th>0</th>\n",
       "      <td>32_happiness_enthusiasm_h_120</td>\n",
       "      <td>happiness_enthusiasm_32/32_happiness_enthusias...</td>\n",
       "      <td>happiness</td>\n",
       "      <td>{'path': '32_happiness_enthusiasm_h_120.wav', ...</td>\n",
       "    </tr>\n",
       "    <tr>\n",
       "      <th>1</th>\n",
       "      <td>36_disgust_happiness_d_130</td>\n",
       "      <td>disgust_happiness_36/36_disgust_happiness_d_13...</td>\n",
       "      <td>disgust</td>\n",
       "      <td>{'path': '36_disgust_happiness_d_130.wav', 'ar...</td>\n",
       "    </tr>\n",
       "    <tr>\n",
       "      <th>2</th>\n",
       "      <td>34_anger_fear_a_060</td>\n",
       "      <td>anger_fear_34/34_anger_fear_a_060.wav</td>\n",
       "      <td>anger</td>\n",
       "      <td>{'path': '34_anger_fear_a_060.wav', 'array': [...</td>\n",
       "    </tr>\n",
       "    <tr>\n",
       "      <th>3</th>\n",
       "      <td>25_anger_disgust_a_010</td>\n",
       "      <td>anger_disgust_25/25_anger_disgust_a_010.wav</td>\n",
       "      <td>anger</td>\n",
       "      <td>{'path': '25_anger_disgust_a_010.wav', 'array'...</td>\n",
       "    </tr>\n",
       "    <tr>\n",
       "      <th>4</th>\n",
       "      <td>17_neutral_disgust_d_092</td>\n",
       "      <td>neutral_disgust_17/17_neutral_disgust_d_092.wav</td>\n",
       "      <td>disgust</td>\n",
       "      <td>{'path': '17_neutral_disgust_d_092.wav', 'arra...</td>\n",
       "    </tr>\n",
       "  </tbody>\n",
       "</table>\n",
       "</div>"
      ],
      "text/plain": [
       "                            name  \\\n",
       "0  32_happiness_enthusiasm_h_120   \n",
       "1     36_disgust_happiness_d_130   \n",
       "2            34_anger_fear_a_060   \n",
       "3         25_anger_disgust_a_010   \n",
       "4       17_neutral_disgust_d_092   \n",
       "\n",
       "                                                path    emotion  \\\n",
       "0  happiness_enthusiasm_32/32_happiness_enthusias...  happiness   \n",
       "1  disgust_happiness_36/36_disgust_happiness_d_13...    disgust   \n",
       "2              anger_fear_34/34_anger_fear_a_060.wav      anger   \n",
       "3        anger_disgust_25/25_anger_disgust_a_010.wav      anger   \n",
       "4    neutral_disgust_17/17_neutral_disgust_d_092.wav    disgust   \n",
       "\n",
       "                                              speech  \n",
       "0  {'path': '32_happiness_enthusiasm_h_120.wav', ...  \n",
       "1  {'path': '36_disgust_happiness_d_130.wav', 'ar...  \n",
       "2  {'path': '34_anger_fear_a_060.wav', 'array': [...  \n",
       "3  {'path': '25_anger_disgust_a_010.wav', 'array'...  \n",
       "4  {'path': '17_neutral_disgust_d_092.wav', 'arra...  "
      ]
     },
     "execution_count": 9,
     "metadata": {},
     "output_type": "execute_result"
    }
   ],
   "source": [
    "df_resd_train = pd.DataFrame(data)\n",
    "df_resd_train.head()"
   ]
  },
  {
   "cell_type": "code",
   "execution_count": 10,
   "id": "9bdf08d1-de75-40be-9860-180570b2074f",
   "metadata": {},
   "outputs": [],
   "source": [
    "# from https://www.kaggle.com/datasets/ar4ikov/resd-dataset?resource=download"
   ]
  },
  {
   "cell_type": "code",
   "execution_count": 11,
   "id": "f6a55370-a4df-492a-8198-f4fe717da40b",
   "metadata": {},
   "outputs": [],
   "source": [
    "path_resd_test  = '../dataset/RESD_csv/test.csv'"
   ]
  },
  {
   "cell_type": "code",
   "execution_count": 12,
   "id": "36f1a243-5294-4fb0-a65b-3fa727a638c4",
   "metadata": {},
   "outputs": [
    {
     "data": {
      "text/html": [
       "<div>\n",
       "<style scoped>\n",
       "    .dataframe tbody tr th:only-of-type {\n",
       "        vertical-align: middle;\n",
       "    }\n",
       "\n",
       "    .dataframe tbody tr th {\n",
       "        vertical-align: top;\n",
       "    }\n",
       "\n",
       "    .dataframe thead th {\n",
       "        text-align: right;\n",
       "    }\n",
       "</style>\n",
       "<table border=\"1\" class=\"dataframe\">\n",
       "  <thead>\n",
       "    <tr style=\"text-align: right;\">\n",
       "      <th></th>\n",
       "      <th>name</th>\n",
       "      <th>path</th>\n",
       "      <th>emotion</th>\n",
       "      <th>text</th>\n",
       "    </tr>\n",
       "  </thead>\n",
       "  <tbody>\n",
       "    <tr>\n",
       "      <th>0</th>\n",
       "      <td>27_neutral_fear_n_100</td>\n",
       "      <td>neutral_fear_27/27_neutral_fear_n_100.wav</td>\n",
       "      <td>neutral</td>\n",
       "      <td>Вам дадут целый минимальный оклад, но при этом...</td>\n",
       "    </tr>\n",
       "    <tr>\n",
       "      <th>1</th>\n",
       "      <td>08_sadness_anger a_010</td>\n",
       "      <td>08_sadness_anger/08_sadness_anger a_010.wav</td>\n",
       "      <td>anger</td>\n",
       "      <td>Сколько можно звонить?</td>\n",
       "    </tr>\n",
       "    <tr>\n",
       "      <th>2</th>\n",
       "      <td>26_enthusiasm_happiness_e_120</td>\n",
       "      <td>enthusiasm_happiness_26/26_enthusiasm_happines...</td>\n",
       "      <td>enthusiasm</td>\n",
       "      <td>А как долго тебе нужно это всё узнавать?</td>\n",
       "    </tr>\n",
       "    <tr>\n",
       "      <th>3</th>\n",
       "      <td>42_anger_fear_a_190</td>\n",
       "      <td>anger_fear_42/42_anger_fear_a_190.wav</td>\n",
       "      <td>anger</td>\n",
       "      <td>Ну а мне в 5 часов вставать на работу!</td>\n",
       "    </tr>\n",
       "    <tr>\n",
       "      <th>4</th>\n",
       "      <td>04_fear_enthusiasm f_090</td>\n",
       "      <td>04_fear_enthusiasm/04_fear_enthusiasm f_090.wav</td>\n",
       "      <td>fear</td>\n",
       "      <td>Честно, я не подскажу, ну как и обычно, любым ...</td>\n",
       "    </tr>\n",
       "  </tbody>\n",
       "</table>\n",
       "</div>"
      ],
      "text/plain": [
       "                            name  \\\n",
       "0          27_neutral_fear_n_100   \n",
       "1         08_sadness_anger a_010   \n",
       "2  26_enthusiasm_happiness_e_120   \n",
       "3            42_anger_fear_a_190   \n",
       "4       04_fear_enthusiasm f_090   \n",
       "\n",
       "                                                path     emotion  \\\n",
       "0          neutral_fear_27/27_neutral_fear_n_100.wav     neutral   \n",
       "1        08_sadness_anger/08_sadness_anger a_010.wav       anger   \n",
       "2  enthusiasm_happiness_26/26_enthusiasm_happines...  enthusiasm   \n",
       "3              anger_fear_42/42_anger_fear_a_190.wav       anger   \n",
       "4    04_fear_enthusiasm/04_fear_enthusiasm f_090.wav        fear   \n",
       "\n",
       "                                                text  \n",
       "0  Вам дадут целый минимальный оклад, но при этом...  \n",
       "1                             Сколько можно звонить?  \n",
       "2           А как долго тебе нужно это всё узнавать?  \n",
       "3             Ну а мне в 5 часов вставать на работу!  \n",
       "4  Честно, я не подскажу, ну как и обычно, любым ...  "
      ]
     },
     "execution_count": 12,
     "metadata": {},
     "output_type": "execute_result"
    }
   ],
   "source": [
    "df_resd = pd.read_csv(path_resd_test )\n",
    "df_resd.head()"
   ]
  },
  {
   "cell_type": "code",
   "execution_count": 13,
   "id": "7ad0223e-9ca8-48a5-9060-8db9fcf0d4ff",
   "metadata": {},
   "outputs": [
    {
     "data": {
      "text/plain": [
       "emotion\n",
       "fear          45\n",
       "anger         44\n",
       "happiness     44\n",
       "enthusiasm    40\n",
       "neutral       38\n",
       "disgust       37\n",
       "sadness       32\n",
       "Name: count, dtype: int64"
      ]
     },
     "execution_count": 13,
     "metadata": {},
     "output_type": "execute_result"
    }
   ],
   "source": [
    "df_resd.emotion.value_counts()"
   ]
  },
  {
   "cell_type": "markdown",
   "id": "59757131-b8bb-454a-8044-aa605349e1eb",
   "metadata": {},
   "source": [
    "- сбалансирован"
   ]
  },
  {
   "cell_type": "markdown",
   "id": "44f83669-1a59-47a6-b5a6-78943e5716ca",
   "metadata": {},
   "source": [
    "   - **DUSHA** : 5 классов\n",
    "   - https://github.com/salute-developers/golos/tree/master/dusha#dusha-dataset"
   ]
  },
  {
   "cell_type": "code",
   "execution_count": 14,
   "id": "ed799833-304f-4a00-8a8c-b26c0e6d6723",
   "metadata": {},
   "outputs": [
    {
     "data": {
      "text/html": [
       "<div>\n",
       "<style scoped>\n",
       "    .dataframe tbody tr th:only-of-type {\n",
       "        vertical-align: middle;\n",
       "    }\n",
       "\n",
       "    .dataframe tbody tr th {\n",
       "        vertical-align: top;\n",
       "    }\n",
       "\n",
       "    .dataframe thead th {\n",
       "        text-align: right;\n",
       "    }\n",
       "</style>\n",
       "<table border=\"1\" class=\"dataframe\">\n",
       "  <thead>\n",
       "    <tr style=\"text-align: right;\">\n",
       "      <th></th>\n",
       "      <th>hash_id</th>\n",
       "      <th>audio_path</th>\n",
       "      <th>duration</th>\n",
       "      <th>annotator_emo</th>\n",
       "      <th>golden_emo</th>\n",
       "      <th>annotator_id</th>\n",
       "      <th>speaker_text</th>\n",
       "      <th>speaker_emo</th>\n",
       "      <th>source_id</th>\n",
       "    </tr>\n",
       "  </thead>\n",
       "  <tbody>\n",
       "    <tr>\n",
       "      <th>0</th>\n",
       "      <td>857b7099a4f5766105d166e2283066fa</td>\n",
       "      <td>wavs/857b7099a4f5766105d166e2283066fa.wav</td>\n",
       "      <td>4.4</td>\n",
       "      <td>neutral</td>\n",
       "      <td>NaN</td>\n",
       "      <td>a6aea16a81aa926eee405c0878162c91</td>\n",
       "      <td>NaN</td>\n",
       "      <td>NaN</td>\n",
       "      <td>d6738a1e0d59f783987e0503ddb4ca54</td>\n",
       "    </tr>\n",
       "    <tr>\n",
       "      <th>1</th>\n",
       "      <td>2107b749055d85d7c09ac49fd30e3feb</td>\n",
       "      <td>wavs/2107b749055d85d7c09ac49fd30e3feb.wav</td>\n",
       "      <td>3.8</td>\n",
       "      <td>neutral</td>\n",
       "      <td>2.0</td>\n",
       "      <td>a6aea16a81aa926eee405c0878162c91</td>\n",
       "      <td>NaN</td>\n",
       "      <td>NaN</td>\n",
       "      <td>1fcfcacf584841d22fbdf4a51fe6177d</td>\n",
       "    </tr>\n",
       "    <tr>\n",
       "      <th>2</th>\n",
       "      <td>700b3a5644a0824831848c346d11c7d6</td>\n",
       "      <td>wavs/700b3a5644a0824831848c346d11c7d6.wav</td>\n",
       "      <td>2.5</td>\n",
       "      <td>neutral</td>\n",
       "      <td>NaN</td>\n",
       "      <td>a6aea16a81aa926eee405c0878162c91</td>\n",
       "      <td>NaN</td>\n",
       "      <td>NaN</td>\n",
       "      <td>dfd63e80a7aca8d4cb4e14e062441886</td>\n",
       "    </tr>\n",
       "    <tr>\n",
       "      <th>3</th>\n",
       "      <td>e8c053899135f139e9527c1388790e36</td>\n",
       "      <td>wavs/e8c053899135f139e9527c1388790e36.wav</td>\n",
       "      <td>1.7</td>\n",
       "      <td>neutral</td>\n",
       "      <td>NaN</td>\n",
       "      <td>a6aea16a81aa926eee405c0878162c91</td>\n",
       "      <td>NaN</td>\n",
       "      <td>NaN</td>\n",
       "      <td>63c3ae005d1663de92314be4377a8805</td>\n",
       "    </tr>\n",
       "    <tr>\n",
       "      <th>4</th>\n",
       "      <td>7fe59996e0f93b8a63e28aacf480004b</td>\n",
       "      <td>wavs/7fe59996e0f93b8a63e28aacf480004b.wav</td>\n",
       "      <td>1.9</td>\n",
       "      <td>neutral</td>\n",
       "      <td>NaN</td>\n",
       "      <td>a6aea16a81aa926eee405c0878162c91</td>\n",
       "      <td>NaN</td>\n",
       "      <td>NaN</td>\n",
       "      <td>14abbe44c78118171f01348f862698cd</td>\n",
       "    </tr>\n",
       "  </tbody>\n",
       "</table>\n",
       "</div>"
      ],
      "text/plain": [
       "                            hash_id  \\\n",
       "0  857b7099a4f5766105d166e2283066fa   \n",
       "1  2107b749055d85d7c09ac49fd30e3feb   \n",
       "2  700b3a5644a0824831848c346d11c7d6   \n",
       "3  e8c053899135f139e9527c1388790e36   \n",
       "4  7fe59996e0f93b8a63e28aacf480004b   \n",
       "\n",
       "                                  audio_path  duration annotator_emo  \\\n",
       "0  wavs/857b7099a4f5766105d166e2283066fa.wav       4.4       neutral   \n",
       "1  wavs/2107b749055d85d7c09ac49fd30e3feb.wav       3.8       neutral   \n",
       "2  wavs/700b3a5644a0824831848c346d11c7d6.wav       2.5       neutral   \n",
       "3  wavs/e8c053899135f139e9527c1388790e36.wav       1.7       neutral   \n",
       "4  wavs/7fe59996e0f93b8a63e28aacf480004b.wav       1.9       neutral   \n",
       "\n",
       "   golden_emo                      annotator_id  speaker_text  speaker_emo  \\\n",
       "0         NaN  a6aea16a81aa926eee405c0878162c91           NaN          NaN   \n",
       "1         2.0  a6aea16a81aa926eee405c0878162c91           NaN          NaN   \n",
       "2         NaN  a6aea16a81aa926eee405c0878162c91           NaN          NaN   \n",
       "3         NaN  a6aea16a81aa926eee405c0878162c91           NaN          NaN   \n",
       "4         NaN  a6aea16a81aa926eee405c0878162c91           NaN          NaN   \n",
       "\n",
       "                          source_id  \n",
       "0  d6738a1e0d59f783987e0503ddb4ca54  \n",
       "1  1fcfcacf584841d22fbdf4a51fe6177d  \n",
       "2  dfd63e80a7aca8d4cb4e14e062441886  \n",
       "3  63c3ae005d1663de92314be4377a8805  \n",
       "4  14abbe44c78118171f01348f862698cd  "
      ]
     },
     "execution_count": 14,
     "metadata": {},
     "output_type": "execute_result"
    }
   ],
   "source": [
    "df_dusha = pd.read_csv('../dataset/dusha/podcast_train/raw_podcast_train.tsv',  sep = '\t')\n",
    "df_dusha.head()"
   ]
  },
  {
   "cell_type": "code",
   "execution_count": 15,
   "id": "8cdb39c3-82fc-4aa2-aa33-34d340294f06",
   "metadata": {},
   "outputs": [
    {
     "data": {
      "text/plain": [
       "(645813, 9)"
      ]
     },
     "execution_count": 15,
     "metadata": {},
     "output_type": "execute_result"
    }
   ],
   "source": [
    "df_dusha.shape"
   ]
  },
  {
   "cell_type": "code",
   "execution_count": 16,
   "id": "bec1911d-2be1-4e5d-80d2-9e9b185490e4",
   "metadata": {},
   "outputs": [
    {
     "data": {
      "text/plain": [
       "annotator_emo\n",
       "neutral     579685\n",
       "positive     37366\n",
       "sad          15100\n",
       "angry        11685\n",
       "other         1977\n",
       "Name: count, dtype: int64"
      ]
     },
     "execution_count": 16,
     "metadata": {},
     "output_type": "execute_result"
    }
   ],
   "source": [
    "df_dusha.annotator_emo.value_counts()"
   ]
  },
  {
   "cell_type": "markdown",
   "id": "ca316649-b899-4587-941e-91943d8b6777",
   "metadata": {},
   "source": [
    "- разбалансирован"
   ]
  },
  {
   "cell_type": "code",
   "execution_count": 17,
   "id": "69afd060-48cd-4a35-be00-07d78654f655",
   "metadata": {},
   "outputs": [],
   "source": [
    "path_wav = '../dataset/dusha/podcast_train/'"
   ]
  },
  {
   "cell_type": "markdown",
   "id": "032cc593-a4a4-4cdb-880c-9bf9fce351a8",
   "metadata": {},
   "source": [
    "# Запуск модели c Hugginface"
   ]
  },
  {
   "cell_type": "markdown",
   "id": "fcc42bce-df64-4142-acbc-1a1d77c6075f",
   "metadata": {},
   "source": [
    "## 1. **Запуск моделей** "
   ]
  },
  {
   "cell_type": "markdown",
   "id": "ce99f418-aeb0-47f4-be0d-d7d9edf00d41",
   "metadata": {},
   "source": [
    "+chrisjay/afrospeech-wav2vec-run : https://huggingface.co/chrisjay/afrospeech-wav2vec-run?library=true\n",
    "\n",
    "+Aniemore/wavlm-emotion-russian-resd : https://huggingface.co/Aniemore/wavlm-emotion-russian-resd?library=true\n",
    "\n",
    "+\"Aniemore/hubert-emotion-russian-resd\": https://huggingface.co/Aniemore/hubert-emotion-russian-resd?library=true\n",
    "\n",
    "+KELONMYOSA/wav2vec2-xls-r-300m-emotion-ru : https://huggingface.co/KELONMYOSA/wav2vec2-xls-r-300m-emotion-ru?library=true\n",
    "\n",
    "-\"xbgoose/hubert-base-speech-emotion-recognition-russian-dusha-finetuned\" : https://huggingface.co/xbgoose/hubert-base-speech-emotion-recognition-russian-dusha-finetuned?library=true\n",
    "\n",
    "-\"xbgoose/wavlm-large-speech-emotion-recognition-russian-dusha-finetuned\" : https://huggingface.co/xbgoose/wavlm-large-speech-emotion-recognition-russian-dusha-finetuned?library=true\n",
    "\n",
    "+\"ruisp/hubert-base-ls960-finetuned-gtzan\" : https://huggingface.co/ruisp/hubert-base-ls960-finetuned-gtzan\n",
    "\n",
    "+\"Aniemore/wav2vec2-emotion-russian-resd\" : https://huggingface.co/Aniemore/wav2vec2-emotion-russian-resd?library=true\n",
    "\n",
    "+\"Aniemore/unispeech-sat-emotion-russian-resd\" : https://huggingface.co/Aniemore/unispeech-sat-emotion-russian-resd?library=true\n",
    "\n",
    "+\"justin1983/wav2vec2-large-xlsr-53-russian-finetuned-amd\" : https://huggingface.co/justin1983/wav2vec2-large-xlsr-53-russian-finetuned-amd\n",
    "\n",
    "-\"xbgoose/hubert-large-speech-emotion-recognition-russian-dusha-finetuned\" : https://huggingface.co/xbgoose/hubert-large-speech-emotion-recognition-russian-dusha-finetuned\n",
    "\n",
    "-\"xbgoose/wavlm-base-speech-emotion-recognition-russian-dusha-finetuned\" : https://huggingface.co/xbgoose/wavlm-base-speech-emotion-recognition-russian-dusha-finetuned\n",
    "\n",
    "-\"ArinaOwl/ast-ser-ru\" : https://huggingface.co/ArinaOwl/ast-ser-ru\n",
    "\n",
    "+/- заработала/нет"
   ]
  },
  {
   "cell_type": "markdown",
   "id": "eff2e725-cf9f-4b1a-ac3e-79a6e7901911",
   "metadata": {},
   "source": [
    "### Список рабочих вариантов"
   ]
  },
  {
   "cell_type": "code",
   "execution_count": 18,
   "id": "edfad32a-938e-438c-bcad-4617b31d5c1f",
   "metadata": {},
   "outputs": [
    {
     "name": "stderr",
     "output_type": "stream",
     "text": [
      "Special tokens have been added in the vocabulary, make sure the associated word embeddings are fine-tuned or trained.\n",
      "Special tokens have been added in the vocabulary, make sure the associated word embeddings are fine-tuned or trained.\n"
     ]
    },
    {
     "data": {
      "text/plain": [
       "{'text': 'Слушай, я потратил при этом кучу денег для того чтобы притащиться в эту дру, это что вообще такое? Посмотри на официантов, они все в чёрных каких-то рубашках с кислыми минами, даже никто из них до сих пор не подошёл к нам.'}"
      ]
     },
     "execution_count": 18,
     "metadata": {},
     "output_type": "execute_result"
    }
   ],
   "source": [
    "from transformers import WhisperProcessor, WhisperForConditionalGeneration\n",
    "model_name = \"anton-l/wav2vec2-large-xlsr-53-russian\"#\"openai/whisper-tiny\"\n",
    "model_name =  \"jonatasgrosman/wav2vec2-xls-r-1b-russian\"\n",
    "model_name =  \"bond005/wav2vec2-large-ru-golos\"\n",
    "model_name = \"lorenzoncina/whisper-medium-ru\" ## ****\n",
    "model_name = \"Shirali/whisper-small-ru\"\n",
    "\n",
    "pipe = pipeline(\"automatic-speech-recognition\", model=model_name, trust_remote_code=True)\n",
    "\n",
    "\n",
    "pipe('01_happiness_anger a_020.wav')"
   ]
  },
  {
   "cell_type": "markdown",
   "id": "95c15909-dd2f-4486-be3c-cf9883c62444",
   "metadata": {},
   "source": [
    "## 2. Tест моделей :\n",
    "\n",
    "    - модели из списка уже проверены на то, что запускаются и работают (проверены прямо в этом же коде для небольшого числа примеров), т.е. теперь просто запускаем модель для получения ответа (в привычной для нее форме)\n",
    "\n",
    "    - К сожалению, ответы не гарантированно одинаково построены (хотя и имеют для Hugginface общую структуру). Например, Aniemore - сортирует ответы в порядке качества, а KELONMYOSA - нет. Просто внимательно смотрим , что вернулось"
   ]
  },
  {
   "cell_type": "code",
   "execution_count": 19,
   "id": "7d90b6ec-17f7-4e36-9454-4b7be1e5100d",
   "metadata": {},
   "outputs": [],
   "source": [
    "from optimum.onnxruntime import ORTModelForQuestionAnswering, ORTModelForAudioClassification, ORTModelForSequenceClassification, ORTModelForSpeechSeq2Seq\n",
    "from transformers import pipeline\n",
    "import time\n",
    "import librosa\n",
    "import numpy as np\n",
    "import os\n",
    "\n",
    "class  SpeechtoText():\n",
    "    def __init__(self, model_name):\n",
    "        \n",
    "        self.pipe = pipeline(\"automatic-speech-recognition\", model=model_name, trust_remote_code=True)\n",
    "        \n",
    "\n",
    "    def postprocess(self, output):\n",
    "        return output['text']\n",
    "        \n",
    "    def run(self, path):\n",
    "        rez = self.pipe(path)\n",
    "        \n",
    "        return self.postprocess(rez)"
   ]
  },
  {
   "cell_type": "code",
   "execution_count": 20,
   "id": "f62a782d-2e5b-457f-bc60-0b54e7af3889",
   "metadata": {},
   "outputs": [
    {
     "data": {
      "text/plain": [
       "783"
      ]
     },
     "execution_count": 20,
     "metadata": {},
     "output_type": "execute_result"
    }
   ],
   "source": [
    "import glob\n",
    "\n",
    "path_mix_dn = '../шумоподавление/DTLN_output/*.wav'\n",
    "path_mix_n = '../шумоподавление/Noisereduce_output/*.wav'\n",
    "list_mix_dn = glob.glob(path_mix_dn)\n",
    "len(list_mix_dn)\n"
   ]
  },
  {
   "cell_type": "code",
   "execution_count": 21,
   "id": "d637ff9a-ce4f-4d74-b914-35985e5f3fb7",
   "metadata": {},
   "outputs": [
    {
     "data": {
      "text/plain": [
       "783"
      ]
     },
     "execution_count": 21,
     "metadata": {},
     "output_type": "execute_result"
    }
   ],
   "source": [
    "list_mix_n = glob.glob(path_mix_n)\n",
    "len(list_mix_n)"
   ]
  },
  {
   "cell_type": "code",
   "execution_count": 22,
   "id": "b0c71e7d-fd7c-4050-8adc-13f8a8da4221",
   "metadata": {},
   "outputs": [
    {
     "data": {
      "text/html": [
       "<div>\n",
       "<style scoped>\n",
       "    .dataframe tbody tr th:only-of-type {\n",
       "        vertical-align: middle;\n",
       "    }\n",
       "\n",
       "    .dataframe tbody tr th {\n",
       "        vertical-align: top;\n",
       "    }\n",
       "\n",
       "    .dataframe thead th {\n",
       "        text-align: right;\n",
       "    }\n",
       "</style>\n",
       "<table border=\"1\" class=\"dataframe\">\n",
       "  <thead>\n",
       "    <tr style=\"text-align: right;\">\n",
       "      <th></th>\n",
       "      <th>name</th>\n",
       "      <th>path</th>\n",
       "      <th>emotion</th>\n",
       "      <th>text</th>\n",
       "    </tr>\n",
       "  </thead>\n",
       "  <tbody>\n",
       "    <tr>\n",
       "      <th>0</th>\n",
       "      <td>32_happiness_enthusiasm_h_120</td>\n",
       "      <td>happiness_enthusiasm_32/32_happiness_enthusias...</td>\n",
       "      <td>happiness</td>\n",
       "      <td>Конечно, расскажу, обязательно. Ой, сейчас рас...</td>\n",
       "    </tr>\n",
       "    <tr>\n",
       "      <th>1</th>\n",
       "      <td>36_disgust_happiness_d_130</td>\n",
       "      <td>disgust_happiness_36/36_disgust_happiness_d_13...</td>\n",
       "      <td>disgust</td>\n",
       "      <td>Вы ещё и профессию решили поменять.</td>\n",
       "    </tr>\n",
       "    <tr>\n",
       "      <th>2</th>\n",
       "      <td>34_anger_fear_a_060</td>\n",
       "      <td>anger_fear_34/34_anger_fear_a_060.wav</td>\n",
       "      <td>anger</td>\n",
       "      <td>Ты знаешь, чем это для тебя закончится?</td>\n",
       "    </tr>\n",
       "    <tr>\n",
       "      <th>3</th>\n",
       "      <td>25_anger_disgust_a_010</td>\n",
       "      <td>anger_disgust_25/25_anger_disgust_a_010.wav</td>\n",
       "      <td>anger</td>\n",
       "      <td>Добрый день. Вы хотели бы приобрести недвижимо...</td>\n",
       "    </tr>\n",
       "    <tr>\n",
       "      <th>4</th>\n",
       "      <td>17_neutral_disgust_d_092</td>\n",
       "      <td>neutral_disgust_17/17_neutral_disgust_d_092.wav</td>\n",
       "      <td>disgust</td>\n",
       "      <td>все ваши рекламные акции, пожалуйста, больше н...</td>\n",
       "    </tr>\n",
       "  </tbody>\n",
       "</table>\n",
       "</div>"
      ],
      "text/plain": [
       "                            name  \\\n",
       "0  32_happiness_enthusiasm_h_120   \n",
       "1     36_disgust_happiness_d_130   \n",
       "2            34_anger_fear_a_060   \n",
       "3         25_anger_disgust_a_010   \n",
       "4       17_neutral_disgust_d_092   \n",
       "\n",
       "                                                path    emotion  \\\n",
       "0  happiness_enthusiasm_32/32_happiness_enthusias...  happiness   \n",
       "1  disgust_happiness_36/36_disgust_happiness_d_13...    disgust   \n",
       "2              anger_fear_34/34_anger_fear_a_060.wav      anger   \n",
       "3        anger_disgust_25/25_anger_disgust_a_010.wav      anger   \n",
       "4    neutral_disgust_17/17_neutral_disgust_d_092.wav    disgust   \n",
       "\n",
       "                                                text  \n",
       "0  Конечно, расскажу, обязательно. Ой, сейчас рас...  \n",
       "1                Вы ещё и профессию решили поменять.  \n",
       "2            Ты знаешь, чем это для тебя закончится?  \n",
       "3  Добрый день. Вы хотели бы приобрести недвижимо...  \n",
       "4  все ваши рекламные акции, пожалуйста, больше н...  "
      ]
     },
     "execution_count": 22,
     "metadata": {},
     "output_type": "execute_result"
    }
   ],
   "source": [
    "df_text = pd.read_csv('../dataset/RESD_csv/train.csv')\n",
    "df_text.head()\n"
   ]
  },
  {
   "cell_type": "code",
   "execution_count": 23,
   "id": "3ef2a692-eb75-4303-8e7f-b035a3f7f69e",
   "metadata": {},
   "outputs": [
    {
     "data": {
      "text/html": [
       "<div>\n",
       "<style scoped>\n",
       "    .dataframe tbody tr th:only-of-type {\n",
       "        vertical-align: middle;\n",
       "    }\n",
       "\n",
       "    .dataframe tbody tr th {\n",
       "        vertical-align: top;\n",
       "    }\n",
       "\n",
       "    .dataframe thead th {\n",
       "        text-align: right;\n",
       "    }\n",
       "</style>\n",
       "<table border=\"1\" class=\"dataframe\">\n",
       "  <thead>\n",
       "    <tr style=\"text-align: right;\">\n",
       "      <th></th>\n",
       "      <th>audio_path</th>\n",
       "      <th>noise_path</th>\n",
       "      <th>mix_path</th>\n",
       "      <th>bitrate</th>\n",
       "      <th>duration</th>\n",
       "      <th>mix_method</th>\n",
       "      <th>volume_sound</th>\n",
       "      <th>volume_noise</th>\n",
       "    </tr>\n",
       "  </thead>\n",
       "  <tbody>\n",
       "    <tr>\n",
       "      <th>0</th>\n",
       "      <td>train/enthusiasm_neutral_43/43_enthusiasm_neut...</td>\n",
       "      <td>noise/-391904074655300970.wav</td>\n",
       "      <td>mix_test/43_enthusiasm_neutral_e_080.wav</td>\n",
       "      <td>16000</td>\n",
       "      <td>00:04.6</td>\n",
       "      <td>1</td>\n",
       "      <td>8.428574</td>\n",
       "      <td>1.811726</td>\n",
       "    </tr>\n",
       "    <tr>\n",
       "      <th>1</th>\n",
       "      <td>test/anger_fear_42/42_anger_fear_f_070.wav</td>\n",
       "      <td>noise/1248824479100550917.wav</td>\n",
       "      <td>mix_test/42_anger_fear_f_070.wav</td>\n",
       "      <td>16000</td>\n",
       "      <td>00:04.3</td>\n",
       "      <td>1</td>\n",
       "      <td>0.214053</td>\n",
       "      <td>6.887027</td>\n",
       "    </tr>\n",
       "    <tr>\n",
       "      <th>2</th>\n",
       "      <td>train/disgust_happiness_36/36_disgust_happines...</td>\n",
       "      <td>noise/-392355194681447233.wav</td>\n",
       "      <td>mix_test/36_disgust_happiness_d_100.wav</td>\n",
       "      <td>16000</td>\n",
       "      <td>00:02.2</td>\n",
       "      <td>1</td>\n",
       "      <td>9.884556</td>\n",
       "      <td>9.882694</td>\n",
       "    </tr>\n",
       "    <tr>\n",
       "      <th>3</th>\n",
       "      <td>train/enthusiasm_sadness_15/15_enthusiasm_sadn...</td>\n",
       "      <td>noise/1147034587767574128.wav</td>\n",
       "      <td>mix_test/15_enthusiasm_sadness_s_031.wav</td>\n",
       "      <td>16000</td>\n",
       "      <td>00:07.3</td>\n",
       "      <td>1</td>\n",
       "      <td>3.965600</td>\n",
       "      <td>7.601287</td>\n",
       "    </tr>\n",
       "    <tr>\n",
       "      <th>4</th>\n",
       "      <td>train/fear_disgust_48/48_fear_disgust_d_100.wav</td>\n",
       "      <td>noise/1279042682565365761.wav</td>\n",
       "      <td>mix_test/48_fear_disgust_d_100.wav</td>\n",
       "      <td>16000</td>\n",
       "      <td>00:06.7</td>\n",
       "      <td>1</td>\n",
       "      <td>2.940736</td>\n",
       "      <td>1.462580</td>\n",
       "    </tr>\n",
       "  </tbody>\n",
       "</table>\n",
       "</div>"
      ],
      "text/plain": [
       "                                          audio_path  \\\n",
       "0  train/enthusiasm_neutral_43/43_enthusiasm_neut...   \n",
       "1         test/anger_fear_42/42_anger_fear_f_070.wav   \n",
       "2  train/disgust_happiness_36/36_disgust_happines...   \n",
       "3  train/enthusiasm_sadness_15/15_enthusiasm_sadn...   \n",
       "4    train/fear_disgust_48/48_fear_disgust_d_100.wav   \n",
       "\n",
       "                      noise_path                                  mix_path  \\\n",
       "0  noise/-391904074655300970.wav  mix_test/43_enthusiasm_neutral_e_080.wav   \n",
       "1  noise/1248824479100550917.wav          mix_test/42_anger_fear_f_070.wav   \n",
       "2  noise/-392355194681447233.wav   mix_test/36_disgust_happiness_d_100.wav   \n",
       "3  noise/1147034587767574128.wav  mix_test/15_enthusiasm_sadness_s_031.wav   \n",
       "4  noise/1279042682565365761.wav        mix_test/48_fear_disgust_d_100.wav   \n",
       "\n",
       "   bitrate duration  mix_method  volume_sound  volume_noise  \n",
       "0    16000  00:04.6           1      8.428574      1.811726  \n",
       "1    16000  00:04.3           1      0.214053      6.887027  \n",
       "2    16000  00:02.2           1      9.884556      9.882694  \n",
       "3    16000  00:07.3           1      3.965600      7.601287  \n",
       "4    16000  00:06.7           1      2.940736      1.462580  "
      ]
     },
     "execution_count": 23,
     "metadata": {},
     "output_type": "execute_result"
    }
   ],
   "source": [
    "mix_project_path = '../TZ_noisa/'\n",
    "mix_file = 'mix.csv'\n",
    "fd = pd.read_csv(mix_project_path + mix_file)\n",
    "fd.head()"
   ]
  },
  {
   "cell_type": "code",
   "execution_count": 24,
   "id": "b1a42c1f-bcf0-4edf-89ae-98a8df51152b",
   "metadata": {
    "scrolled": true
   },
   "outputs": [
    {
     "name": "stderr",
     "output_type": "stream",
     "text": [
      "Some weights of the model checkpoint at anton-l/wav2vec2-large-xlsr-53-russian were not used when initializing Wav2Vec2ForCTC: ['wav2vec2.encoder.pos_conv_embed.conv.weight_v', 'wav2vec2.encoder.pos_conv_embed.conv.weight_g']\n",
      "- This IS expected if you are initializing Wav2Vec2ForCTC from the checkpoint of a model trained on another task or with another architecture (e.g. initializing a BertForSequenceClassification model from a BertForPreTraining model).\n",
      "- This IS NOT expected if you are initializing Wav2Vec2ForCTC from the checkpoint of a model that you expect to be exactly identical (initializing a BertForSequenceClassification model from a BertForSequenceClassification model).\n",
      "Some weights of Wav2Vec2ForCTC were not initialized from the model checkpoint at anton-l/wav2vec2-large-xlsr-53-russian and are newly initialized: ['wav2vec2.encoder.pos_conv_embed.conv.parametrizations.weight.original0', 'wav2vec2.encoder.pos_conv_embed.conv.parametrizations.weight.original1']\n",
      "You should probably TRAIN this model on a down-stream task to be able to use it for predictions and inference.\n"
     ]
    },
    {
     "name": "stdout",
     "output_type": "stream",
     "text": [
      "Ignored unknown kwarg option normalize\n",
      "Ignored unknown kwarg option normalize\n",
      "Ignored unknown kwarg option normalize\n",
      "Ignored unknown kwarg option normalize\n",
      "............................................................"
     ]
    },
    {
     "name": "stderr",
     "output_type": "stream",
     "text": [
      "Some weights of the model checkpoint at bond005/wav2vec2-large-ru-golos were not used when initializing Wav2Vec2ForCTC: ['wav2vec2.encoder.pos_conv_embed.conv.weight_v', 'wav2vec2.encoder.pos_conv_embed.conv.weight_g']\n",
      "- This IS expected if you are initializing Wav2Vec2ForCTC from the checkpoint of a model trained on another task or with another architecture (e.g. initializing a BertForSequenceClassification model from a BertForPreTraining model).\n",
      "- This IS NOT expected if you are initializing Wav2Vec2ForCTC from the checkpoint of a model that you expect to be exactly identical (initializing a BertForSequenceClassification model from a BertForSequenceClassification model).\n",
      "Some weights of Wav2Vec2ForCTC were not initialized from the model checkpoint at bond005/wav2vec2-large-ru-golos and are newly initialized: ['wav2vec2.encoder.pos_conv_embed.conv.parametrizations.weight.original0', 'wav2vec2.encoder.pos_conv_embed.conv.parametrizations.weight.original1']\n",
      "You should probably TRAIN this model on a down-stream task to be able to use it for predictions and inference.\n"
     ]
    },
    {
     "name": "stdout",
     "output_type": "stream",
     "text": [
      "Ignored unknown kwarg option normalize\n",
      "Ignored unknown kwarg option normalize\n",
      "Ignored unknown kwarg option normalize\n",
      "Ignored unknown kwarg option normalize\n",
      "............................................................"
     ]
    },
    {
     "name": "stderr",
     "output_type": "stream",
     "text": [
      "Special tokens have been added in the vocabulary, make sure the associated word embeddings are fine-tuned or trained.\n",
      "Special tokens have been added in the vocabulary, make sure the associated word embeddings are fine-tuned or trained.\n"
     ]
    },
    {
     "name": "stdout",
     "output_type": "stream",
     "text": [
      "............................................................"
     ]
    }
   ],
   "source": [
    "path_buf =  '../dataset/RESD_csv/'\n",
    "list_rez = []\n",
    "list_problem = []\n",
    "sampling_rate = 16000\n",
    "model_name = [\"anton-l/wav2vec2-large-xlsr-53-russian\", #\"jonatasgrosman/wav2vec2-xls-r-1b-russian\", \n",
    "               \"bond005/wav2vec2-large-ru-golos\", \n",
    "              # \"lorenzoncina/whisper-medium-ru\" ,\n",
    "              \"Shirali/whisper-small-ru\"]\n",
    "for model in model_name:\n",
    "    model_text = SpeechtoText(model)\n",
    "    for name in list_mix_dn[:100]:\n",
    "        try:\n",
    "            name_file = name.split('/')[-1]\n",
    "            name_n = '../шумоподавление/Noisereduce_output/Noisereduce_' + '_'.join(name_file.split('_')[1:])\n",
    "        \n",
    "            name_mix = 'mix_test/' + '_'.join(name_file.split('_')[1:])\n",
    "            \n",
    "            name_ideal = fd.loc[fd.mix_path == name_mix, :].values\n",
    "            \n",
    "            trek_name = name_ideal[0][0].split('/')[-1].split('.')[0]\n",
    "            # print(name_ideal, trek_name )\n",
    "            name_em_ideal = df_text.loc[df_text.iloc[:,0] == trek_name, ['emotion', \t'text']].values[0]\n",
    "            em_ideal, text_ideal = name_em_ideal\n",
    "            \n",
    "            # print(name, name_n, name_ideal)\n",
    "            path_a1 =path_buf + name_ideal[0][0]\n",
    "            t1 = time.time()\n",
    "            speech, sr = librosa.load(path_a1, sr=sampling_rate)\n",
    "        \n",
    "            rez_text = model_text.run(speech)\n",
    "        \n",
    "            path_a2 = name_n\n",
    "            t1 = time.time()\n",
    "            speech, sr = librosa.load(path_a2, sr=sampling_rate)\n",
    "            \n",
    "            rez_text_n = model_text.run(speech) \n",
    "        \n",
    "            path_a3 = name\n",
    "            t1 = time.time()\n",
    "            speech, sr = librosa.load(path_a3, sr=sampling_rate)\n",
    "            \n",
    "            rez_text_dn = model_text.run(speech)\n",
    "            # print(path_a1, rez_text, '\\n',path_a3, rez_text_dn[0], '\\n', path_a2, rez_text_n[0])\n",
    "            list_rez.append([model, path_a1,path_a3, path_a2, rez_text, rez_text_dn, rez_text_n, text_ideal, em_ideal ])\n",
    "            print(end='.')\n",
    "        except:\n",
    "            # print('error: ',name)\n",
    "            list_problem.append([model, name])\n",
    "            "
   ]
  },
  {
   "cell_type": "code",
   "execution_count": 26,
   "id": "f5c0e6d4-c9e1-472e-a9c4-878e2d6a89bc",
   "metadata": {},
   "outputs": [
    {
     "data": {
      "text/html": [
       "<div>\n",
       "<style scoped>\n",
       "    .dataframe tbody tr th:only-of-type {\n",
       "        vertical-align: middle;\n",
       "    }\n",
       "\n",
       "    .dataframe tbody tr th {\n",
       "        vertical-align: top;\n",
       "    }\n",
       "\n",
       "    .dataframe thead th {\n",
       "        text-align: right;\n",
       "    }\n",
       "</style>\n",
       "<table border=\"1\" class=\"dataframe\">\n",
       "  <thead>\n",
       "    <tr style=\"text-align: right;\">\n",
       "      <th></th>\n",
       "      <th>model</th>\n",
       "      <th>name</th>\n",
       "      <th>name2</th>\n",
       "      <th>name2</th>\n",
       "      <th>ideal</th>\n",
       "      <th>dn</th>\n",
       "      <th>n</th>\n",
       "      <th>text</th>\n",
       "      <th>em</th>\n",
       "    </tr>\n",
       "  </thead>\n",
       "  <tbody>\n",
       "    <tr>\n",
       "      <th>0</th>\n",
       "      <td>anton-l/wav2vec2-large-xlsr-53-russian</td>\n",
       "      <td>../dataset/RESD_csv/train/sadness_anger_39/39_...</td>\n",
       "      <td>../шумоподавление/DTLN_output/DTLN_39_sadness_...</td>\n",
       "      <td>../шумоподавление/Noisereduce_output/Noiseredu...</td>\n",
       "      <td>ну он уже не дышат все что ом не дихать</td>\n",
       "      <td>имому он же не упелетшат ысокачто в нейти ати</td>\n",
       "      <td>дему он уже прешать все ключтон и тиати</td>\n",
       "      <td>Он уже не дышит. Что мне делать?</td>\n",
       "      <td>sadness</td>\n",
       "    </tr>\n",
       "    <tr>\n",
       "      <th>1</th>\n",
       "      <td>anton-l/wav2vec2-large-xlsr-53-russian</td>\n",
       "      <td>../dataset/RESD_csv/train/sadness_happiness_49...</td>\n",
       "      <td>../шумоподавление/DTLN_output/DTLN_49_sadness_...</td>\n",
       "      <td>../шумоподавление/Noisereduce_output/Noiseredu...</td>\n",
       "      <td>я сейчас помою и отдам тебе если тебе что то н...</td>\n",
       "      <td>я сейчас помою и отдам тебе если тебе что то н...</td>\n",
       "      <td>я сейчас помою и отдамцяесли тебе что то не ус...</td>\n",
       "      <td>Я сейчас помою и отдам тебе, если тебя что-то ...</td>\n",
       "      <td>happiness</td>\n",
       "    </tr>\n",
       "    <tr>\n",
       "      <th>2</th>\n",
       "      <td>anton-l/wav2vec2-large-xlsr-53-russian</td>\n",
       "      <td>../dataset/RESD_csv/train/02_anger_sadness/02_...</td>\n",
       "      <td>../шумоподавление/DTLN_output/DTLN_02_anger_sa...</td>\n",
       "      <td>../шумоподавление/Noisereduce_output/Noiseredu...</td>\n",
       "      <td>не ужили дольшь анна ивановна семьдесят лет он...</td>\n",
       "      <td>не ужили дольше анна ивановнаявлет всемьдесятв...</td>\n",
       "      <td>не ужил дольшеанна ивановска семьдесят леттаб ...</td>\n",
       "      <td>Неужели дольше? Анна Ивановна 70 лет. Она дела...</td>\n",
       "      <td>anger</td>\n",
       "    </tr>\n",
       "    <tr>\n",
       "      <th>3</th>\n",
       "      <td>anton-l/wav2vec2-large-xlsr-53-russian</td>\n",
       "      <td>../dataset/RESD_csv/train/sadness_disgust_33/3...</td>\n",
       "      <td>../шумоподавление/DTLN_output/DTLN_33_sadness_...</td>\n",
       "      <td>../шумоподавление/Noisereduce_output/Noiseredu...</td>\n",
       "      <td>манали что то захотил</td>\n",
       "      <td>малады ресчитыт за потел</td>\n",
       "      <td>нада решь ит это потил</td>\n",
       "      <td>Мало ли что ты захотел</td>\n",
       "      <td>disgust</td>\n",
       "    </tr>\n",
       "    <tr>\n",
       "      <th>4</th>\n",
       "      <td>anton-l/wav2vec2-large-xlsr-53-russian</td>\n",
       "      <td>../dataset/RESD_csv/train/05_neutral_fear/05_n...</td>\n",
       "      <td>../шумоподавление/DTLN_output/DTLN_05_neutral_...</td>\n",
       "      <td>../шумоподавление/Noisereduce_output/Noiseredu...</td>\n",
       "      <td>да они всегда вечером плохо ходят</td>\n",
       "      <td>и всегда вечером плохо ходит</td>\n",
       "      <td>да они всегда вечером плохо ходет</td>\n",
       "      <td>Да, они всегда вечером плохо ходят.</td>\n",
       "      <td>neutral</td>\n",
       "    </tr>\n",
       "  </tbody>\n",
       "</table>\n",
       "</div>"
      ],
      "text/plain": [
       "                                    model  \\\n",
       "0  anton-l/wav2vec2-large-xlsr-53-russian   \n",
       "1  anton-l/wav2vec2-large-xlsr-53-russian   \n",
       "2  anton-l/wav2vec2-large-xlsr-53-russian   \n",
       "3  anton-l/wav2vec2-large-xlsr-53-russian   \n",
       "4  anton-l/wav2vec2-large-xlsr-53-russian   \n",
       "\n",
       "                                                name  \\\n",
       "0  ../dataset/RESD_csv/train/sadness_anger_39/39_...   \n",
       "1  ../dataset/RESD_csv/train/sadness_happiness_49...   \n",
       "2  ../dataset/RESD_csv/train/02_anger_sadness/02_...   \n",
       "3  ../dataset/RESD_csv/train/sadness_disgust_33/3...   \n",
       "4  ../dataset/RESD_csv/train/05_neutral_fear/05_n...   \n",
       "\n",
       "                                               name2  \\\n",
       "0  ../шумоподавление/DTLN_output/DTLN_39_sadness_...   \n",
       "1  ../шумоподавление/DTLN_output/DTLN_49_sadness_...   \n",
       "2  ../шумоподавление/DTLN_output/DTLN_02_anger_sa...   \n",
       "3  ../шумоподавление/DTLN_output/DTLN_33_sadness_...   \n",
       "4  ../шумоподавление/DTLN_output/DTLN_05_neutral_...   \n",
       "\n",
       "                                               name2  \\\n",
       "0  ../шумоподавление/Noisereduce_output/Noiseredu...   \n",
       "1  ../шумоподавление/Noisereduce_output/Noiseredu...   \n",
       "2  ../шумоподавление/Noisereduce_output/Noiseredu...   \n",
       "3  ../шумоподавление/Noisereduce_output/Noiseredu...   \n",
       "4  ../шумоподавление/Noisereduce_output/Noiseredu...   \n",
       "\n",
       "                                               ideal  \\\n",
       "0            ну он уже не дышат все что ом не дихать   \n",
       "1  я сейчас помою и отдам тебе если тебе что то н...   \n",
       "2  не ужили дольшь анна ивановна семьдесят лет он...   \n",
       "3                              манали что то захотил   \n",
       "4                  да они всегда вечером плохо ходят   \n",
       "\n",
       "                                                  dn  \\\n",
       "0      имому он же не упелетшат ысокачто в нейти ати   \n",
       "1  я сейчас помою и отдам тебе если тебе что то н...   \n",
       "2  не ужили дольше анна ивановнаявлет всемьдесятв...   \n",
       "3                           малады ресчитыт за потел   \n",
       "4                       и всегда вечером плохо ходит   \n",
       "\n",
       "                                                   n  \\\n",
       "0            дему он уже прешать все ключтон и тиати   \n",
       "1  я сейчас помою и отдамцяесли тебе что то не ус...   \n",
       "2  не ужил дольшеанна ивановска семьдесят леттаб ...   \n",
       "3                             нада решь ит это потил   \n",
       "4                  да они всегда вечером плохо ходет   \n",
       "\n",
       "                                                text         em  \n",
       "0                   Он уже не дышит. Что мне делать?    sadness  \n",
       "1  Я сейчас помою и отдам тебе, если тебя что-то ...  happiness  \n",
       "2  Неужели дольше? Анна Ивановна 70 лет. Она дела...      anger  \n",
       "3                             Мало ли что ты захотел    disgust  \n",
       "4                Да, они всегда вечером плохо ходят.    neutral  "
      ]
     },
     "execution_count": 26,
     "metadata": {},
     "output_type": "execute_result"
    }
   ],
   "source": [
    "df_rez = pd.DataFrame(list_rez, columns=['model','name', 'name2', 'name2', 'ideal', 'dn', 'n', 'text', 'em',])\n",
    "df_rez.head()"
   ]
  },
  {
   "cell_type": "markdown",
   "id": "14d969ae-04d6-41e0-942c-355468891d9c",
   "metadata": {},
   "source": [
    "### Сборка ответов в датафрейм"
   ]
  },
  {
   "cell_type": "code",
   "execution_count": 27,
   "id": "399ac1fc-8cc4-4e0e-adb4-f027d29ba77c",
   "metadata": {},
   "outputs": [],
   "source": [
    "df_rez.to_csv('speech_noise_text.csv')"
   ]
  },
  {
   "cell_type": "markdown",
   "id": "ce4c2c67-bd40-4edf-8412-6682b1fb2967",
   "metadata": {},
   "source": [
    "## 3. Очистка и анализ\n",
    "\n",
    "\n",
    " - Загружаем датафрейм с результатами"
   ]
  },
  {
   "cell_type": "code",
   "execution_count": 28,
   "id": "10f7a11a-10d0-48d9-91b9-7e66f24e7da1",
   "metadata": {},
   "outputs": [],
   "source": [
    "def calculate_wer(reference, hypothesis):\n",
    "\tref_words = reference.split()\n",
    "\thyp_words = hypothesis.split()\n",
    "\t# Counting the number of substitutions, deletions, and insertions\n",
    "\tsubstitutions = sum(1 for ref, hyp in zip(ref_words, hyp_words) if ref != hyp)\n",
    "\tdeletions = len(ref_words) - len(hyp_words)\n",
    "\tinsertions = len(hyp_words) - len(ref_words)\n",
    "\t# Total number of words in the reference text\n",
    "\ttotal_words = len(ref_words)\n",
    "\t# Calculating the Word Error Rate (WER)\n",
    "\twer = (substitutions + deletions + insertions) / total_words\n",
    "\treturn wer"
   ]
  },
  {
   "cell_type": "code",
   "execution_count": 31,
   "id": "eeb0df59-e713-4a9b-b57e-81d2b853acdb",
   "metadata": {},
   "outputs": [
    {
     "data": {
      "text/html": [
       "<div>\n",
       "<style scoped>\n",
       "    .dataframe tbody tr th:only-of-type {\n",
       "        vertical-align: middle;\n",
       "    }\n",
       "\n",
       "    .dataframe tbody tr th {\n",
       "        vertical-align: top;\n",
       "    }\n",
       "\n",
       "    .dataframe thead th {\n",
       "        text-align: right;\n",
       "    }\n",
       "</style>\n",
       "<table border=\"1\" class=\"dataframe\">\n",
       "  <thead>\n",
       "    <tr style=\"text-align: right;\">\n",
       "      <th></th>\n",
       "      <th>model</th>\n",
       "      <th>name</th>\n",
       "      <th>name2</th>\n",
       "      <th>name2.1</th>\n",
       "      <th>ideal</th>\n",
       "      <th>dn</th>\n",
       "      <th>n</th>\n",
       "      <th>text</th>\n",
       "      <th>em</th>\n",
       "    </tr>\n",
       "  </thead>\n",
       "  <tbody>\n",
       "    <tr>\n",
       "      <th>0</th>\n",
       "      <td>anton-l/wav2vec2-large-xlsr-53-russian</td>\n",
       "      <td>../dataset/RESD_csv/train/sadness_anger_39/39_...</td>\n",
       "      <td>../шумоподавление/DTLN_output/DTLN_39_sadness_...</td>\n",
       "      <td>../шумоподавление/Noisereduce_output/Noiseredu...</td>\n",
       "      <td>ну он уже не дышат все что ом не дихать</td>\n",
       "      <td>имому он же не упелетшат ысокачто в нейти ати</td>\n",
       "      <td>дему он уже прешать все ключтон и тиати</td>\n",
       "      <td>Он уже не дышит. Что мне делать?</td>\n",
       "      <td>sadness</td>\n",
       "    </tr>\n",
       "    <tr>\n",
       "      <th>1</th>\n",
       "      <td>anton-l/wav2vec2-large-xlsr-53-russian</td>\n",
       "      <td>../dataset/RESD_csv/train/sadness_happiness_49...</td>\n",
       "      <td>../шумоподавление/DTLN_output/DTLN_49_sadness_...</td>\n",
       "      <td>../шумоподавление/Noisereduce_output/Noiseredu...</td>\n",
       "      <td>я сейчас помою и отдам тебе если тебе что то н...</td>\n",
       "      <td>я сейчас помою и отдам тебе если тебе что то н...</td>\n",
       "      <td>я сейчас помою и отдамцяесли тебе что то не ус...</td>\n",
       "      <td>Я сейчас помою и отдам тебе, если тебя что-то ...</td>\n",
       "      <td>happiness</td>\n",
       "    </tr>\n",
       "    <tr>\n",
       "      <th>2</th>\n",
       "      <td>anton-l/wav2vec2-large-xlsr-53-russian</td>\n",
       "      <td>../dataset/RESD_csv/train/02_anger_sadness/02_...</td>\n",
       "      <td>../шумоподавление/DTLN_output/DTLN_02_anger_sa...</td>\n",
       "      <td>../шумоподавление/Noisereduce_output/Noiseredu...</td>\n",
       "      <td>не ужили дольшь анна ивановна семьдесят лет он...</td>\n",
       "      <td>не ужили дольше анна ивановнаявлет всемьдесятв...</td>\n",
       "      <td>не ужил дольшеанна ивановска семьдесят леттаб ...</td>\n",
       "      <td>Неужели дольше? Анна Ивановна 70 лет. Она дела...</td>\n",
       "      <td>anger</td>\n",
       "    </tr>\n",
       "    <tr>\n",
       "      <th>3</th>\n",
       "      <td>anton-l/wav2vec2-large-xlsr-53-russian</td>\n",
       "      <td>../dataset/RESD_csv/train/sadness_disgust_33/3...</td>\n",
       "      <td>../шумоподавление/DTLN_output/DTLN_33_sadness_...</td>\n",
       "      <td>../шумоподавление/Noisereduce_output/Noiseredu...</td>\n",
       "      <td>манали что то захотил</td>\n",
       "      <td>малады ресчитыт за потел</td>\n",
       "      <td>нада решь ит это потил</td>\n",
       "      <td>Мало ли что ты захотел</td>\n",
       "      <td>disgust</td>\n",
       "    </tr>\n",
       "    <tr>\n",
       "      <th>4</th>\n",
       "      <td>anton-l/wav2vec2-large-xlsr-53-russian</td>\n",
       "      <td>../dataset/RESD_csv/train/05_neutral_fear/05_n...</td>\n",
       "      <td>../шумоподавление/DTLN_output/DTLN_05_neutral_...</td>\n",
       "      <td>../шумоподавление/Noisereduce_output/Noiseredu...</td>\n",
       "      <td>да они всегда вечером плохо ходят</td>\n",
       "      <td>и всегда вечером плохо ходит</td>\n",
       "      <td>да они всегда вечером плохо ходет</td>\n",
       "      <td>Да, они всегда вечером плохо ходят.</td>\n",
       "      <td>neutral</td>\n",
       "    </tr>\n",
       "  </tbody>\n",
       "</table>\n",
       "</div>"
      ],
      "text/plain": [
       "                                    model  \\\n",
       "0  anton-l/wav2vec2-large-xlsr-53-russian   \n",
       "1  anton-l/wav2vec2-large-xlsr-53-russian   \n",
       "2  anton-l/wav2vec2-large-xlsr-53-russian   \n",
       "3  anton-l/wav2vec2-large-xlsr-53-russian   \n",
       "4  anton-l/wav2vec2-large-xlsr-53-russian   \n",
       "\n",
       "                                                name  \\\n",
       "0  ../dataset/RESD_csv/train/sadness_anger_39/39_...   \n",
       "1  ../dataset/RESD_csv/train/sadness_happiness_49...   \n",
       "2  ../dataset/RESD_csv/train/02_anger_sadness/02_...   \n",
       "3  ../dataset/RESD_csv/train/sadness_disgust_33/3...   \n",
       "4  ../dataset/RESD_csv/train/05_neutral_fear/05_n...   \n",
       "\n",
       "                                               name2  \\\n",
       "0  ../шумоподавление/DTLN_output/DTLN_39_sadness_...   \n",
       "1  ../шумоподавление/DTLN_output/DTLN_49_sadness_...   \n",
       "2  ../шумоподавление/DTLN_output/DTLN_02_anger_sa...   \n",
       "3  ../шумоподавление/DTLN_output/DTLN_33_sadness_...   \n",
       "4  ../шумоподавление/DTLN_output/DTLN_05_neutral_...   \n",
       "\n",
       "                                             name2.1  \\\n",
       "0  ../шумоподавление/Noisereduce_output/Noiseredu...   \n",
       "1  ../шумоподавление/Noisereduce_output/Noiseredu...   \n",
       "2  ../шумоподавление/Noisereduce_output/Noiseredu...   \n",
       "3  ../шумоподавление/Noisereduce_output/Noiseredu...   \n",
       "4  ../шумоподавление/Noisereduce_output/Noiseredu...   \n",
       "\n",
       "                                               ideal  \\\n",
       "0            ну он уже не дышат все что ом не дихать   \n",
       "1  я сейчас помою и отдам тебе если тебе что то н...   \n",
       "2  не ужили дольшь анна ивановна семьдесят лет он...   \n",
       "3                              манали что то захотил   \n",
       "4                  да они всегда вечером плохо ходят   \n",
       "\n",
       "                                                  dn  \\\n",
       "0      имому он же не упелетшат ысокачто в нейти ати   \n",
       "1  я сейчас помою и отдам тебе если тебе что то н...   \n",
       "2  не ужили дольше анна ивановнаявлет всемьдесятв...   \n",
       "3                           малады ресчитыт за потел   \n",
       "4                       и всегда вечером плохо ходит   \n",
       "\n",
       "                                                   n  \\\n",
       "0            дему он уже прешать все ключтон и тиати   \n",
       "1  я сейчас помою и отдамцяесли тебе что то не ус...   \n",
       "2  не ужил дольшеанна ивановска семьдесят леттаб ...   \n",
       "3                             нада решь ит это потил   \n",
       "4                  да они всегда вечером плохо ходет   \n",
       "\n",
       "                                                text         em  \n",
       "0                   Он уже не дышит. Что мне делать?    sadness  \n",
       "1  Я сейчас помою и отдам тебе, если тебя что-то ...  happiness  \n",
       "2  Неужели дольше? Анна Ивановна 70 лет. Она дела...      anger  \n",
       "3                             Мало ли что ты захотел    disgust  \n",
       "4                Да, они всегда вечером плохо ходят.    neutral  "
      ]
     },
     "execution_count": 31,
     "metadata": {},
     "output_type": "execute_result"
    }
   ],
   "source": [
    "df_rez = pd.read_csv('speech_noise_text.csv', index_col=0)\n",
    "df_rez.head()"
   ]
  },
  {
   "cell_type": "markdown",
   "id": "61b727d2-a2aa-40f1-8663-9c2615b85113",
   "metadata": {},
   "source": [
    "    - Список рабочих моделей (для которых есть результаты)"
   ]
  },
  {
   "cell_type": "code",
   "execution_count": 32,
   "id": "04756012-9dcd-4293-a6cf-2ffb198eb9c1",
   "metadata": {},
   "outputs": [
    {
     "data": {
      "text/plain": [
       "{'Shirali/whisper-small-ru',\n",
       " 'anton-l/wav2vec2-large-xlsr-53-russian',\n",
       " 'bond005/wav2vec2-large-ru-golos'}"
      ]
     },
     "execution_count": 32,
     "metadata": {},
     "output_type": "execute_result"
    }
   ],
   "source": [
    "list_ok_model = set(df_rez['model'].unique())\n",
    "list_ok_model"
   ]
  },
  {
   "cell_type": "code",
   "execution_count": 33,
   "id": "1231a5cc-bc5a-4fac-9879-0472f7870bf5",
   "metadata": {},
   "outputs": [
    {
     "data": {
      "text/plain": [
       "3"
      ]
     },
     "execution_count": 33,
     "metadata": {},
     "output_type": "execute_result"
    }
   ],
   "source": [
    "len(list_ok_model)"
   ]
  },
  {
   "cell_type": "markdown",
   "id": "4f7bf340-5a4e-42a6-a7a7-963f562df37f",
   "metadata": {},
   "source": [
    "    - Размер данных для анализа:"
   ]
  },
  {
   "cell_type": "code",
   "execution_count": 34,
   "id": "8fdd878e-7fbe-43c0-9d8b-92ed30c90432",
   "metadata": {},
   "outputs": [
    {
     "data": {
      "text/plain": [
       "(180, 9)"
      ]
     },
     "execution_count": 34,
     "metadata": {},
     "output_type": "execute_result"
    }
   ],
   "source": [
    "df_rez.shape"
   ]
  },
  {
   "cell_type": "code",
   "execution_count": 35,
   "id": "92c7101b-0201-440e-8133-2058b54e2fbc",
   "metadata": {},
   "outputs": [
    {
     "data": {
      "text/plain": [
       "em\n",
       "happiness     42\n",
       "sadness       36\n",
       "disgust       30\n",
       "fear          27\n",
       "enthusiasm    21\n",
       "neutral       18\n",
       "anger          6\n",
       "Name: count, dtype: int64"
      ]
     },
     "execution_count": 35,
     "metadata": {},
     "output_type": "execute_result"
    }
   ],
   "source": [
    "df_rez.em.value_counts()"
   ]
  },
  {
   "cell_type": "code",
   "execution_count": 36,
   "id": "966b0b88-1de5-44e0-a7fa-f6c47ffbfe27",
   "metadata": {},
   "outputs": [
    {
     "name": "stdout",
     "output_type": "stream",
     "text": [
      "anton-l/wav2vec2-large-xlsr-53-russian ****************\n",
      "60\n",
      "bond005/wav2vec2-large-ru-golos ****************\n",
      "60\n",
      "Shirali/whisper-small-ru ****************\n",
      "60\n"
     ]
    }
   ],
   "source": [
    "\n",
    "for model_name in list_ok_model:\n",
    "    df = df_rez.loc[df_rez.model == model_name,:]\n",
    "    print(model_name, '****************')\n",
    "    print(df.shape[0])"
   ]
  },
  {
   "cell_type": "markdown",
   "id": "c05b96c0-a0b6-4cb9-adb5-91890e2491cf",
   "metadata": {},
   "source": [
    "### Оценка метрик:WER"
   ]
  },
  {
   "cell_type": "code",
   "execution_count": 48,
   "id": "9cc6ec03-1b33-464a-8c34-17b1f9ac118d",
   "metadata": {},
   "outputs": [
    {
     "ename": "TypeError",
     "evalue": "ufunc 'isnan' not supported for the input types, and the inputs could not be safely coerced to any supported types according to the casting rule ''safe''",
     "output_type": "error",
     "traceback": [
      "\u001b[0;31m---------------------------------------------------------------------------\u001b[0m",
      "\u001b[0;31mTypeError\u001b[0m                                 Traceback (most recent call last)",
      "Cell \u001b[0;32mIn[48], line 1\u001b[0m\n\u001b[0;32m----> 1\u001b[0m \u001b[43mnp\u001b[49m\u001b[38;5;241;43m.\u001b[39;49m\u001b[43misnan\u001b[49m\u001b[43m(\u001b[49m\u001b[38;5;124;43m'\u001b[39;49m\u001b[38;5;124;43mffg\u001b[39;49m\u001b[38;5;124;43m'\u001b[39;49m\u001b[43m)\u001b[49m\n",
      "\u001b[0;31mTypeError\u001b[0m: ufunc 'isnan' not supported for the input types, and the inputs could not be safely coerced to any supported types according to the casting rule ''safe''"
     ]
    }
   ],
   "source": [
    "isinstance"
   ]
  },
  {
   "cell_type": "code",
   "execution_count": 37,
   "id": "d013e268-5e14-48aa-ab3c-21d94dea23f4",
   "metadata": {},
   "outputs": [
    {
     "data": {
      "text/plain": [
       "Index(['model', 'name', 'name2', 'name2.1', 'ideal', 'dn', 'n', 'text', 'em'], dtype='object')"
      ]
     },
     "execution_count": 37,
     "metadata": {},
     "output_type": "execute_result"
    }
   ],
   "source": [
    "df_rez.columns"
   ]
  },
  {
   "cell_type": "code",
   "execution_count": 63,
   "id": "994f438f-ead8-43c3-a3b7-0e9c2b513f25",
   "metadata": {},
   "outputs": [
    {
     "name": "stdout",
     "output_type": "stream",
     "text": [
      "anton-l/wav2vec2-large-xlsr-53-russian ****************\n",
      "bond005/wav2vec2-large-ru-golos ****************\n",
      "Shirali/whisper-small-ru ****************\n"
     ]
    }
   ],
   "source": [
    "wer_rez = []\n",
    "for model_name in list_ok_model:\n",
    "    df = df_rez.loc[df_rez.model == model_name,:]\n",
    "    print(model_name, '****************')\n",
    "    \n",
    "    for i in range(df.shape[0]):\n",
    "        tt = df.iloc[i,4:8].values\n",
    "        reference =  tt[-1]\n",
    "        list_a = []\n",
    "        for k in range(3):\n",
    "            hypothesis = tt[k] if isinstance(tt[k], type('str'))  else ''\n",
    "            list_a.append(calculate_wer(reference, hypothesis))\n",
    "        wer_rez.append([model_name] +list_a)\n"
   ]
  },
  {
   "cell_type": "code",
   "execution_count": 64,
   "id": "f541b550-6df4-47dc-8b12-9888c580ed8d",
   "metadata": {},
   "outputs": [
    {
     "data": {
      "text/html": [
       "<div>\n",
       "<style scoped>\n",
       "    .dataframe tbody tr th:only-of-type {\n",
       "        vertical-align: middle;\n",
       "    }\n",
       "\n",
       "    .dataframe tbody tr th {\n",
       "        vertical-align: top;\n",
       "    }\n",
       "\n",
       "    .dataframe thead th {\n",
       "        text-align: right;\n",
       "    }\n",
       "</style>\n",
       "<table border=\"1\" class=\"dataframe\">\n",
       "  <thead>\n",
       "    <tr style=\"text-align: right;\">\n",
       "      <th></th>\n",
       "      <th>model</th>\n",
       "      <th>ideal</th>\n",
       "      <th>dn</th>\n",
       "      <th>n</th>\n",
       "    </tr>\n",
       "  </thead>\n",
       "  <tbody>\n",
       "    <tr>\n",
       "      <th>0</th>\n",
       "      <td>anton-l/wav2vec2-large-xlsr-53-russian</td>\n",
       "      <td>1.000000</td>\n",
       "      <td>1.000000</td>\n",
       "      <td>1.000000</td>\n",
       "    </tr>\n",
       "    <tr>\n",
       "      <th>1</th>\n",
       "      <td>anton-l/wav2vec2-large-xlsr-53-russian</td>\n",
       "      <td>0.642857</td>\n",
       "      <td>0.642857</td>\n",
       "      <td>0.714286</td>\n",
       "    </tr>\n",
       "    <tr>\n",
       "      <th>2</th>\n",
       "      <td>anton-l/wav2vec2-large-xlsr-53-russian</td>\n",
       "      <td>1.000000</td>\n",
       "      <td>0.937500</td>\n",
       "      <td>0.937500</td>\n",
       "    </tr>\n",
       "    <tr>\n",
       "      <th>3</th>\n",
       "      <td>anton-l/wav2vec2-large-xlsr-53-russian</td>\n",
       "      <td>0.800000</td>\n",
       "      <td>0.800000</td>\n",
       "      <td>1.000000</td>\n",
       "    </tr>\n",
       "    <tr>\n",
       "      <th>4</th>\n",
       "      <td>anton-l/wav2vec2-large-xlsr-53-russian</td>\n",
       "      <td>0.333333</td>\n",
       "      <td>0.833333</td>\n",
       "      <td>0.333333</td>\n",
       "    </tr>\n",
       "    <tr>\n",
       "      <th>...</th>\n",
       "      <td>...</td>\n",
       "      <td>...</td>\n",
       "      <td>...</td>\n",
       "      <td>...</td>\n",
       "    </tr>\n",
       "    <tr>\n",
       "      <th>175</th>\n",
       "      <td>Shirali/whisper-small-ru</td>\n",
       "      <td>0.909091</td>\n",
       "      <td>0.727273</td>\n",
       "      <td>1.000000</td>\n",
       "    </tr>\n",
       "    <tr>\n",
       "      <th>176</th>\n",
       "      <td>Shirali/whisper-small-ru</td>\n",
       "      <td>1.000000</td>\n",
       "      <td>0.500000</td>\n",
       "      <td>1.000000</td>\n",
       "    </tr>\n",
       "    <tr>\n",
       "      <th>177</th>\n",
       "      <td>Shirali/whisper-small-ru</td>\n",
       "      <td>0.454545</td>\n",
       "      <td>0.727273</td>\n",
       "      <td>0.727273</td>\n",
       "    </tr>\n",
       "    <tr>\n",
       "      <th>178</th>\n",
       "      <td>Shirali/whisper-small-ru</td>\n",
       "      <td>0.909091</td>\n",
       "      <td>0.818182</td>\n",
       "      <td>1.000000</td>\n",
       "    </tr>\n",
       "    <tr>\n",
       "      <th>179</th>\n",
       "      <td>Shirali/whisper-small-ru</td>\n",
       "      <td>0.965517</td>\n",
       "      <td>0.551724</td>\n",
       "      <td>0.793103</td>\n",
       "    </tr>\n",
       "  </tbody>\n",
       "</table>\n",
       "<p>180 rows × 4 columns</p>\n",
       "</div>"
      ],
      "text/plain": [
       "                                      model     ideal        dn         n\n",
       "0    anton-l/wav2vec2-large-xlsr-53-russian  1.000000  1.000000  1.000000\n",
       "1    anton-l/wav2vec2-large-xlsr-53-russian  0.642857  0.642857  0.714286\n",
       "2    anton-l/wav2vec2-large-xlsr-53-russian  1.000000  0.937500  0.937500\n",
       "3    anton-l/wav2vec2-large-xlsr-53-russian  0.800000  0.800000  1.000000\n",
       "4    anton-l/wav2vec2-large-xlsr-53-russian  0.333333  0.833333  0.333333\n",
       "..                                      ...       ...       ...       ...\n",
       "175                Shirali/whisper-small-ru  0.909091  0.727273  1.000000\n",
       "176                Shirali/whisper-small-ru  1.000000  0.500000  1.000000\n",
       "177                Shirali/whisper-small-ru  0.454545  0.727273  0.727273\n",
       "178                Shirali/whisper-small-ru  0.909091  0.818182  1.000000\n",
       "179                Shirali/whisper-small-ru  0.965517  0.551724  0.793103\n",
       "\n",
       "[180 rows x 4 columns]"
      ]
     },
     "execution_count": 64,
     "metadata": {},
     "output_type": "execute_result"
    }
   ],
   "source": [
    "df_wer =  pd.DataFrame(wer_rez, columns=['model', 'ideal', 'dn', 'n'])\n",
    "df_wer"
   ]
  },
  {
   "cell_type": "code",
   "execution_count": 65,
   "id": "adb158e9-c033-4d4b-b2dd-6ddf7fe23f75",
   "metadata": {},
   "outputs": [],
   "source": [
    "WER_REZ = []\n",
    "df_wer = df_wer.dropna()\n",
    "for name in list_ok_model:\n",
    "    mean_model = df_wer.loc[df_wer.model == name, ['ideal', 'dn', 'n']].mean(axis=0)\n",
    "    WER_REZ.append([name] + mean_model.tolist() + [df_wer.loc[df_wer.model == name, ['ideal', 'dn', 'n']].shape[0]])"
   ]
  },
  {
   "cell_type": "code",
   "execution_count": 66,
   "id": "b55f6d31-2742-4e34-a788-e8a1efdb26bb",
   "metadata": {},
   "outputs": [
    {
     "data": {
      "text/html": [
       "<div>\n",
       "<style scoped>\n",
       "    .dataframe tbody tr th:only-of-type {\n",
       "        vertical-align: middle;\n",
       "    }\n",
       "\n",
       "    .dataframe tbody tr th {\n",
       "        vertical-align: top;\n",
       "    }\n",
       "\n",
       "    .dataframe thead th {\n",
       "        text-align: right;\n",
       "    }\n",
       "</style>\n",
       "<table border=\"1\" class=\"dataframe\">\n",
       "  <thead>\n",
       "    <tr style=\"text-align: right;\">\n",
       "      <th></th>\n",
       "      <th>model</th>\n",
       "      <th>ideal</th>\n",
       "      <th>dn</th>\n",
       "      <th>n</th>\n",
       "      <th>N</th>\n",
       "    </tr>\n",
       "  </thead>\n",
       "  <tbody>\n",
       "    <tr>\n",
       "      <th>0</th>\n",
       "      <td>anton-l/wav2vec2-large-xlsr-53-russian</td>\n",
       "      <td>0.717904</td>\n",
       "      <td>0.725476</td>\n",
       "      <td>0.715559</td>\n",
       "      <td>60</td>\n",
       "    </tr>\n",
       "    <tr>\n",
       "      <th>1</th>\n",
       "      <td>bond005/wav2vec2-large-ru-golos</td>\n",
       "      <td>0.630663</td>\n",
       "      <td>0.571637</td>\n",
       "      <td>0.545204</td>\n",
       "      <td>60</td>\n",
       "    </tr>\n",
       "    <tr>\n",
       "      <th>2</th>\n",
       "      <td>Shirali/whisper-small-ru</td>\n",
       "      <td>0.475716</td>\n",
       "      <td>0.529243</td>\n",
       "      <td>0.564664</td>\n",
       "      <td>60</td>\n",
       "    </tr>\n",
       "  </tbody>\n",
       "</table>\n",
       "</div>"
      ],
      "text/plain": [
       "                                    model     ideal        dn         n   N\n",
       "0  anton-l/wav2vec2-large-xlsr-53-russian  0.717904  0.725476  0.715559  60\n",
       "1         bond005/wav2vec2-large-ru-golos  0.630663  0.571637  0.545204  60\n",
       "2                Shirali/whisper-small-ru  0.475716  0.529243  0.564664  60"
      ]
     },
     "execution_count": 66,
     "metadata": {},
     "output_type": "execute_result"
    }
   ],
   "source": [
    "pd.DataFrame(WER_REZ, columns=['model', 'ideal', 'dn', 'n', 'N'])"
   ]
  },
  {
   "cell_type": "markdown",
   "id": "772e84b2-7f8e-4232-9364-651674bd47d1",
   "metadata": {},
   "source": [
    "Более адекватный вариант:"
   ]
  },
  {
   "cell_type": "code",
   "execution_count": 36,
   "id": "2b41d7b0-00f4-4005-909a-aa462dd68120",
   "metadata": {},
   "outputs": [],
   "source": [
    "from sklearn.metrics import classification_report, f1_score, accuracy_score"
   ]
  },
  {
   "cell_type": "code",
   "execution_count": 37,
   "id": "808ebc4d-b2a8-45b2-bd38-3fbec5091129",
   "metadata": {},
   "outputs": [
    {
     "name": "stdout",
     "output_type": "stream",
     "text": [
      "              precision    recall  f1-score   support\n",
      "\n",
      "       angry       0.88      0.90      0.89        31\n",
      "     neutral       0.88      0.93      0.91       258\n",
      "       other       0.75      0.60      0.67         5\n",
      "    positive       0.92      0.73      0.81        15\n",
      "         sad       0.91      0.85      0.88       193\n",
      "\n",
      "    accuracy                           0.89       502\n",
      "   macro avg       0.87      0.80      0.83       502\n",
      "weighted avg       0.89      0.89      0.89       502\n",
      "\n"
     ]
    }
   ],
   "source": [
    "print(classification_report(df.ground.values, df.new_m0.values))"
   ]
  },
  {
   "cell_type": "code",
   "execution_count": 38,
   "id": "62c89531-83a7-4914-a4a3-9ff810600115",
   "metadata": {},
   "outputs": [
    {
     "data": {
      "text/plain": [
       "0.8896643196605611"
      ]
     },
     "execution_count": 38,
     "metadata": {},
     "output_type": "execute_result"
    }
   ],
   "source": [
    "f1_score(df.ground.values , df.new_m0.values, average='weighted')"
   ]
  },
  {
   "cell_type": "code",
   "execution_count": 39,
   "id": "97ba2638-ccc7-4743-a8b3-0b067db5f90a",
   "metadata": {},
   "outputs": [
    {
     "name": "stdout",
     "output_type": "stream",
     "text": [
      "Aniemore/wav2vec2-emotion-russian-resd ****************\n",
      "Aniemore/hubert-emotion-russian-resd ****************\n",
      "Aniemore/wavlm-emotion-russian-resd ****************\n",
      "Aniemore/unispeech-sat-emotion-russian-resd ****************\n",
      "KELONMYOSA/wav2vec2-xls-r-300m-emotion-ru ****************\n"
     ]
    },
    {
     "data": {
      "text/html": [
       "<div>\n",
       "<style scoped>\n",
       "    .dataframe tbody tr th:only-of-type {\n",
       "        vertical-align: middle;\n",
       "    }\n",
       "\n",
       "    .dataframe tbody tr th {\n",
       "        vertical-align: top;\n",
       "    }\n",
       "\n",
       "    .dataframe thead th {\n",
       "        text-align: right;\n",
       "    }\n",
       "</style>\n",
       "<table border=\"1\" class=\"dataframe\">\n",
       "  <thead>\n",
       "    <tr style=\"text-align: right;\">\n",
       "      <th></th>\n",
       "      <th>model</th>\n",
       "      <th>dataset</th>\n",
       "      <th>acc0</th>\n",
       "      <th>acc1</th>\n",
       "      <th>f1</th>\n",
       "      <th>t</th>\n",
       "    </tr>\n",
       "  </thead>\n",
       "  <tbody>\n",
       "    <tr>\n",
       "      <th>0</th>\n",
       "      <td>Aniemore/wav2vec2-emotion-russian-resd</td>\n",
       "      <td>DUSHA</td>\n",
       "      <td>0.101594</td>\n",
       "      <td>0.149402</td>\n",
       "      <td>0.110919</td>\n",
       "      <td>2.770510</td>\n",
       "    </tr>\n",
       "    <tr>\n",
       "      <th>1</th>\n",
       "      <td>Aniemore/hubert-emotion-russian-resd</td>\n",
       "      <td>DUSHA</td>\n",
       "      <td>0.217131</td>\n",
       "      <td>0.436255</td>\n",
       "      <td>0.305991</td>\n",
       "      <td>2.530516</td>\n",
       "    </tr>\n",
       "    <tr>\n",
       "      <th>2</th>\n",
       "      <td>Aniemore/wavlm-emotion-russian-resd</td>\n",
       "      <td>DUSHA</td>\n",
       "      <td>0.229084</td>\n",
       "      <td>0.322709</td>\n",
       "      <td>0.319163</td>\n",
       "      <td>1.988178</td>\n",
       "    </tr>\n",
       "    <tr>\n",
       "      <th>3</th>\n",
       "      <td>Aniemore/unispeech-sat-emotion-russian-resd</td>\n",
       "      <td>DUSHA</td>\n",
       "      <td>0.356574</td>\n",
       "      <td>0.342629</td>\n",
       "      <td>0.430552</td>\n",
       "      <td>2.920435</td>\n",
       "    </tr>\n",
       "    <tr>\n",
       "      <th>4</th>\n",
       "      <td>KELONMYOSA/wav2vec2-xls-r-300m-emotion-ru</td>\n",
       "      <td>DUSHA</td>\n",
       "      <td>0.890438</td>\n",
       "      <td>0.029880</td>\n",
       "      <td>0.889664</td>\n",
       "      <td>2.659251</td>\n",
       "    </tr>\n",
       "  </tbody>\n",
       "</table>\n",
       "</div>"
      ],
      "text/plain": [
       "                                         model dataset      acc0      acc1  \\\n",
       "0       Aniemore/wav2vec2-emotion-russian-resd   DUSHA  0.101594  0.149402   \n",
       "1         Aniemore/hubert-emotion-russian-resd   DUSHA  0.217131  0.436255   \n",
       "2          Aniemore/wavlm-emotion-russian-resd   DUSHA  0.229084  0.322709   \n",
       "3  Aniemore/unispeech-sat-emotion-russian-resd   DUSHA  0.356574  0.342629   \n",
       "4    KELONMYOSA/wav2vec2-xls-r-300m-emotion-ru   DUSHA  0.890438  0.029880   \n",
       "\n",
       "         f1         t  \n",
       "0  0.110919  2.770510  \n",
       "1  0.305991  2.530516  \n",
       "2  0.319163  1.988178  \n",
       "3  0.430552  2.920435  \n",
       "4  0.889664  2.659251  "
      ]
     },
     "execution_count": 39,
     "metadata": {},
     "output_type": "execute_result"
    }
   ],
   "source": [
    "rez_model_score = []\n",
    "columns_rez = ['model','dataset', 'acc0', 'acc1', 'f1', 't']\n",
    "for model_name in model_list:\n",
    "    df = df_out.loc[df_out.model == model_name,:]\n",
    "    \n",
    "    acc0 = accuracy_score(df.ground.values , df.new_m0.values)\n",
    "    acc1 = accuracy_score(df.ground.values , df.new_m1.values)\n",
    "    f1 = f1_score(df.ground.values , df.new_m0.values, average='weighted')\n",
    "    print(model_name, '****************')\n",
    "    rez_model_score.append([model_name, 'DUSHA', acc0, acc1, f1 , np.mean(df.t)])\n",
    "rez_model_score_pd = pd.DataFrame(rez_model_score, columns=columns_rez)\n",
    "rez_model_score_pd.head()"
   ]
  },
  {
   "cell_type": "markdown",
   "id": "5a9839cd-1592-4a72-aab2-b3694fef5880",
   "metadata": {},
   "source": [
    "## 4. Вывод\n",
    "\n",
    "    - Аccuracy для KELONMYOSA/wav2vec2-xls-r-300m-emotion-ru - дал лучший результат, но он учился для этого датасета - результат сопоставим с результатом в карточке модели\n",
    "    - Аccuracy для Aniemore/unispeech-sat-emotion-russian-resd - лучший из вариантов Aniemore\n",
    "    - нужно проверить KELONMYOSA на resd"
   ]
  },
  {
   "cell_type": "code",
   "execution_count": 40,
   "id": "aea735b0-244a-4acb-9bb9-fcdf816fbd5b",
   "metadata": {},
   "outputs": [
    {
     "data": {
      "text/html": [
       "<div>\n",
       "<style scoped>\n",
       "    .dataframe tbody tr th:only-of-type {\n",
       "        vertical-align: middle;\n",
       "    }\n",
       "\n",
       "    .dataframe tbody tr th {\n",
       "        vertical-align: top;\n",
       "    }\n",
       "\n",
       "    .dataframe thead th {\n",
       "        text-align: right;\n",
       "    }\n",
       "</style>\n",
       "<table border=\"1\" class=\"dataframe\">\n",
       "  <thead>\n",
       "    <tr style=\"text-align: right;\">\n",
       "      <th></th>\n",
       "      <th>model</th>\n",
       "      <th>wav</th>\n",
       "      <th>ground</th>\n",
       "      <th>m0</th>\n",
       "      <th>s0</th>\n",
       "      <th>m1</th>\n",
       "      <th>s1</th>\n",
       "      <th>t</th>\n",
       "      <th>new_m0</th>\n",
       "      <th>new_m1</th>\n",
       "    </tr>\n",
       "  </thead>\n",
       "  <tbody>\n",
       "    <tr>\n",
       "      <th>0</th>\n",
       "      <td>Aniemore/wavlm-emotion-russian-resd</td>\n",
       "      <td>dataset/dusha/podcast_train/wavs/eac47d2886774...</td>\n",
       "      <td>sad</td>\n",
       "      <td>fear</td>\n",
       "      <td>0.527574</td>\n",
       "      <td>sadness</td>\n",
       "      <td>0.464834</td>\n",
       "      <td>1.988178</td>\n",
       "      <td>other</td>\n",
       "      <td>sad</td>\n",
       "    </tr>\n",
       "    <tr>\n",
       "      <th>1</th>\n",
       "      <td>Aniemore/wavlm-emotion-russian-resd</td>\n",
       "      <td>dataset/dusha/podcast_train/wavs/0f6231dcaeb74...</td>\n",
       "      <td>neutral</td>\n",
       "      <td>fear</td>\n",
       "      <td>0.722375</td>\n",
       "      <td>sadness</td>\n",
       "      <td>0.276071</td>\n",
       "      <td>1.988178</td>\n",
       "      <td>other</td>\n",
       "      <td>sad</td>\n",
       "    </tr>\n",
       "    <tr>\n",
       "      <th>2</th>\n",
       "      <td>Aniemore/wavlm-emotion-russian-resd</td>\n",
       "      <td>dataset/dusha/podcast_train/wavs/bee2345241659...</td>\n",
       "      <td>neutral</td>\n",
       "      <td>sadness</td>\n",
       "      <td>0.749593</td>\n",
       "      <td>fear</td>\n",
       "      <td>0.248569</td>\n",
       "      <td>1.988178</td>\n",
       "      <td>sad</td>\n",
       "      <td>other</td>\n",
       "    </tr>\n",
       "    <tr>\n",
       "      <th>3</th>\n",
       "      <td>Aniemore/wavlm-emotion-russian-resd</td>\n",
       "      <td>dataset/dusha/podcast_train/wavs/a4b65036044fc...</td>\n",
       "      <td>angry</td>\n",
       "      <td>happiness</td>\n",
       "      <td>0.999034</td>\n",
       "      <td>enthusiasm</td>\n",
       "      <td>0.000642</td>\n",
       "      <td>1.988178</td>\n",
       "      <td>positive</td>\n",
       "      <td>positive</td>\n",
       "    </tr>\n",
       "    <tr>\n",
       "      <th>4</th>\n",
       "      <td>Aniemore/wavlm-emotion-russian-resd</td>\n",
       "      <td>dataset/dusha/podcast_train/wavs/2124ca527a2db...</td>\n",
       "      <td>neutral</td>\n",
       "      <td>fear</td>\n",
       "      <td>0.999496</td>\n",
       "      <td>enthusiasm</td>\n",
       "      <td>0.000248</td>\n",
       "      <td>1.988178</td>\n",
       "      <td>other</td>\n",
       "      <td>positive</td>\n",
       "    </tr>\n",
       "  </tbody>\n",
       "</table>\n",
       "</div>"
      ],
      "text/plain": [
       "                                 model  \\\n",
       "0  Aniemore/wavlm-emotion-russian-resd   \n",
       "1  Aniemore/wavlm-emotion-russian-resd   \n",
       "2  Aniemore/wavlm-emotion-russian-resd   \n",
       "3  Aniemore/wavlm-emotion-russian-resd   \n",
       "4  Aniemore/wavlm-emotion-russian-resd   \n",
       "\n",
       "                                                 wav   ground         m0  \\\n",
       "0  dataset/dusha/podcast_train/wavs/eac47d2886774...      sad       fear   \n",
       "1  dataset/dusha/podcast_train/wavs/0f6231dcaeb74...  neutral       fear   \n",
       "2  dataset/dusha/podcast_train/wavs/bee2345241659...  neutral    sadness   \n",
       "3  dataset/dusha/podcast_train/wavs/a4b65036044fc...    angry  happiness   \n",
       "4  dataset/dusha/podcast_train/wavs/2124ca527a2db...  neutral       fear   \n",
       "\n",
       "         s0          m1        s1         t    new_m0    new_m1  \n",
       "0  0.527574     sadness  0.464834  1.988178     other       sad  \n",
       "1  0.722375     sadness  0.276071  1.988178     other       sad  \n",
       "2  0.749593        fear  0.248569  1.988178       sad     other  \n",
       "3  0.999034  enthusiasm  0.000642  1.988178  positive  positive  \n",
       "4  0.999496  enthusiasm  0.000248  1.988178     other  positive  "
      ]
     },
     "execution_count": 40,
     "metadata": {},
     "output_type": "execute_result"
    }
   ],
   "source": [
    "df_out.loc[df_out.model == model_list[2],:].head()"
   ]
  },
  {
   "cell_type": "markdown",
   "id": "6e6c1fbf-8d60-4755-a389-2560b1e9aa2f",
   "metadata": {},
   "source": [
    "## 5. Содержание (граф модели, оазюор основного цикла исполнения):\n",
    "\n",
    "    - создаем модель:"
   ]
  },
  {
   "cell_type": "code",
   "execution_count": 41,
   "id": "7da90a10-55b6-4b53-996e-eed7897b300d",
   "metadata": {},
   "outputs": [
    {
     "name": "stderr",
     "output_type": "stream",
     "text": [
      "Some weights of the model checkpoint at Aniemore/wavlm-emotion-russian-resd were not used when initializing WavLMForSequenceClassification: ['wavlm.encoder.pos_conv_embed.conv.weight_g', 'wavlm.encoder.pos_conv_embed.conv.weight_v']\n",
      "- This IS expected if you are initializing WavLMForSequenceClassification from the checkpoint of a model trained on another task or with another architecture (e.g. initializing a BertForSequenceClassification model from a BertForPreTraining model).\n",
      "- This IS NOT expected if you are initializing WavLMForSequenceClassification from the checkpoint of a model that you expect to be exactly identical (initializing a BertForSequenceClassification model from a BertForSequenceClassification model).\n",
      "Some weights of WavLMForSequenceClassification were not initialized from the model checkpoint at Aniemore/wavlm-emotion-russian-resd and are newly initialized: ['wavlm.encoder.pos_conv_embed.conv.parametrizations.weight.original0', 'wavlm.encoder.pos_conv_embed.conv.parametrizations.weight.original1']\n",
      "You should probably TRAIN this model on a down-stream task to be able to use it for predictions and inference.\n"
     ]
    }
   ],
   "source": [
    "classifier = pipeline(\"audio-classification\", model=model_list[2], trust_remote_code=True)"
   ]
  },
  {
   "cell_type": "markdown",
   "id": "3ce5bf54-d0fe-408d-b580-4bc629e30271",
   "metadata": {},
   "source": [
    "    - открываем основную часть модели:"
   ]
  },
  {
   "cell_type": "code",
   "execution_count": 42,
   "id": "6af00b27-2981-449c-8d92-240278899cc8",
   "metadata": {},
   "outputs": [
    {
     "data": {
      "text/plain": [
       "WavLMForSequenceClassification(\n",
       "  (wavlm): WavLMModel(\n",
       "    (feature_extractor): WavLMFeatureEncoder(\n",
       "      (conv_layers): ModuleList(\n",
       "        (0): WavLMLayerNormConvLayer(\n",
       "          (conv): Conv1d(1, 512, kernel_size=(10,), stride=(5,), bias=False)\n",
       "          (layer_norm): LayerNorm((512,), eps=1e-05, elementwise_affine=True)\n",
       "          (activation): GELUActivation()\n",
       "        )\n",
       "        (1-4): 4 x WavLMLayerNormConvLayer(\n",
       "          (conv): Conv1d(512, 512, kernel_size=(3,), stride=(2,), bias=False)\n",
       "          (layer_norm): LayerNorm((512,), eps=1e-05, elementwise_affine=True)\n",
       "          (activation): GELUActivation()\n",
       "        )\n",
       "        (5-6): 2 x WavLMLayerNormConvLayer(\n",
       "          (conv): Conv1d(512, 512, kernel_size=(2,), stride=(2,), bias=False)\n",
       "          (layer_norm): LayerNorm((512,), eps=1e-05, elementwise_affine=True)\n",
       "          (activation): GELUActivation()\n",
       "        )\n",
       "      )\n",
       "    )\n",
       "    (feature_projection): WavLMFeatureProjection(\n",
       "      (layer_norm): LayerNorm((512,), eps=1e-05, elementwise_affine=True)\n",
       "      (projection): Linear(in_features=512, out_features=1024, bias=True)\n",
       "      (dropout): Dropout(p=0.05, inplace=False)\n",
       "    )\n",
       "    (encoder): WavLMEncoderStableLayerNorm(\n",
       "      (pos_conv_embed): WavLMPositionalConvEmbedding(\n",
       "        (conv): ParametrizedConv1d(\n",
       "          1024, 1024, kernel_size=(128,), stride=(1,), padding=(64,), groups=16\n",
       "          (parametrizations): ModuleDict(\n",
       "            (weight): ParametrizationList(\n",
       "              (0): _WeightNorm()\n",
       "            )\n",
       "          )\n",
       "        )\n",
       "        (padding): WavLMSamePadLayer()\n",
       "        (activation): GELUActivation()\n",
       "      )\n",
       "      (layer_norm): LayerNorm((1024,), eps=1e-05, elementwise_affine=True)\n",
       "      (dropout): Dropout(p=0.05, inplace=False)\n",
       "      (layers): ModuleList(\n",
       "        (0): WavLMEncoderLayerStableLayerNorm(\n",
       "          (attention): WavLMAttention(\n",
       "            (k_proj): Linear(in_features=1024, out_features=1024, bias=True)\n",
       "            (v_proj): Linear(in_features=1024, out_features=1024, bias=True)\n",
       "            (q_proj): Linear(in_features=1024, out_features=1024, bias=True)\n",
       "            (out_proj): Linear(in_features=1024, out_features=1024, bias=True)\n",
       "            (gru_rel_pos_linear): Linear(in_features=64, out_features=8, bias=True)\n",
       "            (rel_attn_embed): Embedding(320, 16)\n",
       "          )\n",
       "          (dropout): Dropout(p=0.05, inplace=False)\n",
       "          (layer_norm): LayerNorm((1024,), eps=1e-05, elementwise_affine=True)\n",
       "          (feed_forward): WavLMFeedForward(\n",
       "            (intermediate_dropout): Dropout(p=0.05, inplace=False)\n",
       "            (intermediate_dense): Linear(in_features=1024, out_features=4096, bias=True)\n",
       "            (intermediate_act_fn): GELUActivation()\n",
       "            (output_dense): Linear(in_features=4096, out_features=1024, bias=True)\n",
       "            (output_dropout): Dropout(p=0.05, inplace=False)\n",
       "          )\n",
       "          (final_layer_norm): LayerNorm((1024,), eps=1e-05, elementwise_affine=True)\n",
       "        )\n",
       "        (1-23): 23 x WavLMEncoderLayerStableLayerNorm(\n",
       "          (attention): WavLMAttention(\n",
       "            (k_proj): Linear(in_features=1024, out_features=1024, bias=True)\n",
       "            (v_proj): Linear(in_features=1024, out_features=1024, bias=True)\n",
       "            (q_proj): Linear(in_features=1024, out_features=1024, bias=True)\n",
       "            (out_proj): Linear(in_features=1024, out_features=1024, bias=True)\n",
       "            (gru_rel_pos_linear): Linear(in_features=64, out_features=8, bias=True)\n",
       "          )\n",
       "          (dropout): Dropout(p=0.05, inplace=False)\n",
       "          (layer_norm): LayerNorm((1024,), eps=1e-05, elementwise_affine=True)\n",
       "          (feed_forward): WavLMFeedForward(\n",
       "            (intermediate_dropout): Dropout(p=0.05, inplace=False)\n",
       "            (intermediate_dense): Linear(in_features=1024, out_features=4096, bias=True)\n",
       "            (intermediate_act_fn): GELUActivation()\n",
       "            (output_dense): Linear(in_features=4096, out_features=1024, bias=True)\n",
       "            (output_dropout): Dropout(p=0.05, inplace=False)\n",
       "          )\n",
       "          (final_layer_norm): LayerNorm((1024,), eps=1e-05, elementwise_affine=True)\n",
       "        )\n",
       "      )\n",
       "    )\n",
       "  )\n",
       "  (projector): Linear(in_features=1024, out_features=1024, bias=True)\n",
       "  (classifier): Linear(in_features=1024, out_features=7, bias=True)\n",
       ")"
      ]
     },
     "execution_count": 42,
     "metadata": {},
     "output_type": "execute_result"
    }
   ],
   "source": [
    "classifier.model"
   ]
  },
  {
   "cell_type": "code",
   "execution_count": null,
   "id": "36a16f56-3099-492c-821a-6291d69dbc8e",
   "metadata": {},
   "outputs": [],
   "source": []
  },
  {
   "cell_type": "markdown",
   "id": "e6daa238-1400-4198-9a5a-a201d04fc702",
   "metadata": {},
   "source": [
    "### препроцессинг данных"
   ]
  },
  {
   "cell_type": "code",
   "execution_count": 44,
   "id": "170305d4-449c-4cc8-a01e-753b9c3a1cdb",
   "metadata": {},
   "outputs": [
    {
     "data": {
      "text/plain": [
       "{'input_values': tensor([[-0.0036, -0.0134, -0.0169,  ...,  0.0203,  0.0119,  0.0077]]), 'attention_mask': tensor([[1, 1, 1,  ..., 1, 1, 1]], dtype=torch.int32)}"
      ]
     },
     "execution_count": 44,
     "metadata": {},
     "output_type": "execute_result"
    }
   ],
   "source": [
    "tr_pt = classifier.preprocess('dataset/RESD_train/032_happiness_enthusiasm_h_120')\n",
    "tr_pt"
   ]
  },
  {
   "cell_type": "markdown",
   "id": "aaa9e27a-baa3-44ce-a158-070a18aa3593",
   "metadata": {},
   "source": [
    "### исполнение модели"
   ]
  },
  {
   "cell_type": "code",
   "execution_count": 45,
   "id": "3c76d4d1-4881-45c5-9d23-99a135fac042",
   "metadata": {},
   "outputs": [
    {
     "data": {
      "text/plain": [
       "SequenceClassifierOutput(loss=None, logits=tensor([[-0.7961, -1.9680, -0.8598, -1.5010,  8.6319, -3.1188, -1.7019]],\n",
       "       grad_fn=<AddmmBackward0>), hidden_states=None, attentions=None)"
      ]
     },
     "execution_count": 45,
     "metadata": {},
     "output_type": "execute_result"
    }
   ],
   "source": [
    "tr_model = classifier.model(tr_pt['input_values'], tr_pt['attention_mask'])\n",
    "tr_model"
   ]
  },
  {
   "cell_type": "markdown",
   "id": "2902ff6c-6af4-4705-ab87-4016e787de99",
   "metadata": {},
   "source": [
    "### постпроцессинг"
   ]
  },
  {
   "cell_type": "code",
   "execution_count": 46,
   "id": "11970eba-69d6-4e03-87d8-09dc7c204ba4",
   "metadata": {},
   "outputs": [
    {
     "data": {
      "text/plain": [
       "[{'score': 0.9997391104698181, 'label': 'happiness'},\n",
       " {'score': 8.041437104111537e-05, 'label': 'anger'},\n",
       " {'score': 7.54516659071669e-05, 'label': 'enthusiasm'},\n",
       " {'score': 3.9740101783536375e-05, 'label': 'fear'},\n",
       " {'score': 3.250683221267536e-05, 'label': 'sadness'}]"
      ]
     },
     "execution_count": 46,
     "metadata": {},
     "output_type": "execute_result"
    }
   ],
   "source": [
    "tr_out = classifier.postprocess(tr_model)\n",
    "tr_out"
   ]
  },
  {
   "cell_type": "code",
   "execution_count": 69,
   "id": "0984338b-ef13-48f0-91e4-118c1bfd8766",
   "metadata": {},
   "outputs": [],
   "source": [
    "## 7.Кросс-проверка на RESD"
   ]
  },
  {
   "cell_type": "code",
   "execution_count": 47,
   "id": "e5428b57-118a-46d6-8570-662599494309",
   "metadata": {},
   "outputs": [
    {
     "data": {
      "text/html": [
       "<div>\n",
       "<style scoped>\n",
       "    .dataframe tbody tr th:only-of-type {\n",
       "        vertical-align: middle;\n",
       "    }\n",
       "\n",
       "    .dataframe tbody tr th {\n",
       "        vertical-align: top;\n",
       "    }\n",
       "\n",
       "    .dataframe thead th {\n",
       "        text-align: right;\n",
       "    }\n",
       "</style>\n",
       "<table border=\"1\" class=\"dataframe\">\n",
       "  <thead>\n",
       "    <tr style=\"text-align: right;\">\n",
       "      <th></th>\n",
       "      <th>name</th>\n",
       "      <th>path</th>\n",
       "      <th>emotion</th>\n",
       "      <th>text</th>\n",
       "    </tr>\n",
       "  </thead>\n",
       "  <tbody>\n",
       "    <tr>\n",
       "      <th>0</th>\n",
       "      <td>27_neutral_fear_n_100</td>\n",
       "      <td>neutral_fear_27/27_neutral_fear_n_100.wav</td>\n",
       "      <td>neutral</td>\n",
       "      <td>Вам дадут целый минимальный оклад, но при этом...</td>\n",
       "    </tr>\n",
       "    <tr>\n",
       "      <th>1</th>\n",
       "      <td>08_sadness_anger a_010</td>\n",
       "      <td>08_sadness_anger/08_sadness_anger a_010.wav</td>\n",
       "      <td>anger</td>\n",
       "      <td>Сколько можно звонить?</td>\n",
       "    </tr>\n",
       "    <tr>\n",
       "      <th>2</th>\n",
       "      <td>26_enthusiasm_happiness_e_120</td>\n",
       "      <td>enthusiasm_happiness_26/26_enthusiasm_happines...</td>\n",
       "      <td>enthusiasm</td>\n",
       "      <td>А как долго тебе нужно это всё узнавать?</td>\n",
       "    </tr>\n",
       "    <tr>\n",
       "      <th>3</th>\n",
       "      <td>42_anger_fear_a_190</td>\n",
       "      <td>anger_fear_42/42_anger_fear_a_190.wav</td>\n",
       "      <td>anger</td>\n",
       "      <td>Ну а мне в 5 часов вставать на работу!</td>\n",
       "    </tr>\n",
       "    <tr>\n",
       "      <th>4</th>\n",
       "      <td>04_fear_enthusiasm f_090</td>\n",
       "      <td>04_fear_enthusiasm/04_fear_enthusiasm f_090.wav</td>\n",
       "      <td>fear</td>\n",
       "      <td>Честно, я не подскажу, ну как и обычно, любым ...</td>\n",
       "    </tr>\n",
       "  </tbody>\n",
       "</table>\n",
       "</div>"
      ],
      "text/plain": [
       "                            name  \\\n",
       "0          27_neutral_fear_n_100   \n",
       "1         08_sadness_anger a_010   \n",
       "2  26_enthusiasm_happiness_e_120   \n",
       "3            42_anger_fear_a_190   \n",
       "4       04_fear_enthusiasm f_090   \n",
       "\n",
       "                                                path     emotion  \\\n",
       "0          neutral_fear_27/27_neutral_fear_n_100.wav     neutral   \n",
       "1        08_sadness_anger/08_sadness_anger a_010.wav       anger   \n",
       "2  enthusiasm_happiness_26/26_enthusiasm_happines...  enthusiasm   \n",
       "3              anger_fear_42/42_anger_fear_a_190.wav       anger   \n",
       "4    04_fear_enthusiasm/04_fear_enthusiasm f_090.wav        fear   \n",
       "\n",
       "                                                text  \n",
       "0  Вам дадут целый минимальный оклад, но при этом...  \n",
       "1                             Сколько можно звонить?  \n",
       "2           А как долго тебе нужно это всё узнавать?  \n",
       "3             Ну а мне в 5 часов вставать на работу!  \n",
       "4  Честно, я не подскажу, ну как и обычно, любым ...  "
      ]
     },
     "execution_count": 47,
     "metadata": {},
     "output_type": "execute_result"
    }
   ],
   "source": [
    "df_resd.head()"
   ]
  },
  {
   "cell_type": "code",
   "execution_count": 134,
   "id": "8cae6d65-ba7e-4ec0-b897-a0bcea8a4dea",
   "metadata": {},
   "outputs": [
    {
     "data": {
      "text/plain": [
       "(280, 4)"
      ]
     },
     "execution_count": 134,
     "metadata": {},
     "output_type": "execute_result"
    }
   ],
   "source": [
    "df_resd.shape"
   ]
  },
  {
   "cell_type": "markdown",
   "id": "c535095a-9e95-4b1c-8388-3e3e860e328b",
   "metadata": {},
   "source": [
    "### подгоняем данные под удобный нам вариант (сохраняем в файлы)"
   ]
  },
  {
   "cell_type": "code",
   "execution_count": 37,
   "id": "12cc5b99-e2fa-4775-b045-76ed872f115b",
   "metadata": {},
   "outputs": [],
   "source": [
    "# import scipy.io.wavfile as wavf\n",
    "# import numpy as np\n",
    "\n",
    "\n",
    " \n",
    "# for i in range(df_resd.shape[0]):\n",
    "#     try:\n",
    "#         wav_name = df_resd.name.iloc[i]\n",
    "#         speech = df_resd.speech.iloc[i]\n",
    "#         samples = speech['array']\n",
    "#         fs = speech['sampling_rate']\n",
    "#         out_f = 'dataset/RESD/' + str(i) + wav_name\n",
    "#         wavf.write(out_f, fs, samples)\n",
    "#     except:\n",
    "#         print('error')\n",
    "   "
   ]
  },
  {
   "cell_type": "code",
   "execution_count": null,
   "id": "b5cac143-8acd-4c88-8eeb-718b5c039064",
   "metadata": {},
   "outputs": [],
   "source": [
    "# rez_resd = [] \n",
    "# for model_name in model_list:\n",
    "#     try:\n",
    "#         t1 = time.time()\n",
    "#         classifier = pipeline(\"audio-classification\", model=model_name, trust_remote_code=True)\n",
    "#         t1 = time.time() -  t1\n",
    "#         for i in range(0,df_resd.shape[0],3):\n",
    "#             try:\n",
    "#                 wav_name = df_resd.name.iloc[i]\n",
    "#                 # speech = df_resd.speech.iloc[i]\n",
    "#                 # samples = speech['array']\n",
    "#                 # fs = speech['sampling_rate']\n",
    "#                 out_f =  'dataset/RESD/' + str(i) + wav_name\n",
    "#                 t1 = time.time()\n",
    "#                 label_pred = classifier(out_f)\n",
    "#                 t1 = time.time() -  t1\n",
    "                \n",
    "#                 rez_model_s = [ ss['score'] for ss in label_pred]\n",
    "#                 k = np.argmax(rez_model_s)\n",
    "                \n",
    "#                 label_true = df_resd.emotion.iloc[i]\n",
    "#                 rez_resd.append([i, wav_name, label_pred[k]['label'],label_true,label_pred, t1 ]) \n",
    "#                 # break\n",
    "#             except:\n",
    "#                 pass\n",
    "#     except:\n",
    "#         print('model error')"
   ]
  },
  {
   "cell_type": "markdown",
   "id": "085b9a7b-96c1-4fc5-b9f1-d18550c915d5",
   "metadata": {},
   "source": [
    "### делаем анализ"
   ]
  },
  {
   "cell_type": "code",
   "execution_count": 104,
   "id": "d5c82c3e-ec9b-424a-bd56-ab98ebaee667",
   "metadata": {},
   "outputs": [
    {
     "name": "stderr",
     "output_type": "stream",
     "text": [
      "Some weights of Wav2Vec2ForSpeechClassification were not initialized from the model checkpoint at Aniemore/wav2vec2-emotion-russian-resd and are newly initialized: ['classifier.dense.bias', 'classifier.dense.weight', 'classifier.out_proj.weight', 'wav2vec2.encoder.pos_conv_embed.conv.parametrizations.weight.original0', 'classifier.out_proj.bias', 'wav2vec2.encoder.pos_conv_embed.conv.parametrizations.weight.original1']\n",
      "You should probably TRAIN this model on a down-stream task to be able to use it for predictions and inference.\n",
      "Could not load the `decoder` for Aniemore/wav2vec2-emotion-russian-resd. Defaulting to raw CTC. Error: No module named 'kenlm'\n",
      "Try to install `kenlm`: `pip install kenlm\n",
      "Try to install `pyctcdecode`: `pip install pyctcdecode\n",
      "Some weights of the model checkpoint at Aniemore/hubert-emotion-russian-resd were not used when initializing HubertForSequenceClassification: ['hubert.encoder.pos_conv_embed.conv.weight_v', 'hubert.encoder.pos_conv_embed.conv.weight_g']\n",
      "- This IS expected if you are initializing HubertForSequenceClassification from the checkpoint of a model trained on another task or with another architecture (e.g. initializing a BertForSequenceClassification model from a BertForPreTraining model).\n",
      "- This IS NOT expected if you are initializing HubertForSequenceClassification from the checkpoint of a model that you expect to be exactly identical (initializing a BertForSequenceClassification model from a BertForSequenceClassification model).\n",
      "Some weights of HubertForSequenceClassification were not initialized from the model checkpoint at Aniemore/hubert-emotion-russian-resd and are newly initialized: ['hubert.encoder.pos_conv_embed.conv.parametrizations.weight.original1', 'hubert.encoder.pos_conv_embed.conv.parametrizations.weight.original0']\n",
      "You should probably TRAIN this model on a down-stream task to be able to use it for predictions and inference.\n",
      "Some weights of the model checkpoint at Aniemore/wavlm-emotion-russian-resd were not used when initializing WavLMForSequenceClassification: ['wavlm.encoder.pos_conv_embed.conv.weight_g', 'wavlm.encoder.pos_conv_embed.conv.weight_v']\n",
      "- This IS expected if you are initializing WavLMForSequenceClassification from the checkpoint of a model trained on another task or with another architecture (e.g. initializing a BertForSequenceClassification model from a BertForPreTraining model).\n",
      "- This IS NOT expected if you are initializing WavLMForSequenceClassification from the checkpoint of a model that you expect to be exactly identical (initializing a BertForSequenceClassification model from a BertForSequenceClassification model).\n",
      "Some weights of WavLMForSequenceClassification were not initialized from the model checkpoint at Aniemore/wavlm-emotion-russian-resd and are newly initialized: ['wavlm.encoder.pos_conv_embed.conv.parametrizations.weight.original0', 'wavlm.encoder.pos_conv_embed.conv.parametrizations.weight.original1']\n",
      "You should probably TRAIN this model on a down-stream task to be able to use it for predictions and inference.\n",
      "Some weights of the model checkpoint at Aniemore/unispeech-sat-emotion-russian-resd were not used when initializing UniSpeechSatForSequenceClassification: ['unispeech_sat.encoder.pos_conv_embed.conv.weight_v', 'unispeech_sat.encoder.pos_conv_embed.conv.weight_g']\n",
      "- This IS expected if you are initializing UniSpeechSatForSequenceClassification from the checkpoint of a model trained on another task or with another architecture (e.g. initializing a BertForSequenceClassification model from a BertForPreTraining model).\n",
      "- This IS NOT expected if you are initializing UniSpeechSatForSequenceClassification from the checkpoint of a model that you expect to be exactly identical (initializing a BertForSequenceClassification model from a BertForSequenceClassification model).\n",
      "Some weights of UniSpeechSatForSequenceClassification were not initialized from the model checkpoint at Aniemore/unispeech-sat-emotion-russian-resd and are newly initialized: ['unispeech_sat.encoder.pos_conv_embed.conv.parametrizations.weight.original0', 'unispeech_sat.encoder.pos_conv_embed.conv.parametrizations.weight.original1']\n",
      "You should probably TRAIN this model on a down-stream task to be able to use it for predictions and inference.\n",
      "Some weights of the model checkpoint at KELONMYOSA/wav2vec2-xls-r-300m-emotion-ru were not used when initializing Wav2Vec2ForSpeechClassification: ['wav2vec2.encoder.pos_conv_embed.conv.weight_g', 'wav2vec2.encoder.pos_conv_embed.conv.weight_v']\n",
      "- This IS expected if you are initializing Wav2Vec2ForSpeechClassification from the checkpoint of a model trained on another task or with another architecture (e.g. initializing a BertForSequenceClassification model from a BertForPreTraining model).\n",
      "- This IS NOT expected if you are initializing Wav2Vec2ForSpeechClassification from the checkpoint of a model that you expect to be exactly identical (initializing a BertForSequenceClassification model from a BertForSequenceClassification model).\n",
      "Some weights of Wav2Vec2ForSpeechClassification were not initialized from the model checkpoint at KELONMYOSA/wav2vec2-xls-r-300m-emotion-ru and are newly initialized: ['wav2vec2.encoder.pos_conv_embed.conv.parametrizations.weight.original1', 'wav2vec2.encoder.pos_conv_embed.conv.parametrizations.weight.original0']\n",
      "You should probably TRAIN this model on a down-stream task to be able to use it for predictions and inference.\n",
      "Could not load the `decoder` for KELONMYOSA/wav2vec2-xls-r-300m-emotion-ru. Defaulting to raw CTC. Error: No module named 'kenlm'\n",
      "Try to install `kenlm`: `pip install kenlm\n",
      "Try to install `pyctcdecode`: `pip install pyctcdecode\n"
     ]
    }
   ],
   "source": [
    "     \n",
    "rez_resd = [] \n",
    "for model_name in model_list:\n",
    "    try:\n",
    "        t1 = time.time()\n",
    "        classifier = pipeline(\"audio-classification\", model=model_name, trust_remote_code=True)\n",
    "        t1 = time.time() -  t1\n",
    "        for i in range(0,df_resd.shape[0],3):\n",
    "            try:\n",
    "                wav_name = df_resd.path.iloc[i]\n",
    "                # speech = df_resd.speech.iloc[i]\n",
    "                # samples = speech['array']\n",
    "                # fs = speech['sampling_rate']\n",
    "                out_f =  'dataset/RESD_csv/test/'  + wav_name\n",
    "                t1 = time.time()\n",
    "                label_pred = classifier(out_f)\n",
    "                t1 = time.time() -  t1\n",
    "                \n",
    "                rez_model_s = [ ss['score'] for ss in label_pred]\n",
    "                k = np.argmax(rez_model_s)\n",
    "                \n",
    "                label_true = df_resd.emotion.iloc[i]\n",
    "                rez_resd.append([i, model_name, wav_name, label_pred[k]['label'],label_true,label_pred, t1 ]) \n",
    "                # break\n",
    "            except:\n",
    "                pass\n",
    "    except:\n",
    "        print('model error')"
   ]
  },
  {
   "cell_type": "code",
   "execution_count": 123,
   "id": "49baf6bb-4f8e-4462-8c92-6946dd28775a",
   "metadata": {},
   "outputs": [
    {
     "data": {
      "text/html": [
       "<div>\n",
       "<style scoped>\n",
       "    .dataframe tbody tr th:only-of-type {\n",
       "        vertical-align: middle;\n",
       "    }\n",
       "\n",
       "    .dataframe tbody tr th {\n",
       "        vertical-align: top;\n",
       "    }\n",
       "\n",
       "    .dataframe thead th {\n",
       "        text-align: right;\n",
       "    }\n",
       "</style>\n",
       "<table border=\"1\" class=\"dataframe\">\n",
       "  <thead>\n",
       "    <tr style=\"text-align: right;\">\n",
       "      <th></th>\n",
       "      <th>number</th>\n",
       "      <th>model</th>\n",
       "      <th>file</th>\n",
       "      <th>label_pred</th>\n",
       "      <th>label_true</th>\n",
       "      <th>rez_from_model</th>\n",
       "      <th>t1</th>\n",
       "    </tr>\n",
       "  </thead>\n",
       "  <tbody>\n",
       "    <tr>\n",
       "      <th>0</th>\n",
       "      <td>0</td>\n",
       "      <td>Aniemore/wav2vec2-emotion-russian-resd</td>\n",
       "      <td>neutral_fear_27/27_neutral_fear_n_100.wav</td>\n",
       "      <td>anger</td>\n",
       "      <td>neutral</td>\n",
       "      <td>[{'score': 0.17598015069961548, 'label': 'ange...</td>\n",
       "      <td>1.761193</td>\n",
       "    </tr>\n",
       "    <tr>\n",
       "      <th>1</th>\n",
       "      <td>3</td>\n",
       "      <td>Aniemore/wav2vec2-emotion-russian-resd</td>\n",
       "      <td>anger_fear_42/42_anger_fear_a_190.wav</td>\n",
       "      <td>anger</td>\n",
       "      <td>anger</td>\n",
       "      <td>[{'score': 0.18954557180404663, 'label': 'ange...</td>\n",
       "      <td>0.346388</td>\n",
       "    </tr>\n",
       "    <tr>\n",
       "      <th>2</th>\n",
       "      <td>6</td>\n",
       "      <td>Aniemore/wav2vec2-emotion-russian-resd</td>\n",
       "      <td>fear_disgust_41/41_fear_disgust_f_050.wav</td>\n",
       "      <td>enthusiasm</td>\n",
       "      <td>fear</td>\n",
       "      <td>[{'score': 0.1559067964553833, 'label': 'enthu...</td>\n",
       "      <td>2.020141</td>\n",
       "    </tr>\n",
       "    <tr>\n",
       "      <th>3</th>\n",
       "      <td>9</td>\n",
       "      <td>Aniemore/wav2vec2-emotion-russian-resd</td>\n",
       "      <td>neutral_fear_27/27_neutral_fear_n_020.wav</td>\n",
       "      <td>neutral</td>\n",
       "      <td>neutral</td>\n",
       "      <td>[{'score': 0.18447254598140717, 'label': 'neut...</td>\n",
       "      <td>1.415429</td>\n",
       "    </tr>\n",
       "    <tr>\n",
       "      <th>4</th>\n",
       "      <td>12</td>\n",
       "      <td>Aniemore/wav2vec2-emotion-russian-resd</td>\n",
       "      <td>anger_disgust_19/19_anger_disgust_a_030.wav</td>\n",
       "      <td>anger</td>\n",
       "      <td>anger</td>\n",
       "      <td>[{'score': 0.18711082637310028, 'label': 'ange...</td>\n",
       "      <td>0.863154</td>\n",
       "    </tr>\n",
       "  </tbody>\n",
       "</table>\n",
       "</div>"
      ],
      "text/plain": [
       "   number                                   model  \\\n",
       "0       0  Aniemore/wav2vec2-emotion-russian-resd   \n",
       "1       3  Aniemore/wav2vec2-emotion-russian-resd   \n",
       "2       6  Aniemore/wav2vec2-emotion-russian-resd   \n",
       "3       9  Aniemore/wav2vec2-emotion-russian-resd   \n",
       "4      12  Aniemore/wav2vec2-emotion-russian-resd   \n",
       "\n",
       "                                          file  label_pred label_true  \\\n",
       "0    neutral_fear_27/27_neutral_fear_n_100.wav       anger    neutral   \n",
       "1        anger_fear_42/42_anger_fear_a_190.wav       anger      anger   \n",
       "2    fear_disgust_41/41_fear_disgust_f_050.wav  enthusiasm       fear   \n",
       "3    neutral_fear_27/27_neutral_fear_n_020.wav     neutral    neutral   \n",
       "4  anger_disgust_19/19_anger_disgust_a_030.wav       anger      anger   \n",
       "\n",
       "                                      rez_from_model        t1  \n",
       "0  [{'score': 0.17598015069961548, 'label': 'ange...  1.761193  \n",
       "1  [{'score': 0.18954557180404663, 'label': 'ange...  0.346388  \n",
       "2  [{'score': 0.1559067964553833, 'label': 'enthu...  2.020141  \n",
       "3  [{'score': 0.18447254598140717, 'label': 'neut...  1.415429  \n",
       "4  [{'score': 0.18711082637310028, 'label': 'ange...  0.863154  "
      ]
     },
     "execution_count": 123,
     "metadata": {},
     "output_type": "execute_result"
    }
   ],
   "source": [
    "df_K = pd.DataFrame(rez_resd, columns = ['number', 'model', 'file', 'label_pred', 'label_true', 'rez_from_model', 't1' ])\n",
    "df_K.head()"
   ]
  },
  {
   "cell_type": "code",
   "execution_count": 124,
   "id": "53bcb75d-9c02-4240-b3bd-e85238cc3a1d",
   "metadata": {},
   "outputs": [
    {
     "data": {
      "text/html": [
       "<div>\n",
       "<style scoped>\n",
       "    .dataframe tbody tr th:only-of-type {\n",
       "        vertical-align: middle;\n",
       "    }\n",
       "\n",
       "    .dataframe tbody tr th {\n",
       "        vertical-align: top;\n",
       "    }\n",
       "\n",
       "    .dataframe thead th {\n",
       "        text-align: right;\n",
       "    }\n",
       "</style>\n",
       "<table border=\"1\" class=\"dataframe\">\n",
       "  <thead>\n",
       "    <tr style=\"text-align: right;\">\n",
       "      <th></th>\n",
       "      <th>number</th>\n",
       "      <th>model</th>\n",
       "      <th>file</th>\n",
       "      <th>label_pred</th>\n",
       "      <th>label_true</th>\n",
       "      <th>rez_from_model</th>\n",
       "      <th>t1</th>\n",
       "    </tr>\n",
       "  </thead>\n",
       "  <tbody>\n",
       "    <tr>\n",
       "      <th>465</th>\n",
       "      <td>267</td>\n",
       "      <td>KELONMYOSA/wav2vec2-xls-r-300m-emotion-ru</td>\n",
       "      <td>enthusiasm_neutral_37/37_enthusiasm_neutral_e_...</td>\n",
       "      <td>neutral</td>\n",
       "      <td>enthusiasm</td>\n",
       "      <td>[{'label': 'neutral', 'score': 0.44425}, {'lab...</td>\n",
       "      <td>1.123654</td>\n",
       "    </tr>\n",
       "    <tr>\n",
       "      <th>466</th>\n",
       "      <td>270</td>\n",
       "      <td>KELONMYOSA/wav2vec2-xls-r-300m-emotion-ru</td>\n",
       "      <td>fear_happiness_30/30_fear_happiness_f_150.wav</td>\n",
       "      <td>positive</td>\n",
       "      <td>fear</td>\n",
       "      <td>[{'label': 'neutral', 'score': 0.0368}, {'labe...</td>\n",
       "      <td>1.331740</td>\n",
       "    </tr>\n",
       "    <tr>\n",
       "      <th>467</th>\n",
       "      <td>273</td>\n",
       "      <td>KELONMYOSA/wav2vec2-xls-r-300m-emotion-ru</td>\n",
       "      <td>sadness_happiness_49/49_sadness_happiness_s_03...</td>\n",
       "      <td>positive</td>\n",
       "      <td>sadness</td>\n",
       "      <td>[{'label': 'neutral', 'score': 0.4427}, {'labe...</td>\n",
       "      <td>1.966012</td>\n",
       "    </tr>\n",
       "    <tr>\n",
       "      <th>468</th>\n",
       "      <td>276</td>\n",
       "      <td>KELONMYOSA/wav2vec2-xls-r-300m-emotion-ru</td>\n",
       "      <td>happiness_neutral_38/38_happiness_neutral_n_03...</td>\n",
       "      <td>angry</td>\n",
       "      <td>neutral</td>\n",
       "      <td>[{'label': 'neutral', 'score': 0.3054}, {'labe...</td>\n",
       "      <td>0.817347</td>\n",
       "    </tr>\n",
       "    <tr>\n",
       "      <th>469</th>\n",
       "      <td>279</td>\n",
       "      <td>KELONMYOSA/wav2vec2-xls-r-300m-emotion-ru</td>\n",
       "      <td>04_fear_enthusiasm/04_fear_enthusiasm f_140.wav</td>\n",
       "      <td>positive</td>\n",
       "      <td>fear</td>\n",
       "      <td>[{'label': 'neutral', 'score': 0.33407}, {'lab...</td>\n",
       "      <td>1.549704</td>\n",
       "    </tr>\n",
       "  </tbody>\n",
       "</table>\n",
       "</div>"
      ],
      "text/plain": [
       "     number                                      model  \\\n",
       "465     267  KELONMYOSA/wav2vec2-xls-r-300m-emotion-ru   \n",
       "466     270  KELONMYOSA/wav2vec2-xls-r-300m-emotion-ru   \n",
       "467     273  KELONMYOSA/wav2vec2-xls-r-300m-emotion-ru   \n",
       "468     276  KELONMYOSA/wav2vec2-xls-r-300m-emotion-ru   \n",
       "469     279  KELONMYOSA/wav2vec2-xls-r-300m-emotion-ru   \n",
       "\n",
       "                                                  file label_pred  label_true  \\\n",
       "465  enthusiasm_neutral_37/37_enthusiasm_neutral_e_...    neutral  enthusiasm   \n",
       "466      fear_happiness_30/30_fear_happiness_f_150.wav   positive        fear   \n",
       "467  sadness_happiness_49/49_sadness_happiness_s_03...   positive     sadness   \n",
       "468  happiness_neutral_38/38_happiness_neutral_n_03...      angry     neutral   \n",
       "469    04_fear_enthusiasm/04_fear_enthusiasm f_140.wav   positive        fear   \n",
       "\n",
       "                                        rez_from_model        t1  \n",
       "465  [{'label': 'neutral', 'score': 0.44425}, {'lab...  1.123654  \n",
       "466  [{'label': 'neutral', 'score': 0.0368}, {'labe...  1.331740  \n",
       "467  [{'label': 'neutral', 'score': 0.4427}, {'labe...  1.966012  \n",
       "468  [{'label': 'neutral', 'score': 0.3054}, {'labe...  0.817347  \n",
       "469  [{'label': 'neutral', 'score': 0.33407}, {'lab...  1.549704  "
      ]
     },
     "execution_count": 124,
     "metadata": {},
     "output_type": "execute_result"
    }
   ],
   "source": [
    "df_K.tail()"
   ]
  },
  {
   "cell_type": "code",
   "execution_count": 125,
   "id": "062ce487-5b64-4101-99b0-a033420b2ae8",
   "metadata": {},
   "outputs": [],
   "source": [
    "df_K.to_csv('resd_result.csv')"
   ]
  },
  {
   "cell_type": "markdown",
   "id": "18ea239e-e100-4b3c-850a-70cc501ab976",
   "metadata": {},
   "source": [
    "### обработка данных"
   ]
  },
  {
   "cell_type": "code",
   "execution_count": 126,
   "id": "8bc852a7-fb5d-45f1-9e76-68486e214e07",
   "metadata": {},
   "outputs": [],
   "source": [
    "df_K = pd.read_csv('resd_result.csv', index_col=0)"
   ]
  },
  {
   "cell_type": "code",
   "execution_count": 127,
   "id": "cf0843f4-6083-47f7-8eff-08cd102f5beb",
   "metadata": {},
   "outputs": [],
   "source": [
    "df_K['new_label_true'] = df_K['label_true'].values #'neutral'"
   ]
  },
  {
   "cell_type": "code",
   "execution_count": 128,
   "id": "0b871407-4853-4376-bc8f-b9c1b4d1594c",
   "metadata": {},
   "outputs": [],
   "source": [
    "df_K.loc[df_K.label_true=='happiness','new_label_true'] = 'positive'\n",
    "df_K.loc[df_K.label_true=='enthusiasm','new_label_true'] = 'positive'\n",
    "df_K.loc[df_K.label_pred=='happiness','label_pred'] = 'positive'\n",
    "df_K.loc[df_K.label_pred=='enthusiasm','label_pred'] = 'positive'"
   ]
  },
  {
   "cell_type": "code",
   "execution_count": 129,
   "id": "048a3732-5b30-4676-b91d-998d04faf46a",
   "metadata": {},
   "outputs": [],
   "source": [
    "df_K.loc[df_K.label_true=='sadness','new_label_true'] = 'sad'\n",
    "df_K.loc[df_K.label_pred=='sadness','label_pred'] = 'sad'\n"
   ]
  },
  {
   "cell_type": "code",
   "execution_count": 130,
   "id": "99c9654b-73b8-42f0-9787-fe51cb92ab6f",
   "metadata": {},
   "outputs": [],
   "source": [
    "df_K.loc[df_K.label_true=='disgust','new_label_true'] = 'other'\n",
    "df_K.loc[df_K.label_true=='fear','new_label_true'] = 'other'\n",
    "df_K.loc[df_K.label_pred=='disgust','label_pred'] = 'other'\n",
    "df_K.loc[df_K.label_pred=='fear','label_pred'] = 'other'\n"
   ]
  },
  {
   "cell_type": "code",
   "execution_count": 131,
   "id": "5ed5cf59-815f-4ecd-8e30-eadcdc79dc7f",
   "metadata": {},
   "outputs": [],
   "source": [
    "df_K.loc[df_K.label_true=='anger','new_label_true'] = 'angry'\n",
    "df_K.loc[df_K.label_pred=='anger','label_pred'] = 'angry'\n",
    "\n",
    "\n"
   ]
  },
  {
   "cell_type": "code",
   "execution_count": 132,
   "id": "7fe2d7b0-f9d5-4b83-823a-b1e51e3c80d8",
   "metadata": {},
   "outputs": [
    {
     "data": {
      "text/html": [
       "<div>\n",
       "<style scoped>\n",
       "    .dataframe tbody tr th:only-of-type {\n",
       "        vertical-align: middle;\n",
       "    }\n",
       "\n",
       "    .dataframe tbody tr th {\n",
       "        vertical-align: top;\n",
       "    }\n",
       "\n",
       "    .dataframe thead th {\n",
       "        text-align: right;\n",
       "    }\n",
       "</style>\n",
       "<table border=\"1\" class=\"dataframe\">\n",
       "  <thead>\n",
       "    <tr style=\"text-align: right;\">\n",
       "      <th></th>\n",
       "      <th>number</th>\n",
       "      <th>model</th>\n",
       "      <th>file</th>\n",
       "      <th>label_pred</th>\n",
       "      <th>label_true</th>\n",
       "      <th>rez_from_model</th>\n",
       "      <th>t1</th>\n",
       "      <th>new_label_true</th>\n",
       "    </tr>\n",
       "  </thead>\n",
       "  <tbody>\n",
       "    <tr>\n",
       "      <th>465</th>\n",
       "      <td>267</td>\n",
       "      <td>KELONMYOSA/wav2vec2-xls-r-300m-emotion-ru</td>\n",
       "      <td>enthusiasm_neutral_37/37_enthusiasm_neutral_e_...</td>\n",
       "      <td>neutral</td>\n",
       "      <td>enthusiasm</td>\n",
       "      <td>[{'label': 'neutral', 'score': 0.44425}, {'lab...</td>\n",
       "      <td>1.123654</td>\n",
       "      <td>positive</td>\n",
       "    </tr>\n",
       "    <tr>\n",
       "      <th>466</th>\n",
       "      <td>270</td>\n",
       "      <td>KELONMYOSA/wav2vec2-xls-r-300m-emotion-ru</td>\n",
       "      <td>fear_happiness_30/30_fear_happiness_f_150.wav</td>\n",
       "      <td>positive</td>\n",
       "      <td>fear</td>\n",
       "      <td>[{'label': 'neutral', 'score': 0.0368}, {'labe...</td>\n",
       "      <td>1.331740</td>\n",
       "      <td>other</td>\n",
       "    </tr>\n",
       "    <tr>\n",
       "      <th>467</th>\n",
       "      <td>273</td>\n",
       "      <td>KELONMYOSA/wav2vec2-xls-r-300m-emotion-ru</td>\n",
       "      <td>sadness_happiness_49/49_sadness_happiness_s_03...</td>\n",
       "      <td>positive</td>\n",
       "      <td>sadness</td>\n",
       "      <td>[{'label': 'neutral', 'score': 0.4427}, {'labe...</td>\n",
       "      <td>1.966012</td>\n",
       "      <td>sad</td>\n",
       "    </tr>\n",
       "    <tr>\n",
       "      <th>468</th>\n",
       "      <td>276</td>\n",
       "      <td>KELONMYOSA/wav2vec2-xls-r-300m-emotion-ru</td>\n",
       "      <td>happiness_neutral_38/38_happiness_neutral_n_03...</td>\n",
       "      <td>angry</td>\n",
       "      <td>neutral</td>\n",
       "      <td>[{'label': 'neutral', 'score': 0.3054}, {'labe...</td>\n",
       "      <td>0.817347</td>\n",
       "      <td>neutral</td>\n",
       "    </tr>\n",
       "    <tr>\n",
       "      <th>469</th>\n",
       "      <td>279</td>\n",
       "      <td>KELONMYOSA/wav2vec2-xls-r-300m-emotion-ru</td>\n",
       "      <td>04_fear_enthusiasm/04_fear_enthusiasm f_140.wav</td>\n",
       "      <td>positive</td>\n",
       "      <td>fear</td>\n",
       "      <td>[{'label': 'neutral', 'score': 0.33407}, {'lab...</td>\n",
       "      <td>1.549704</td>\n",
       "      <td>other</td>\n",
       "    </tr>\n",
       "  </tbody>\n",
       "</table>\n",
       "</div>"
      ],
      "text/plain": [
       "     number                                      model  \\\n",
       "465     267  KELONMYOSA/wav2vec2-xls-r-300m-emotion-ru   \n",
       "466     270  KELONMYOSA/wav2vec2-xls-r-300m-emotion-ru   \n",
       "467     273  KELONMYOSA/wav2vec2-xls-r-300m-emotion-ru   \n",
       "468     276  KELONMYOSA/wav2vec2-xls-r-300m-emotion-ru   \n",
       "469     279  KELONMYOSA/wav2vec2-xls-r-300m-emotion-ru   \n",
       "\n",
       "                                                  file label_pred  label_true  \\\n",
       "465  enthusiasm_neutral_37/37_enthusiasm_neutral_e_...    neutral  enthusiasm   \n",
       "466      fear_happiness_30/30_fear_happiness_f_150.wav   positive        fear   \n",
       "467  sadness_happiness_49/49_sadness_happiness_s_03...   positive     sadness   \n",
       "468  happiness_neutral_38/38_happiness_neutral_n_03...      angry     neutral   \n",
       "469    04_fear_enthusiasm/04_fear_enthusiasm f_140.wav   positive        fear   \n",
       "\n",
       "                                        rez_from_model        t1  \\\n",
       "465  [{'label': 'neutral', 'score': 0.44425}, {'lab...  1.123654   \n",
       "466  [{'label': 'neutral', 'score': 0.0368}, {'labe...  1.331740   \n",
       "467  [{'label': 'neutral', 'score': 0.4427}, {'labe...  1.966012   \n",
       "468  [{'label': 'neutral', 'score': 0.3054}, {'labe...  0.817347   \n",
       "469  [{'label': 'neutral', 'score': 0.33407}, {'lab...  1.549704   \n",
       "\n",
       "    new_label_true  \n",
       "465       positive  \n",
       "466          other  \n",
       "467            sad  \n",
       "468        neutral  \n",
       "469          other  "
      ]
     },
     "execution_count": 132,
     "metadata": {},
     "output_type": "execute_result"
    }
   ],
   "source": [
    "df_K.tail()"
   ]
  },
  {
   "cell_type": "code",
   "execution_count": 133,
   "id": "f5270fae-0f06-4bbc-a041-1146b3413393",
   "metadata": {},
   "outputs": [
    {
     "data": {
      "text/html": [
       "<div>\n",
       "<style scoped>\n",
       "    .dataframe tbody tr th:only-of-type {\n",
       "        vertical-align: middle;\n",
       "    }\n",
       "\n",
       "    .dataframe tbody tr th {\n",
       "        vertical-align: top;\n",
       "    }\n",
       "\n",
       "    .dataframe thead th {\n",
       "        text-align: right;\n",
       "    }\n",
       "</style>\n",
       "<table border=\"1\" class=\"dataframe\">\n",
       "  <thead>\n",
       "    <tr style=\"text-align: right;\">\n",
       "      <th></th>\n",
       "      <th>number</th>\n",
       "      <th>model</th>\n",
       "      <th>file</th>\n",
       "      <th>label_pred</th>\n",
       "      <th>label_true</th>\n",
       "      <th>rez_from_model</th>\n",
       "      <th>t1</th>\n",
       "      <th>new_label_true</th>\n",
       "    </tr>\n",
       "  </thead>\n",
       "  <tbody>\n",
       "    <tr>\n",
       "      <th>0</th>\n",
       "      <td>0</td>\n",
       "      <td>Aniemore/wav2vec2-emotion-russian-resd</td>\n",
       "      <td>neutral_fear_27/27_neutral_fear_n_100.wav</td>\n",
       "      <td>angry</td>\n",
       "      <td>neutral</td>\n",
       "      <td>[{'score': 0.17598015069961548, 'label': 'ange...</td>\n",
       "      <td>1.761193</td>\n",
       "      <td>neutral</td>\n",
       "    </tr>\n",
       "    <tr>\n",
       "      <th>1</th>\n",
       "      <td>3</td>\n",
       "      <td>Aniemore/wav2vec2-emotion-russian-resd</td>\n",
       "      <td>anger_fear_42/42_anger_fear_a_190.wav</td>\n",
       "      <td>angry</td>\n",
       "      <td>anger</td>\n",
       "      <td>[{'score': 0.18954557180404663, 'label': 'ange...</td>\n",
       "      <td>0.346388</td>\n",
       "      <td>angry</td>\n",
       "    </tr>\n",
       "    <tr>\n",
       "      <th>2</th>\n",
       "      <td>6</td>\n",
       "      <td>Aniemore/wav2vec2-emotion-russian-resd</td>\n",
       "      <td>fear_disgust_41/41_fear_disgust_f_050.wav</td>\n",
       "      <td>positive</td>\n",
       "      <td>fear</td>\n",
       "      <td>[{'score': 0.1559067964553833, 'label': 'enthu...</td>\n",
       "      <td>2.020141</td>\n",
       "      <td>other</td>\n",
       "    </tr>\n",
       "    <tr>\n",
       "      <th>3</th>\n",
       "      <td>9</td>\n",
       "      <td>Aniemore/wav2vec2-emotion-russian-resd</td>\n",
       "      <td>neutral_fear_27/27_neutral_fear_n_020.wav</td>\n",
       "      <td>neutral</td>\n",
       "      <td>neutral</td>\n",
       "      <td>[{'score': 0.18447254598140717, 'label': 'neut...</td>\n",
       "      <td>1.415429</td>\n",
       "      <td>neutral</td>\n",
       "    </tr>\n",
       "    <tr>\n",
       "      <th>4</th>\n",
       "      <td>12</td>\n",
       "      <td>Aniemore/wav2vec2-emotion-russian-resd</td>\n",
       "      <td>anger_disgust_19/19_anger_disgust_a_030.wav</td>\n",
       "      <td>angry</td>\n",
       "      <td>anger</td>\n",
       "      <td>[{'score': 0.18711082637310028, 'label': 'ange...</td>\n",
       "      <td>0.863154</td>\n",
       "      <td>angry</td>\n",
       "    </tr>\n",
       "  </tbody>\n",
       "</table>\n",
       "</div>"
      ],
      "text/plain": [
       "   number                                   model  \\\n",
       "0       0  Aniemore/wav2vec2-emotion-russian-resd   \n",
       "1       3  Aniemore/wav2vec2-emotion-russian-resd   \n",
       "2       6  Aniemore/wav2vec2-emotion-russian-resd   \n",
       "3       9  Aniemore/wav2vec2-emotion-russian-resd   \n",
       "4      12  Aniemore/wav2vec2-emotion-russian-resd   \n",
       "\n",
       "                                          file label_pred label_true  \\\n",
       "0    neutral_fear_27/27_neutral_fear_n_100.wav      angry    neutral   \n",
       "1        anger_fear_42/42_anger_fear_a_190.wav      angry      anger   \n",
       "2    fear_disgust_41/41_fear_disgust_f_050.wav   positive       fear   \n",
       "3    neutral_fear_27/27_neutral_fear_n_020.wav    neutral    neutral   \n",
       "4  anger_disgust_19/19_anger_disgust_a_030.wav      angry      anger   \n",
       "\n",
       "                                      rez_from_model        t1 new_label_true  \n",
       "0  [{'score': 0.17598015069961548, 'label': 'ange...  1.761193        neutral  \n",
       "1  [{'score': 0.18954557180404663, 'label': 'ange...  0.346388          angry  \n",
       "2  [{'score': 0.1559067964553833, 'label': 'enthu...  2.020141          other  \n",
       "3  [{'score': 0.18447254598140717, 'label': 'neut...  1.415429        neutral  \n",
       "4  [{'score': 0.18711082637310028, 'label': 'ange...  0.863154          angry  "
      ]
     },
     "execution_count": 133,
     "metadata": {},
     "output_type": "execute_result"
    }
   ],
   "source": [
    "df_K.head()"
   ]
  },
  {
   "cell_type": "code",
   "execution_count": 134,
   "id": "d3128c8d-9ab9-463e-8b08-b9a6a9866fd4",
   "metadata": {},
   "outputs": [],
   "source": [
    "acc = np.mean(df_K.label_pred == df_K.new_label_true)"
   ]
  },
  {
   "cell_type": "markdown",
   "id": "6eca0576-8c25-49de-8a39-5a47a041c4c9",
   "metadata": {},
   "source": [
    "## **Оценка асс на resd**"
   ]
  },
  {
   "cell_type": "code",
   "execution_count": 135,
   "id": "c8229244-665c-4ea3-ae7d-ff876da192f2",
   "metadata": {},
   "outputs": [
    {
     "data": {
      "text/plain": [
       "0.6234042553191489"
      ]
     },
     "execution_count": 135,
     "metadata": {},
     "output_type": "execute_result"
    }
   ],
   "source": [
    "acc"
   ]
  },
  {
   "cell_type": "code",
   "execution_count": 142,
   "id": "dfcdf90b-0917-4213-90ed-fa81fc152a1b",
   "metadata": {},
   "outputs": [
    {
     "name": "stdout",
     "output_type": "stream",
     "text": [
      "Aniemore/wav2vec2-emotion-russian-resd ****************\n",
      "Aniemore/hubert-emotion-russian-resd ****************\n",
      "Aniemore/wavlm-emotion-russian-resd ****************\n",
      "Aniemore/unispeech-sat-emotion-russian-resd ****************\n",
      "KELONMYOSA/wav2vec2-xls-r-300m-emotion-ru ****************\n"
     ]
    },
    {
     "data": {
      "text/html": [
       "<div>\n",
       "<style scoped>\n",
       "    .dataframe tbody tr th:only-of-type {\n",
       "        vertical-align: middle;\n",
       "    }\n",
       "\n",
       "    .dataframe tbody tr th {\n",
       "        vertical-align: top;\n",
       "    }\n",
       "\n",
       "    .dataframe thead th {\n",
       "        text-align: right;\n",
       "    }\n",
       "</style>\n",
       "<table border=\"1\" class=\"dataframe\">\n",
       "  <thead>\n",
       "    <tr style=\"text-align: right;\">\n",
       "      <th></th>\n",
       "      <th>model</th>\n",
       "      <th>dataset</th>\n",
       "      <th>acc0</th>\n",
       "      <th>acc1</th>\n",
       "      <th>f1</th>\n",
       "      <th>t</th>\n",
       "    </tr>\n",
       "  </thead>\n",
       "  <tbody>\n",
       "    <tr>\n",
       "      <th>0</th>\n",
       "      <td>Aniemore/wav2vec2-emotion-russian-resd</td>\n",
       "      <td>DUSHA</td>\n",
       "      <td>0.101594</td>\n",
       "      <td>0.149402</td>\n",
       "      <td>0.110919</td>\n",
       "      <td>2.770510</td>\n",
       "    </tr>\n",
       "    <tr>\n",
       "      <th>1</th>\n",
       "      <td>Aniemore/hubert-emotion-russian-resd</td>\n",
       "      <td>DUSHA</td>\n",
       "      <td>0.217131</td>\n",
       "      <td>0.436255</td>\n",
       "      <td>0.305991</td>\n",
       "      <td>2.530516</td>\n",
       "    </tr>\n",
       "    <tr>\n",
       "      <th>2</th>\n",
       "      <td>Aniemore/wavlm-emotion-russian-resd</td>\n",
       "      <td>DUSHA</td>\n",
       "      <td>0.229084</td>\n",
       "      <td>0.322709</td>\n",
       "      <td>0.319163</td>\n",
       "      <td>1.988178</td>\n",
       "    </tr>\n",
       "    <tr>\n",
       "      <th>3</th>\n",
       "      <td>Aniemore/unispeech-sat-emotion-russian-resd</td>\n",
       "      <td>DUSHA</td>\n",
       "      <td>0.356574</td>\n",
       "      <td>0.342629</td>\n",
       "      <td>0.430552</td>\n",
       "      <td>2.920435</td>\n",
       "    </tr>\n",
       "    <tr>\n",
       "      <th>4</th>\n",
       "      <td>KELONMYOSA/wav2vec2-xls-r-300m-emotion-ru</td>\n",
       "      <td>DUSHA</td>\n",
       "      <td>0.890438</td>\n",
       "      <td>0.029880</td>\n",
       "      <td>0.889664</td>\n",
       "      <td>2.659251</td>\n",
       "    </tr>\n",
       "  </tbody>\n",
       "</table>\n",
       "</div>"
      ],
      "text/plain": [
       "                                         model dataset      acc0      acc1  \\\n",
       "0       Aniemore/wav2vec2-emotion-russian-resd   DUSHA  0.101594  0.149402   \n",
       "1         Aniemore/hubert-emotion-russian-resd   DUSHA  0.217131  0.436255   \n",
       "2          Aniemore/wavlm-emotion-russian-resd   DUSHA  0.229084  0.322709   \n",
       "3  Aniemore/unispeech-sat-emotion-russian-resd   DUSHA  0.356574  0.342629   \n",
       "4    KELONMYOSA/wav2vec2-xls-r-300m-emotion-ru   DUSHA  0.890438  0.029880   \n",
       "\n",
       "         f1         t  \n",
       "0  0.110919  2.770510  \n",
       "1  0.305991  2.530516  \n",
       "2  0.319163  1.988178  \n",
       "3  0.430552  2.920435  \n",
       "4  0.889664  2.659251  "
      ]
     },
     "execution_count": 142,
     "metadata": {},
     "output_type": "execute_result"
    }
   ],
   "source": [
    "columns_rez = ['model','dataset', 'acc0', 'acc1', 'f1', 't']\n",
    "for model_name in model_list:\n",
    "    df = df_K.loc[df_K.model == model_name,:]\n",
    "    \n",
    "    acc0 = accuracy_score(df.new_label_true.values , df.label_pred.values)\n",
    "    acc1 = accuracy_score(df.new_label_true.values , df.label_pred.values)\n",
    "    f1 = f1_score(df.new_label_true, df.label_pred.values, average='weighted')\n",
    "    print(model_name, '****************')\n",
    "    rez_model_score.append([model_name, 'RESD', acc0, acc1, f1 , np.mean(df.t1)])\n",
    "rez_model_score_pd1 = pd.DataFrame(rez_model_score, columns=columns_rez)\n",
    "rez_model_score_pd1.head()"
   ]
  },
  {
   "cell_type": "code",
   "execution_count": 143,
   "id": "4f6507e7-5525-47ae-bc85-9cfda16454da",
   "metadata": {},
   "outputs": [
    {
     "data": {
      "text/html": [
       "<div>\n",
       "<style scoped>\n",
       "    .dataframe tbody tr th:only-of-type {\n",
       "        vertical-align: middle;\n",
       "    }\n",
       "\n",
       "    .dataframe tbody tr th {\n",
       "        vertical-align: top;\n",
       "    }\n",
       "\n",
       "    .dataframe thead th {\n",
       "        text-align: right;\n",
       "    }\n",
       "</style>\n",
       "<table border=\"1\" class=\"dataframe\">\n",
       "  <thead>\n",
       "    <tr style=\"text-align: right;\">\n",
       "      <th></th>\n",
       "      <th>model</th>\n",
       "      <th>dataset</th>\n",
       "      <th>acc0</th>\n",
       "      <th>acc1</th>\n",
       "      <th>f1</th>\n",
       "      <th>t</th>\n",
       "    </tr>\n",
       "  </thead>\n",
       "  <tbody>\n",
       "    <tr>\n",
       "      <th>0</th>\n",
       "      <td>Aniemore/wav2vec2-emotion-russian-resd</td>\n",
       "      <td>DUSHA</td>\n",
       "      <td>0.101594</td>\n",
       "      <td>0.149402</td>\n",
       "      <td>0.110919</td>\n",
       "      <td>2.770510</td>\n",
       "    </tr>\n",
       "    <tr>\n",
       "      <th>1</th>\n",
       "      <td>Aniemore/hubert-emotion-russian-resd</td>\n",
       "      <td>DUSHA</td>\n",
       "      <td>0.217131</td>\n",
       "      <td>0.436255</td>\n",
       "      <td>0.305991</td>\n",
       "      <td>2.530516</td>\n",
       "    </tr>\n",
       "    <tr>\n",
       "      <th>2</th>\n",
       "      <td>Aniemore/wavlm-emotion-russian-resd</td>\n",
       "      <td>DUSHA</td>\n",
       "      <td>0.229084</td>\n",
       "      <td>0.322709</td>\n",
       "      <td>0.319163</td>\n",
       "      <td>1.988178</td>\n",
       "    </tr>\n",
       "    <tr>\n",
       "      <th>3</th>\n",
       "      <td>Aniemore/unispeech-sat-emotion-russian-resd</td>\n",
       "      <td>DUSHA</td>\n",
       "      <td>0.356574</td>\n",
       "      <td>0.342629</td>\n",
       "      <td>0.430552</td>\n",
       "      <td>2.920435</td>\n",
       "    </tr>\n",
       "    <tr>\n",
       "      <th>4</th>\n",
       "      <td>KELONMYOSA/wav2vec2-xls-r-300m-emotion-ru</td>\n",
       "      <td>DUSHA</td>\n",
       "      <td>0.890438</td>\n",
       "      <td>0.029880</td>\n",
       "      <td>0.889664</td>\n",
       "      <td>2.659251</td>\n",
       "    </tr>\n",
       "    <tr>\n",
       "      <th>5</th>\n",
       "      <td>Aniemore/wav2vec2-emotion-russian-resd</td>\n",
       "      <td>RESD</td>\n",
       "      <td>0.340426</td>\n",
       "      <td>0.340426</td>\n",
       "      <td>0.310288</td>\n",
       "      <td>0.947531</td>\n",
       "    </tr>\n",
       "    <tr>\n",
       "      <th>6</th>\n",
       "      <td>Aniemore/hubert-emotion-russian-resd</td>\n",
       "      <td>RESD</td>\n",
       "      <td>0.797872</td>\n",
       "      <td>0.797872</td>\n",
       "      <td>0.798911</td>\n",
       "      <td>0.928738</td>\n",
       "    </tr>\n",
       "    <tr>\n",
       "      <th>7</th>\n",
       "      <td>Aniemore/wavlm-emotion-russian-resd</td>\n",
       "      <td>RESD</td>\n",
       "      <td>0.872340</td>\n",
       "      <td>0.872340</td>\n",
       "      <td>0.872970</td>\n",
       "      <td>0.971125</td>\n",
       "    </tr>\n",
       "    <tr>\n",
       "      <th>8</th>\n",
       "      <td>Aniemore/unispeech-sat-emotion-russian-resd</td>\n",
       "      <td>RESD</td>\n",
       "      <td>0.712766</td>\n",
       "      <td>0.712766</td>\n",
       "      <td>0.703554</td>\n",
       "      <td>0.940354</td>\n",
       "    </tr>\n",
       "    <tr>\n",
       "      <th>9</th>\n",
       "      <td>KELONMYOSA/wav2vec2-xls-r-300m-emotion-ru</td>\n",
       "      <td>RESD</td>\n",
       "      <td>0.393617</td>\n",
       "      <td>0.393617</td>\n",
       "      <td>0.323023</td>\n",
       "      <td>0.867656</td>\n",
       "    </tr>\n",
       "  </tbody>\n",
       "</table>\n",
       "</div>"
      ],
      "text/plain": [
       "                                         model dataset      acc0      acc1  \\\n",
       "0       Aniemore/wav2vec2-emotion-russian-resd   DUSHA  0.101594  0.149402   \n",
       "1         Aniemore/hubert-emotion-russian-resd   DUSHA  0.217131  0.436255   \n",
       "2          Aniemore/wavlm-emotion-russian-resd   DUSHA  0.229084  0.322709   \n",
       "3  Aniemore/unispeech-sat-emotion-russian-resd   DUSHA  0.356574  0.342629   \n",
       "4    KELONMYOSA/wav2vec2-xls-r-300m-emotion-ru   DUSHA  0.890438  0.029880   \n",
       "5       Aniemore/wav2vec2-emotion-russian-resd    RESD  0.340426  0.340426   \n",
       "6         Aniemore/hubert-emotion-russian-resd    RESD  0.797872  0.797872   \n",
       "7          Aniemore/wavlm-emotion-russian-resd    RESD  0.872340  0.872340   \n",
       "8  Aniemore/unispeech-sat-emotion-russian-resd    RESD  0.712766  0.712766   \n",
       "9    KELONMYOSA/wav2vec2-xls-r-300m-emotion-ru    RESD  0.393617  0.393617   \n",
       "\n",
       "         f1         t  \n",
       "0  0.110919  2.770510  \n",
       "1  0.305991  2.530516  \n",
       "2  0.319163  1.988178  \n",
       "3  0.430552  2.920435  \n",
       "4  0.889664  2.659251  \n",
       "5  0.310288  0.947531  \n",
       "6  0.798911  0.928738  \n",
       "7  0.872970  0.971125  \n",
       "8  0.703554  0.940354  \n",
       "9  0.323023  0.867656  "
      ]
     },
     "execution_count": 143,
     "metadata": {},
     "output_type": "execute_result"
    }
   ],
   "source": [
    "rez_model_score_pd1.head(40)"
   ]
  },
  {
   "cell_type": "markdown",
   "id": "84a2d5cd-8735-4ae0-8adf-e1e6d7061eb8",
   "metadata": {},
   "source": [
    "### Вывод:\n",
    "\n",
    "    - на чужом датасете сильно хуже"
   ]
  },
  {
   "cell_type": "markdown",
   "id": "2c8d9601-9880-4acc-af6f-9faad512bb52",
   "metadata": {},
   "source": [
    "## Интересные проекты в области речи (с моделями, кодом и всякими приятными теоретическими историями, но в массе на английский язык расчитаны, т.е. часть вещей можем брать)\n",
    "\n",
    "    - ps://github.com/speechbrain/speechbrain ( модели Speech Separation, Speech Enhancement, Voice Activity Detection, Diarization) - еще куча моделей для анализа"
   ]
  },
  {
   "cell_type": "markdown",
   "id": "703b08e7-cdc5-4044-8b04-7a7f27290866",
   "metadata": {},
   "source": [
    "## Дополнение: Наш предполагаемый пайплайн обработки"
   ]
  },
  {
   "cell_type": "markdown",
   "id": "4e4b0144-79eb-4f74-984f-5dbd1722dd76",
   "metadata": {},
   "source": [
    "оценка эмоций по звуку речи"
   ]
  },
  {
   "cell_type": "code",
   "execution_count": 10,
   "id": "0803a953-41f4-45b6-931a-bc792d3d2d12",
   "metadata": {},
   "outputs": [
    {
     "name": "stderr",
     "output_type": "stream",
     "text": [
      "Some weights of the model checkpoint at aniemore/wavlm-emotion-russian-resd were not used when initializing WavLMForSequenceClassification: ['wavlm.encoder.pos_conv_embed.conv.weight_g', 'wavlm.encoder.pos_conv_embed.conv.weight_v']\n",
      "- This IS expected if you are initializing WavLMForSequenceClassification from the checkpoint of a model trained on another task or with another architecture (e.g. initializing a BertForSequenceClassification model from a BertForPreTraining model).\n",
      "- This IS NOT expected if you are initializing WavLMForSequenceClassification from the checkpoint of a model that you expect to be exactly identical (initializing a BertForSequenceClassification model from a BertForSequenceClassification model).\n",
      "Some weights of WavLMForSequenceClassification were not initialized from the model checkpoint at aniemore/wavlm-emotion-russian-resd and are newly initialized: ['wavlm.encoder.pos_conv_embed.conv.parametrizations.weight.original0', 'wavlm.encoder.pos_conv_embed.conv.parametrizations.weight.original1']\n",
      "You should probably TRAIN this model on a down-stream task to be able to use it for predictions and inference.\n",
      "Some weights of the model checkpoint at aniemore/wavlm-emotion-russian-resd were not used when initializing WavLMForSequenceClassification: ['wavlm.encoder.pos_conv_embed.conv.weight_g', 'wavlm.encoder.pos_conv_embed.conv.weight_v']\n",
      "- This IS expected if you are initializing WavLMForSequenceClassification from the checkpoint of a model trained on another task or with another architecture (e.g. initializing a BertForSequenceClassification model from a BertForPreTraining model).\n",
      "- This IS NOT expected if you are initializing WavLMForSequenceClassification from the checkpoint of a model that you expect to be exactly identical (initializing a BertForSequenceClassification model from a BertForSequenceClassification model).\n",
      "Some weights of WavLMForSequenceClassification were not initialized from the model checkpoint at aniemore/wavlm-emotion-russian-resd and are newly initialized: ['wavlm.encoder.pos_conv_embed.conv.parametrizations.weight.original0', 'wavlm.encoder.pos_conv_embed.conv.parametrizations.weight.original1']\n",
      "You should probably TRAIN this model on a down-stream task to be able to use it for predictions and inference.\n"
     ]
    },
    {
     "data": {
      "text/plain": [
       "'happiness'"
      ]
     },
     "execution_count": 10,
     "metadata": {},
     "output_type": "execute_result"
    }
   ],
   "source": [
    "\n",
    "\n",
    "import torch\n",
    "from aniemore.recognizers.voice import VoiceRecognizer\n",
    "from aniemore.models import HuggingFaceModel\n",
    "\n",
    "model_w = HuggingFaceModel.Voice.WavLM\n",
    "device = 'cuda' if torch.cuda.is_available() else 'cpu'\n",
    "vr = VoiceRecognizer(model=model_w, device=device)\n",
    "\n",
    "n = 0\n",
    "wav_name = df_resd_train.name.iloc[n]\n",
    "out_f =  'dataset/RESD_train/' + str(n) + wav_name\n",
    "vr.recognize(out_f, return_single_label=True)"
   ]
  },
  {
   "cell_type": "markdown",
   "id": "5f3ca43f-ab85-4214-bae8-481335a93c7d",
   "metadata": {},
   "source": [
    "перевод речи в текст"
   ]
  },
  {
   "cell_type": "code",
   "execution_count": 11,
   "id": "26487beb-3b36-4b4f-8d28-54678aa915bb",
   "metadata": {},
   "outputs": [
    {
     "data": {
      "text/plain": [
       "[' Конечно, скажу, обязательно. Ой, сейчас, ну скажу.']"
      ]
     },
     "execution_count": 11,
     "metadata": {},
     "output_type": "execute_result"
    }
   ],
   "source": [
    "from transformers import WhisperProcessor, WhisperForConditionalGeneration\n",
    "from datasets import Audio, load_dataset\n",
    "\n",
    "# load model and processor\n",
    "processor = WhisperProcessor.from_pretrained(\"openai/whisper-tiny\")\n",
    "model_t = WhisperForConditionalGeneration.from_pretrained(\"openai/whisper-tiny\")\n",
    "forced_decoder_ids = processor.get_decoder_prompt_ids(language=\"russian\", task=\"transcribe\")\n",
    "\n",
    "wav_name = df_resd_train.name.iloc[n]\n",
    "speech = df_resd_train.speech.iloc[n]\n",
    "#\n",
    "#  тут чтение и создание структуры {'array':[  numpy массив из аудио ], \"sampling_rate\":16000}\n",
    "#\n",
    "\n",
    "input_features = processor(speech[\"array\"], sampling_rate=speech[\"sampling_rate\"], return_tensors=\"pt\").input_features\n",
    "\n",
    "# generate token ids\n",
    "predicted_ids = model_t.generate(input_features, forced_decoder_ids=forced_decoder_ids)\n",
    "# decode token ids to text\n",
    "transcription = processor.batch_decode(predicted_ids)\n",
    "\n",
    "transcription = processor.batch_decode(predicted_ids, skip_special_tokens=True)\n",
    "transcription"
   ]
  },
  {
   "cell_type": "markdown",
   "id": "b078ac22-a42a-4338-9f37-e7224a6113f5",
   "metadata": {},
   "source": [
    "Оценка эмоций по тексту"
   ]
  },
  {
   "cell_type": "code",
   "execution_count": 12,
   "id": "67525093-4032-4b9e-98c7-c699794959b3",
   "metadata": {},
   "outputs": [
    {
     "data": {
      "text/plain": [
       "'happiness'"
      ]
     },
     "execution_count": 12,
     "metadata": {},
     "output_type": "execute_result"
    }
   ],
   "source": [
    "import torch\n",
    "from aniemore.recognizers.text import TextRecognizer\n",
    "from aniemore.models import HuggingFaceModel\n",
    "\n",
    "model_e = HuggingFaceModel.Text.Bert_Tiny2\n",
    "device = 'cuda' if torch.cuda.is_available() else 'cpu'\n",
    "tr = TextRecognizer(model=model_e, device=device)\n",
    "\n",
    "tr.recognize(transcription[0], return_single_label=True)"
   ]
  },
  {
   "cell_type": "markdown",
   "id": "50044e0c-c5a5-49e6-9080-cf16fa51bfdc",
   "metadata": {},
   "source": [
    "### Весь поток целиком"
   ]
  },
  {
   "cell_type": "code",
   "execution_count": 19,
   "id": "5887a248-c80f-4cca-9a6a-03917a7b74e8",
   "metadata": {},
   "outputs": [],
   "source": [
    "rez = [] \n",
    "for i in range(100):#df_resd_train.shape[0]):\n",
    "    try:\n",
    "        t1 =  time.time()\n",
    "        wav_name = df_resd_train.name.iloc[i]\n",
    "        speech = df_resd_train.speech.iloc[i]\n",
    "        samples = speech['array']\n",
    "        fs = speech['sampling_rate']\n",
    "        out_f =  'dataset/RESD_train/' + str(i) + wav_name\n",
    "\n",
    "        s_em = vr.recognize(out_f, return_single_label=True)\n",
    "        # SER\n",
    "        input_features = processor(speech[\"array\"], sampling_rate=speech[\"sampling_rate\"], return_tensors=\"pt\").input_features\n",
    "\n",
    "        # STT\n",
    "        predicted_ids = model_t.generate(input_features, forced_decoder_ids=forced_decoder_ids)\n",
    "        # \n",
    "        transcription = processor.batch_decode(predicted_ids)\n",
    "        \n",
    "        transcription = processor.batch_decode(predicted_ids, skip_special_tokens=True)\n",
    "        \n",
    "        #SA\n",
    "        t_em = tr.recognize(transcription[0], return_single_label=True)\n",
    "\n",
    "        # label_pred = model(processor(speech))\n",
    "\n",
    "        label_true = df_resd_train.emotion.iloc[i]\n",
    "        t1 =  time.time() - t1 \n",
    "        rez.append([i, wav_name, label_true, s_em, t_em, t1]) \n",
    "        # break\n",
    "    except:\n",
    "        pass"
   ]
  },
  {
   "cell_type": "code",
   "execution_count": 21,
   "id": "13fd1c8c-c3d5-4f5d-93c8-c6e8663dce39",
   "metadata": {},
   "outputs": [],
   "source": [
    "df_aniemore_resd = pd.DataFrame(rez, columns=['N','file_name','label_true','label_audio','label_text', 't'])\n",
    "df_aniemore_resd.to_csv('aniem_resd.csv')"
   ]
  },
  {
   "cell_type": "markdown",
   "id": "56b1ef44-7853-4a06-af4b-7b2c80d2157b",
   "metadata": {},
   "source": [
    "### аккуратность модели\n",
    "    - по тексту"
   ]
  },
  {
   "cell_type": "code",
   "execution_count": 22,
   "id": "a1e1a755-fa3e-4e8b-adee-a4a5a75e2e57",
   "metadata": {},
   "outputs": [
    {
     "data": {
      "text/plain": [
       "0.15384615384615385"
      ]
     },
     "execution_count": 22,
     "metadata": {},
     "output_type": "execute_result"
    }
   ],
   "source": [
    "acc = np.mean(df_aniemore_resd.label_text == df_aniemore_resd.label_true)\n",
    "acc"
   ]
  },
  {
   "cell_type": "markdown",
   "id": "37aa7635-a60b-4fec-8465-8fe3c0656f13",
   "metadata": {},
   "source": [
    "    - по голосу"
   ]
  },
  {
   "cell_type": "code",
   "execution_count": 23,
   "id": "4f386739-73ce-42cc-958b-33cc8d58a32a",
   "metadata": {},
   "outputs": [
    {
     "data": {
      "text/plain": [
       "1.0"
      ]
     },
     "execution_count": 23,
     "metadata": {},
     "output_type": "execute_result"
    }
   ],
   "source": [
    "acc = np.mean(df_aniemore_resd.label_audio == df_aniemore_resd.label_true)\n",
    "acc"
   ]
  },
  {
   "cell_type": "markdown",
   "id": "1bd9d409-af0f-48cf-8627-c6f5f4cd6622",
   "metadata": {},
   "source": [
    "    - среднее время обработки"
   ]
  },
  {
   "cell_type": "code",
   "execution_count": 24,
   "id": "cd52e8d1-8d2f-4b67-9f5a-5debccd6492f",
   "metadata": {},
   "outputs": [
    {
     "data": {
      "text/plain": [
       "1.2905627672488873"
      ]
     },
     "execution_count": 24,
     "metadata": {},
     "output_type": "execute_result"
    }
   ],
   "source": [
    "df_aniemore_resd.t.mean()"
   ]
  },
  {
   "cell_type": "code",
   "execution_count": null,
   "id": "1fd4912b-ec10-4554-87d8-8ff287c27583",
   "metadata": {},
   "outputs": [],
   "source": []
  }
 ],
 "metadata": {
  "kernelspec": {
   "display_name": "Python 3 (ipykernel)",
   "language": "python",
   "name": "python3"
  },
  "language_info": {
   "codemirror_mode": {
    "name": "ipython",
    "version": 3
   },
   "file_extension": ".py",
   "mimetype": "text/x-python",
   "name": "python",
   "nbconvert_exporter": "python",
   "pygments_lexer": "ipython3",
   "version": "3.10.12"
  }
 },
 "nbformat": 4,
 "nbformat_minor": 5
}
