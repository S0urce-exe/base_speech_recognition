{
 "cells": [
  {
   "cell_type": "markdown",
   "id": "97cdbef4-9e7b-43a8-a242-cf757d7a11ac",
   "metadata": {},
   "source": [
    "# Пример работы с моделями открытых репозиториев:\n",
    "\n",
    "## - Hugginface:\n",
    "\n",
    "1. **Запуск моделей**:\n",
    "    - загрузить биилиотеки для работы: requirements.txt\n",
    "    - пройти на страницу моделей Hugginface: https://huggingface.co/models\n",
    "    - выбрать теги для работы. наши теги по задачам:\n",
    "        - Speech to text (STT): Audio и там automatic-speech-recognition, в \"Filter by name\" в меру воображения про русский язык (например, просто пишем  - ru )\n",
    "        - Text Sentiment Analize (TSA): Natural Language Processing и там text-classification, а  в \"Filter by name\" в меру воображения про русский язык (например, просто пишем  - ru ) \n",
    "        - Speech to Emotion recognition (SER): Audio и там audio-classification, в \"Filter by name\" в меру воображения про русский язык (например, просто пишем  - ru ) - замечание : тут много моделей не про речь - читаем описание моделей и корректируем выбор.\n",
    "    - Собираем список имен моделей:\n",
    "        - открыть модель из списка оставшихся рабочих образцов со страницы \n",
    "        - запустить модель с примером из датасета (небольшое тестовое множество)\n",
    "        - записать выходы и проверить адекватность записываемого \n",
    "    - Отбросить модели, которые решают не \"нашу\" задачу (не всегда прозрачно описан выход модели), и модели, которые не заработала (так тоже бывает)\n",
    " \n",
    " 2. **Тест**:\n",
    "    - Не верим результатам из карты модели - проверяем, но и себе не верим (проверяем)\n",
    "    - Запускаем \"Уцелевший список рабочих моделей\" и записываем результаты в один параллельно заполняемый Дата фрейм\n",
    "    - собрать таблицу результатов работы модели (дописать выходы модели к таблице с датасетом)\n",
    " \n",
    " 3. **Анализ**:\n",
    "    - провести очистку и интерпретицию результатов (модели не обязаны писать ответы как нам нужно, они пищут их как у них записано)\n",
    "    - тестим на разных данных (датасеты, тоже имеют свою разметку)\n",
    "    - пользуемся одной метрикой!!!!\n",
    " \n",
    " 4. **Выводы**       \n",
    "        "
   ]
  },
  {
   "cell_type": "markdown",
   "id": "ffbe034c-3518-4047-976a-bf70d11dc234",
   "metadata": {},
   "source": [
    "Пример для юболее продвинутого варианта использования моделей-  с доучиванием https://github.com/huggingface/notebooks/blob/main/examples/audio_classification.ipynb\n",
    "\n",
    "## Audio classification"
   ]
  },
  {
   "cell_type": "code",
   "execution_count": 1,
   "id": "1487e952-2211-49e8-b224-bddaa109ac70",
   "metadata": {},
   "outputs": [],
   "source": [
    "\n",
    "import pandas as pd\n",
    "import numpy as np\n",
    "import time\n",
    "\n",
    "import warnings\n",
    "warnings.simplefilter('ignore')\n"
   ]
  },
  {
   "cell_type": "markdown",
   "id": "ad45c130-ca05-4a5e-924b-6a75171b5add",
   "metadata": {},
   "source": [
    "## инсталировать нужные пакеты"
   ]
  },
  {
   "cell_type": "code",
   "execution_count": 2,
   "id": "908baa76-e27a-4dd7-8f20-07a24ca7c43d",
   "metadata": {},
   "outputs": [],
   "source": [
    "# # для установки torch (похоже tensorflow если используем его)\n",
    "# !pip install torch torchvision\n",
    "# # общий вариант\n",
    "# !pip install transformers \n",
    "# # вариант с только с цпу\n",
    "# # for torch\n",
    "# !pip install 'transformers[torch]'\n",
    "# # for tensorflow\n",
    "# !pip install 'transformers[tf-cpu]'\n",
    "\n",
    "# # другие варианты https://huggingface.co/docs/transformers/installation"
   ]
  },
  {
   "cell_type": "code",
   "execution_count": 3,
   "id": "5b6c7ea5-acab-4d87-a781-c443dd3673d4",
   "metadata": {},
   "outputs": [],
   "source": [
    "# пакет от Hugginface"
   ]
  },
  {
   "cell_type": "code",
   "execution_count": 10,
   "id": "f35d395c-cca0-46a8-9807-667fdde6833f",
   "metadata": {},
   "outputs": [
    {
     "ename": "RuntimeError",
     "evalue": "Failed to import transformers.pipelines because of the following error (look up to see its traceback):\ncannot import name 'split_torch_state_dict_into_shards' from 'huggingface_hub' (/home/boss/.local/lib/python3.10/site-packages/huggingface_hub/__init__.py)",
     "output_type": "error",
     "traceback": [
      "\u001b[0;31m---------------------------------------------------------------------------\u001b[0m",
      "\u001b[0;31mImportError\u001b[0m                               Traceback (most recent call last)",
      "File \u001b[0;32m~/.local/lib/python3.10/site-packages/transformers/utils/import_utils.py:1353\u001b[0m, in \u001b[0;36m_LazyModule._get_module\u001b[0;34m(self, module_name)\u001b[0m\n\u001b[1;32m   1352\u001b[0m \u001b[38;5;28;01mtry\u001b[39;00m:\n\u001b[0;32m-> 1353\u001b[0m     \u001b[38;5;28;01mreturn\u001b[39;00m \u001b[43mimportlib\u001b[49m\u001b[38;5;241;43m.\u001b[39;49m\u001b[43mimport_module\u001b[49m\u001b[43m(\u001b[49m\u001b[38;5;124;43m\"\u001b[39;49m\u001b[38;5;124;43m.\u001b[39;49m\u001b[38;5;124;43m\"\u001b[39;49m\u001b[43m \u001b[49m\u001b[38;5;241;43m+\u001b[39;49m\u001b[43m \u001b[49m\u001b[43mmodule_name\u001b[49m\u001b[43m,\u001b[49m\u001b[43m \u001b[49m\u001b[38;5;28;43mself\u001b[39;49m\u001b[38;5;241;43m.\u001b[39;49m\u001b[38;5;18;43m__name__\u001b[39;49m\u001b[43m)\u001b[49m\n\u001b[1;32m   1354\u001b[0m \u001b[38;5;28;01mexcept\u001b[39;00m \u001b[38;5;167;01mException\u001b[39;00m \u001b[38;5;28;01mas\u001b[39;00m e:\n",
      "File \u001b[0;32m/usr/lib/python3.10/importlib/__init__.py:126\u001b[0m, in \u001b[0;36mimport_module\u001b[0;34m(name, package)\u001b[0m\n\u001b[1;32m    125\u001b[0m         level \u001b[38;5;241m+\u001b[39m\u001b[38;5;241m=\u001b[39m \u001b[38;5;241m1\u001b[39m\n\u001b[0;32m--> 126\u001b[0m \u001b[38;5;28;01mreturn\u001b[39;00m \u001b[43m_bootstrap\u001b[49m\u001b[38;5;241;43m.\u001b[39;49m\u001b[43m_gcd_import\u001b[49m\u001b[43m(\u001b[49m\u001b[43mname\u001b[49m\u001b[43m[\u001b[49m\u001b[43mlevel\u001b[49m\u001b[43m:\u001b[49m\u001b[43m]\u001b[49m\u001b[43m,\u001b[49m\u001b[43m \u001b[49m\u001b[43mpackage\u001b[49m\u001b[43m,\u001b[49m\u001b[43m \u001b[49m\u001b[43mlevel\u001b[49m\u001b[43m)\u001b[49m\n",
      "File \u001b[0;32m<frozen importlib._bootstrap>:1050\u001b[0m, in \u001b[0;36m_gcd_import\u001b[0;34m(name, package, level)\u001b[0m\n",
      "File \u001b[0;32m<frozen importlib._bootstrap>:1027\u001b[0m, in \u001b[0;36m_find_and_load\u001b[0;34m(name, import_)\u001b[0m\n",
      "File \u001b[0;32m<frozen importlib._bootstrap>:1006\u001b[0m, in \u001b[0;36m_find_and_load_unlocked\u001b[0;34m(name, import_)\u001b[0m\n",
      "File \u001b[0;32m<frozen importlib._bootstrap>:688\u001b[0m, in \u001b[0;36m_load_unlocked\u001b[0;34m(spec)\u001b[0m\n",
      "File \u001b[0;32m<frozen importlib._bootstrap_external>:883\u001b[0m, in \u001b[0;36mexec_module\u001b[0;34m(self, module)\u001b[0m\n",
      "File \u001b[0;32m<frozen importlib._bootstrap>:241\u001b[0m, in \u001b[0;36m_call_with_frames_removed\u001b[0;34m(f, *args, **kwds)\u001b[0m\n",
      "File \u001b[0;32m~/.local/lib/python3.10/site-packages/transformers/pipelines/__init__.py:49\u001b[0m\n\u001b[1;32m     35\u001b[0m \u001b[38;5;28;01mfrom\u001b[39;00m \u001b[38;5;21;01m.\u001b[39;00m\u001b[38;5;21;01m.\u001b[39;00m\u001b[38;5;21;01mutils\u001b[39;00m \u001b[38;5;28;01mimport\u001b[39;00m (\n\u001b[1;32m     36\u001b[0m     CONFIG_NAME,\n\u001b[1;32m     37\u001b[0m     HUGGINGFACE_CO_RESOLVE_ENDPOINT,\n\u001b[0;32m   (...)\u001b[0m\n\u001b[1;32m     47\u001b[0m     logging,\n\u001b[1;32m     48\u001b[0m )\n\u001b[0;32m---> 49\u001b[0m \u001b[38;5;28;01mfrom\u001b[39;00m \u001b[38;5;21;01m.\u001b[39;00m\u001b[38;5;21;01maudio_classification\u001b[39;00m \u001b[38;5;28;01mimport\u001b[39;00m AudioClassificationPipeline\n\u001b[1;32m     50\u001b[0m \u001b[38;5;28;01mfrom\u001b[39;00m \u001b[38;5;21;01m.\u001b[39;00m\u001b[38;5;21;01mautomatic_speech_recognition\u001b[39;00m \u001b[38;5;28;01mimport\u001b[39;00m AutomaticSpeechRecognitionPipeline\n",
      "File \u001b[0;32m~/.local/lib/python3.10/site-packages/transformers/pipelines/audio_classification.py:21\u001b[0m\n\u001b[1;32m     20\u001b[0m \u001b[38;5;28;01mfrom\u001b[39;00m \u001b[38;5;21;01m.\u001b[39;00m\u001b[38;5;21;01m.\u001b[39;00m\u001b[38;5;21;01mutils\u001b[39;00m \u001b[38;5;28;01mimport\u001b[39;00m add_end_docstrings, is_torch_available, is_torchaudio_available, logging\n\u001b[0;32m---> 21\u001b[0m \u001b[38;5;28;01mfrom\u001b[39;00m \u001b[38;5;21;01m.\u001b[39;00m\u001b[38;5;21;01mbase\u001b[39;00m \u001b[38;5;28;01mimport\u001b[39;00m PIPELINE_INIT_ARGS, Pipeline\n\u001b[1;32m     24\u001b[0m \u001b[38;5;28;01mif\u001b[39;00m is_torch_available():\n",
      "File \u001b[0;32m~/.local/lib/python3.10/site-packages/transformers/pipelines/base.py:34\u001b[0m\n\u001b[1;32m     33\u001b[0m \u001b[38;5;28;01mfrom\u001b[39;00m \u001b[38;5;21;01m.\u001b[39;00m\u001b[38;5;21;01m.\u001b[39;00m\u001b[38;5;21;01mimage_processing_utils\u001b[39;00m \u001b[38;5;28;01mimport\u001b[39;00m BaseImageProcessor\n\u001b[0;32m---> 34\u001b[0m \u001b[38;5;28;01mfrom\u001b[39;00m \u001b[38;5;21;01m.\u001b[39;00m\u001b[38;5;21;01m.\u001b[39;00m\u001b[38;5;21;01mmodelcard\u001b[39;00m \u001b[38;5;28;01mimport\u001b[39;00m ModelCard\n\u001b[1;32m     35\u001b[0m \u001b[38;5;28;01mfrom\u001b[39;00m \u001b[38;5;21;01m.\u001b[39;00m\u001b[38;5;21;01m.\u001b[39;00m\u001b[38;5;21;01mmodels\u001b[39;00m\u001b[38;5;21;01m.\u001b[39;00m\u001b[38;5;21;01mauto\u001b[39;00m\u001b[38;5;21;01m.\u001b[39;00m\u001b[38;5;21;01mconfiguration_auto\u001b[39;00m \u001b[38;5;28;01mimport\u001b[39;00m AutoConfig\n",
      "File \u001b[0;32m~/.local/lib/python3.10/site-packages/transformers/modelcard.py:48\u001b[0m\n\u001b[1;32m     32\u001b[0m \u001b[38;5;28;01mfrom\u001b[39;00m \u001b[38;5;21;01m.\u001b[39;00m\u001b[38;5;21;01mmodels\u001b[39;00m\u001b[38;5;21;01m.\u001b[39;00m\u001b[38;5;21;01mauto\u001b[39;00m\u001b[38;5;21;01m.\u001b[39;00m\u001b[38;5;21;01mmodeling_auto\u001b[39;00m \u001b[38;5;28;01mimport\u001b[39;00m (\n\u001b[1;32m     33\u001b[0m     MODEL_FOR_AUDIO_CLASSIFICATION_MAPPING_NAMES,\n\u001b[1;32m     34\u001b[0m     MODEL_FOR_CAUSAL_LM_MAPPING_NAMES,\n\u001b[0;32m   (...)\u001b[0m\n\u001b[1;32m     46\u001b[0m     MODEL_FOR_ZERO_SHOT_IMAGE_CLASSIFICATION_MAPPING_NAMES,\n\u001b[1;32m     47\u001b[0m )\n\u001b[0;32m---> 48\u001b[0m \u001b[38;5;28;01mfrom\u001b[39;00m \u001b[38;5;21;01m.\u001b[39;00m\u001b[38;5;21;01mtraining_args\u001b[39;00m \u001b[38;5;28;01mimport\u001b[39;00m ParallelMode\n\u001b[1;32m     49\u001b[0m \u001b[38;5;28;01mfrom\u001b[39;00m \u001b[38;5;21;01m.\u001b[39;00m\u001b[38;5;21;01mutils\u001b[39;00m \u001b[38;5;28;01mimport\u001b[39;00m (\n\u001b[1;32m     50\u001b[0m     MODEL_CARD_NAME,\n\u001b[1;32m     51\u001b[0m     cached_file,\n\u001b[0;32m   (...)\u001b[0m\n\u001b[1;32m     57\u001b[0m     logging,\n\u001b[1;32m     58\u001b[0m )\n",
      "File \u001b[0;32m~/.local/lib/python3.10/site-packages/transformers/training_args.py:69\u001b[0m\n\u001b[1;32m     68\u001b[0m \u001b[38;5;28;01mif\u001b[39;00m is_accelerate_available():\n\u001b[0;32m---> 69\u001b[0m     \u001b[38;5;28;01mfrom\u001b[39;00m \u001b[38;5;21;01maccelerate\u001b[39;00m\u001b[38;5;21;01m.\u001b[39;00m\u001b[38;5;21;01mstate\u001b[39;00m \u001b[38;5;28;01mimport\u001b[39;00m AcceleratorState, PartialState\n\u001b[1;32m     70\u001b[0m     \u001b[38;5;28;01mfrom\u001b[39;00m \u001b[38;5;21;01maccelerate\u001b[39;00m\u001b[38;5;21;01m.\u001b[39;00m\u001b[38;5;21;01mutils\u001b[39;00m \u001b[38;5;28;01mimport\u001b[39;00m DistributedType\n",
      "File \u001b[0;32m~/.local/lib/python3.10/site-packages/accelerate/__init__.py:16\u001b[0m\n\u001b[1;32m     14\u001b[0m __version__ \u001b[38;5;241m=\u001b[39m \u001b[38;5;124m\"\u001b[39m\u001b[38;5;124m0.32.0.dev0\u001b[39m\u001b[38;5;124m\"\u001b[39m\n\u001b[0;32m---> 16\u001b[0m \u001b[38;5;28;01mfrom\u001b[39;00m \u001b[38;5;21;01m.\u001b[39;00m\u001b[38;5;21;01maccelerator\u001b[39;00m \u001b[38;5;28;01mimport\u001b[39;00m Accelerator\n\u001b[1;32m     17\u001b[0m \u001b[38;5;28;01mfrom\u001b[39;00m \u001b[38;5;21;01m.\u001b[39;00m\u001b[38;5;21;01mbig_modeling\u001b[39;00m \u001b[38;5;28;01mimport\u001b[39;00m (\n\u001b[1;32m     18\u001b[0m     cpu_offload,\n\u001b[1;32m     19\u001b[0m     cpu_offload_with_hook,\n\u001b[0;32m   (...)\u001b[0m\n\u001b[1;32m     24\u001b[0m     load_checkpoint_and_dispatch,\n\u001b[1;32m     25\u001b[0m )\n",
      "File \u001b[0;32m~/.local/lib/python3.10/site-packages/accelerate/accelerator.py:34\u001b[0m\n\u001b[1;32m     33\u001b[0m \u001b[38;5;28;01mimport\u001b[39;00m \u001b[38;5;21;01mtorch\u001b[39;00m\u001b[38;5;21;01m.\u001b[39;00m\u001b[38;5;21;01mutils\u001b[39;00m\u001b[38;5;21;01m.\u001b[39;00m\u001b[38;5;21;01mhooks\u001b[39;00m \u001b[38;5;28;01mas\u001b[39;00m \u001b[38;5;21;01mhooks\u001b[39;00m\n\u001b[0;32m---> 34\u001b[0m \u001b[38;5;28;01mfrom\u001b[39;00m \u001b[38;5;21;01mhuggingface_hub\u001b[39;00m \u001b[38;5;28;01mimport\u001b[39;00m split_torch_state_dict_into_shards\n\u001b[1;32m     36\u001b[0m \u001b[38;5;28;01mfrom\u001b[39;00m \u001b[38;5;21;01m.\u001b[39;00m\u001b[38;5;21;01mcheckpointing\u001b[39;00m \u001b[38;5;28;01mimport\u001b[39;00m load_accelerator_state, load_custom_state, save_accelerator_state, save_custom_state\n",
      "\u001b[0;31mImportError\u001b[0m: cannot import name 'split_torch_state_dict_into_shards' from 'huggingface_hub' (/home/boss/.local/lib/python3.10/site-packages/huggingface_hub/__init__.py)",
      "\nThe above exception was the direct cause of the following exception:\n",
      "\u001b[0;31mRuntimeError\u001b[0m                              Traceback (most recent call last)",
      "Cell \u001b[0;32mIn[10], line 1\u001b[0m\n\u001b[0;32m----> 1\u001b[0m \u001b[38;5;28;01mfrom\u001b[39;00m \u001b[38;5;21;01mtransformers\u001b[39;00m \u001b[38;5;28;01mimport\u001b[39;00m pipeline\n",
      "File \u001b[0;32m<frozen importlib._bootstrap>:1075\u001b[0m, in \u001b[0;36m_handle_fromlist\u001b[0;34m(module, fromlist, import_, recursive)\u001b[0m\n",
      "File \u001b[0;32m~/.local/lib/python3.10/site-packages/transformers/utils/import_utils.py:1343\u001b[0m, in \u001b[0;36m_LazyModule.__getattr__\u001b[0;34m(self, name)\u001b[0m\n\u001b[1;32m   1341\u001b[0m     value \u001b[38;5;241m=\u001b[39m \u001b[38;5;28mself\u001b[39m\u001b[38;5;241m.\u001b[39m_get_module(name)\n\u001b[1;32m   1342\u001b[0m \u001b[38;5;28;01melif\u001b[39;00m name \u001b[38;5;129;01min\u001b[39;00m \u001b[38;5;28mself\u001b[39m\u001b[38;5;241m.\u001b[39m_class_to_module\u001b[38;5;241m.\u001b[39mkeys():\n\u001b[0;32m-> 1343\u001b[0m     module \u001b[38;5;241m=\u001b[39m \u001b[38;5;28;43mself\u001b[39;49m\u001b[38;5;241;43m.\u001b[39;49m\u001b[43m_get_module\u001b[49m\u001b[43m(\u001b[49m\u001b[38;5;28;43mself\u001b[39;49m\u001b[38;5;241;43m.\u001b[39;49m\u001b[43m_class_to_module\u001b[49m\u001b[43m[\u001b[49m\u001b[43mname\u001b[49m\u001b[43m]\u001b[49m\u001b[43m)\u001b[49m\n\u001b[1;32m   1344\u001b[0m     value \u001b[38;5;241m=\u001b[39m \u001b[38;5;28mgetattr\u001b[39m(module, name)\n\u001b[1;32m   1345\u001b[0m \u001b[38;5;28;01melse\u001b[39;00m:\n",
      "File \u001b[0;32m~/.local/lib/python3.10/site-packages/transformers/utils/import_utils.py:1355\u001b[0m, in \u001b[0;36m_LazyModule._get_module\u001b[0;34m(self, module_name)\u001b[0m\n\u001b[1;32m   1353\u001b[0m     \u001b[38;5;28;01mreturn\u001b[39;00m importlib\u001b[38;5;241m.\u001b[39mimport_module(\u001b[38;5;124m\"\u001b[39m\u001b[38;5;124m.\u001b[39m\u001b[38;5;124m\"\u001b[39m \u001b[38;5;241m+\u001b[39m module_name, \u001b[38;5;28mself\u001b[39m\u001b[38;5;241m.\u001b[39m\u001b[38;5;18m__name__\u001b[39m)\n\u001b[1;32m   1354\u001b[0m \u001b[38;5;28;01mexcept\u001b[39;00m \u001b[38;5;167;01mException\u001b[39;00m \u001b[38;5;28;01mas\u001b[39;00m e:\n\u001b[0;32m-> 1355\u001b[0m     \u001b[38;5;28;01mraise\u001b[39;00m \u001b[38;5;167;01mRuntimeError\u001b[39;00m(\n\u001b[1;32m   1356\u001b[0m         \u001b[38;5;124mf\u001b[39m\u001b[38;5;124m\"\u001b[39m\u001b[38;5;124mFailed to import \u001b[39m\u001b[38;5;132;01m{\u001b[39;00m\u001b[38;5;28mself\u001b[39m\u001b[38;5;241m.\u001b[39m\u001b[38;5;18m__name__\u001b[39m\u001b[38;5;132;01m}\u001b[39;00m\u001b[38;5;124m.\u001b[39m\u001b[38;5;132;01m{\u001b[39;00mmodule_name\u001b[38;5;132;01m}\u001b[39;00m\u001b[38;5;124m because of the following error (look up to see its\u001b[39m\u001b[38;5;124m\"\u001b[39m\n\u001b[1;32m   1357\u001b[0m         \u001b[38;5;124mf\u001b[39m\u001b[38;5;124m\"\u001b[39m\u001b[38;5;124m traceback):\u001b[39m\u001b[38;5;130;01m\\n\u001b[39;00m\u001b[38;5;132;01m{\u001b[39;00me\u001b[38;5;132;01m}\u001b[39;00m\u001b[38;5;124m\"\u001b[39m\n\u001b[1;32m   1358\u001b[0m     ) \u001b[38;5;28;01mfrom\u001b[39;00m \u001b[38;5;21;01me\u001b[39;00m\n",
      "\u001b[0;31mRuntimeError\u001b[0m: Failed to import transformers.pipelines because of the following error (look up to see its traceback):\ncannot import name 'split_torch_state_dict_into_shards' from 'huggingface_hub' (/home/boss/.local/lib/python3.10/site-packages/huggingface_hub/__init__.py)"
     ]
    }
   ],
   "source": [
    "from transformers import pipeline\n"
   ]
  },
  {
   "cell_type": "code",
   "execution_count": 5,
   "id": "8ab05915-d536-47b0-b35c-d20f7fed5ae8",
   "metadata": {},
   "outputs": [],
   "source": [
    "# серилизация объектов"
   ]
  },
  {
   "cell_type": "code",
   "execution_count": 9,
   "id": "75ad8b89-6747-4f43-ac73-be75a228d17b",
   "metadata": {},
   "outputs": [],
   "source": [
    "import pickle"
   ]
  },
  {
   "cell_type": "markdown",
   "id": "63303d8f-c844-4894-91dd-d30b5ad755f3",
   "metadata": {},
   "source": [
    "## Датасеты\n",
    "\n",
    "  - **RESD** : 7 классов\n",
    "  - https://huggingface.co/datasets/Aniemore/resd_annotated\n"
   ]
  },
  {
   "cell_type": "code",
   "execution_count": 7,
   "id": "b996bbac-2493-413e-8b85-41cd7ac6889d",
   "metadata": {},
   "outputs": [],
   "source": [
    "path_resd_train = 'dataset/data_RESD.pickle'\n",
    "\n",
    "\n",
    "with open(path_resd_train, 'rb') as f:\n",
    "    # The protocol version used is detected automatically, so we do not\n",
    "    # have to specify it.\n",
    "    data = pickle.load(f)"
   ]
  },
  {
   "cell_type": "code",
   "execution_count": 8,
   "id": "ff99a7b4-b8a0-4741-99fb-74f6325d85e4",
   "metadata": {},
   "outputs": [
    {
     "data": {
      "text/plain": [
       "{'name': '32_happiness_enthusiasm_h_120',\n",
       " 'path': 'happiness_enthusiasm_32/32_happiness_enthusiasm_h_120.wav',\n",
       " 'emotion': 'happiness',\n",
       " 'speech': {'path': '32_happiness_enthusiasm_h_120.wav',\n",
       "  'array': array([-0.00018311, -0.00061035, -0.00076294, ...,  0.00085449,\n",
       "          0.00048828,  0.00030518]),\n",
       "  'sampling_rate': 16000}}"
      ]
     },
     "execution_count": 8,
     "metadata": {},
     "output_type": "execute_result"
    }
   ],
   "source": [
    "data[0]"
   ]
  },
  {
   "cell_type": "code",
   "execution_count": 9,
   "id": "af5d6073-2663-4718-b276-3a28cf298175",
   "metadata": {},
   "outputs": [
    {
     "data": {
      "text/html": [
       "<div>\n",
       "<style scoped>\n",
       "    .dataframe tbody tr th:only-of-type {\n",
       "        vertical-align: middle;\n",
       "    }\n",
       "\n",
       "    .dataframe tbody tr th {\n",
       "        vertical-align: top;\n",
       "    }\n",
       "\n",
       "    .dataframe thead th {\n",
       "        text-align: right;\n",
       "    }\n",
       "</style>\n",
       "<table border=\"1\" class=\"dataframe\">\n",
       "  <thead>\n",
       "    <tr style=\"text-align: right;\">\n",
       "      <th></th>\n",
       "      <th>name</th>\n",
       "      <th>path</th>\n",
       "      <th>emotion</th>\n",
       "      <th>speech</th>\n",
       "    </tr>\n",
       "  </thead>\n",
       "  <tbody>\n",
       "    <tr>\n",
       "      <th>0</th>\n",
       "      <td>32_happiness_enthusiasm_h_120</td>\n",
       "      <td>happiness_enthusiasm_32/32_happiness_enthusias...</td>\n",
       "      <td>happiness</td>\n",
       "      <td>{'path': '32_happiness_enthusiasm_h_120.wav', ...</td>\n",
       "    </tr>\n",
       "    <tr>\n",
       "      <th>1</th>\n",
       "      <td>36_disgust_happiness_d_130</td>\n",
       "      <td>disgust_happiness_36/36_disgust_happiness_d_13...</td>\n",
       "      <td>disgust</td>\n",
       "      <td>{'path': '36_disgust_happiness_d_130.wav', 'ar...</td>\n",
       "    </tr>\n",
       "    <tr>\n",
       "      <th>2</th>\n",
       "      <td>34_anger_fear_a_060</td>\n",
       "      <td>anger_fear_34/34_anger_fear_a_060.wav</td>\n",
       "      <td>anger</td>\n",
       "      <td>{'path': '34_anger_fear_a_060.wav', 'array': [...</td>\n",
       "    </tr>\n",
       "    <tr>\n",
       "      <th>3</th>\n",
       "      <td>25_anger_disgust_a_010</td>\n",
       "      <td>anger_disgust_25/25_anger_disgust_a_010.wav</td>\n",
       "      <td>anger</td>\n",
       "      <td>{'path': '25_anger_disgust_a_010.wav', 'array'...</td>\n",
       "    </tr>\n",
       "    <tr>\n",
       "      <th>4</th>\n",
       "      <td>17_neutral_disgust_d_092</td>\n",
       "      <td>neutral_disgust_17/17_neutral_disgust_d_092.wav</td>\n",
       "      <td>disgust</td>\n",
       "      <td>{'path': '17_neutral_disgust_d_092.wav', 'arra...</td>\n",
       "    </tr>\n",
       "  </tbody>\n",
       "</table>\n",
       "</div>"
      ],
      "text/plain": [
       "                            name  \\\n",
       "0  32_happiness_enthusiasm_h_120   \n",
       "1     36_disgust_happiness_d_130   \n",
       "2            34_anger_fear_a_060   \n",
       "3         25_anger_disgust_a_010   \n",
       "4       17_neutral_disgust_d_092   \n",
       "\n",
       "                                                path    emotion  \\\n",
       "0  happiness_enthusiasm_32/32_happiness_enthusias...  happiness   \n",
       "1  disgust_happiness_36/36_disgust_happiness_d_13...    disgust   \n",
       "2              anger_fear_34/34_anger_fear_a_060.wav      anger   \n",
       "3        anger_disgust_25/25_anger_disgust_a_010.wav      anger   \n",
       "4    neutral_disgust_17/17_neutral_disgust_d_092.wav    disgust   \n",
       "\n",
       "                                              speech  \n",
       "0  {'path': '32_happiness_enthusiasm_h_120.wav', ...  \n",
       "1  {'path': '36_disgust_happiness_d_130.wav', 'ar...  \n",
       "2  {'path': '34_anger_fear_a_060.wav', 'array': [...  \n",
       "3  {'path': '25_anger_disgust_a_010.wav', 'array'...  \n",
       "4  {'path': '17_neutral_disgust_d_092.wav', 'arra...  "
      ]
     },
     "execution_count": 9,
     "metadata": {},
     "output_type": "execute_result"
    }
   ],
   "source": [
    "df_resd_train = pd.DataFrame(data)\n",
    "df_resd_train.head()"
   ]
  },
  {
   "cell_type": "code",
   "execution_count": 10,
   "id": "9bdf08d1-de75-40be-9860-180570b2074f",
   "metadata": {},
   "outputs": [],
   "source": [
    "# from https://www.kaggle.com/datasets/ar4ikov/resd-dataset?resource=download"
   ]
  },
  {
   "cell_type": "code",
   "execution_count": 11,
   "id": "f6a55370-a4df-492a-8198-f4fe717da40b",
   "metadata": {},
   "outputs": [],
   "source": [
    "path_resd_test  = 'dataset/RESD_csv/test.csv'"
   ]
  },
  {
   "cell_type": "code",
   "execution_count": 12,
   "id": "36f1a243-5294-4fb0-a65b-3fa727a638c4",
   "metadata": {},
   "outputs": [
    {
     "data": {
      "text/html": [
       "<div>\n",
       "<style scoped>\n",
       "    .dataframe tbody tr th:only-of-type {\n",
       "        vertical-align: middle;\n",
       "    }\n",
       "\n",
       "    .dataframe tbody tr th {\n",
       "        vertical-align: top;\n",
       "    }\n",
       "\n",
       "    .dataframe thead th {\n",
       "        text-align: right;\n",
       "    }\n",
       "</style>\n",
       "<table border=\"1\" class=\"dataframe\">\n",
       "  <thead>\n",
       "    <tr style=\"text-align: right;\">\n",
       "      <th></th>\n",
       "      <th>name</th>\n",
       "      <th>path</th>\n",
       "      <th>emotion</th>\n",
       "      <th>text</th>\n",
       "    </tr>\n",
       "  </thead>\n",
       "  <tbody>\n",
       "    <tr>\n",
       "      <th>0</th>\n",
       "      <td>27_neutral_fear_n_100</td>\n",
       "      <td>neutral_fear_27/27_neutral_fear_n_100.wav</td>\n",
       "      <td>neutral</td>\n",
       "      <td>Вам дадут целый минимальный оклад, но при этом...</td>\n",
       "    </tr>\n",
       "    <tr>\n",
       "      <th>1</th>\n",
       "      <td>08_sadness_anger a_010</td>\n",
       "      <td>08_sadness_anger/08_sadness_anger a_010.wav</td>\n",
       "      <td>anger</td>\n",
       "      <td>Сколько можно звонить?</td>\n",
       "    </tr>\n",
       "    <tr>\n",
       "      <th>2</th>\n",
       "      <td>26_enthusiasm_happiness_e_120</td>\n",
       "      <td>enthusiasm_happiness_26/26_enthusiasm_happines...</td>\n",
       "      <td>enthusiasm</td>\n",
       "      <td>А как долго тебе нужно это всё узнавать?</td>\n",
       "    </tr>\n",
       "    <tr>\n",
       "      <th>3</th>\n",
       "      <td>42_anger_fear_a_190</td>\n",
       "      <td>anger_fear_42/42_anger_fear_a_190.wav</td>\n",
       "      <td>anger</td>\n",
       "      <td>Ну а мне в 5 часов вставать на работу!</td>\n",
       "    </tr>\n",
       "    <tr>\n",
       "      <th>4</th>\n",
       "      <td>04_fear_enthusiasm f_090</td>\n",
       "      <td>04_fear_enthusiasm/04_fear_enthusiasm f_090.wav</td>\n",
       "      <td>fear</td>\n",
       "      <td>Честно, я не подскажу, ну как и обычно, любым ...</td>\n",
       "    </tr>\n",
       "  </tbody>\n",
       "</table>\n",
       "</div>"
      ],
      "text/plain": [
       "                            name  \\\n",
       "0          27_neutral_fear_n_100   \n",
       "1         08_sadness_anger a_010   \n",
       "2  26_enthusiasm_happiness_e_120   \n",
       "3            42_anger_fear_a_190   \n",
       "4       04_fear_enthusiasm f_090   \n",
       "\n",
       "                                                path     emotion  \\\n",
       "0          neutral_fear_27/27_neutral_fear_n_100.wav     neutral   \n",
       "1        08_sadness_anger/08_sadness_anger a_010.wav       anger   \n",
       "2  enthusiasm_happiness_26/26_enthusiasm_happines...  enthusiasm   \n",
       "3              anger_fear_42/42_anger_fear_a_190.wav       anger   \n",
       "4    04_fear_enthusiasm/04_fear_enthusiasm f_090.wav        fear   \n",
       "\n",
       "                                                text  \n",
       "0  Вам дадут целый минимальный оклад, но при этом...  \n",
       "1                             Сколько можно звонить?  \n",
       "2           А как долго тебе нужно это всё узнавать?  \n",
       "3             Ну а мне в 5 часов вставать на работу!  \n",
       "4  Честно, я не подскажу, ну как и обычно, любым ...  "
      ]
     },
     "execution_count": 12,
     "metadata": {},
     "output_type": "execute_result"
    }
   ],
   "source": [
    "df_resd = pd.read_csv(path_resd_test )\n",
    "df_resd.head()"
   ]
  },
  {
   "cell_type": "code",
   "execution_count": 13,
   "id": "7ad0223e-9ca8-48a5-9060-8db9fcf0d4ff",
   "metadata": {},
   "outputs": [
    {
     "data": {
      "text/plain": [
       "emotion\n",
       "fear          45\n",
       "anger         44\n",
       "happiness     44\n",
       "enthusiasm    40\n",
       "neutral       38\n",
       "disgust       37\n",
       "sadness       32\n",
       "Name: count, dtype: int64"
      ]
     },
     "execution_count": 13,
     "metadata": {},
     "output_type": "execute_result"
    }
   ],
   "source": [
    "df_resd.emotion.value_counts()"
   ]
  },
  {
   "cell_type": "markdown",
   "id": "59757131-b8bb-454a-8044-aa605349e1eb",
   "metadata": {},
   "source": [
    "- сбалансирован"
   ]
  },
  {
   "cell_type": "markdown",
   "id": "44f83669-1a59-47a6-b5a6-78943e5716ca",
   "metadata": {},
   "source": [
    "   - **DUSHA** : 5 классов\n",
    "   - https://github.com/salute-developers/golos/tree/master/dusha#dusha-dataset"
   ]
  },
  {
   "cell_type": "code",
   "execution_count": 14,
   "id": "ed799833-304f-4a00-8a8c-b26c0e6d6723",
   "metadata": {},
   "outputs": [
    {
     "data": {
      "text/html": [
       "<div>\n",
       "<style scoped>\n",
       "    .dataframe tbody tr th:only-of-type {\n",
       "        vertical-align: middle;\n",
       "    }\n",
       "\n",
       "    .dataframe tbody tr th {\n",
       "        vertical-align: top;\n",
       "    }\n",
       "\n",
       "    .dataframe thead th {\n",
       "        text-align: right;\n",
       "    }\n",
       "</style>\n",
       "<table border=\"1\" class=\"dataframe\">\n",
       "  <thead>\n",
       "    <tr style=\"text-align: right;\">\n",
       "      <th></th>\n",
       "      <th>hash_id</th>\n",
       "      <th>audio_path</th>\n",
       "      <th>duration</th>\n",
       "      <th>annotator_emo</th>\n",
       "      <th>golden_emo</th>\n",
       "      <th>annotator_id</th>\n",
       "      <th>speaker_text</th>\n",
       "      <th>speaker_emo</th>\n",
       "      <th>source_id</th>\n",
       "    </tr>\n",
       "  </thead>\n",
       "  <tbody>\n",
       "    <tr>\n",
       "      <th>0</th>\n",
       "      <td>857b7099a4f5766105d166e2283066fa</td>\n",
       "      <td>wavs/857b7099a4f5766105d166e2283066fa.wav</td>\n",
       "      <td>4.4</td>\n",
       "      <td>neutral</td>\n",
       "      <td>NaN</td>\n",
       "      <td>a6aea16a81aa926eee405c0878162c91</td>\n",
       "      <td>NaN</td>\n",
       "      <td>NaN</td>\n",
       "      <td>d6738a1e0d59f783987e0503ddb4ca54</td>\n",
       "    </tr>\n",
       "    <tr>\n",
       "      <th>1</th>\n",
       "      <td>2107b749055d85d7c09ac49fd30e3feb</td>\n",
       "      <td>wavs/2107b749055d85d7c09ac49fd30e3feb.wav</td>\n",
       "      <td>3.8</td>\n",
       "      <td>neutral</td>\n",
       "      <td>2.0</td>\n",
       "      <td>a6aea16a81aa926eee405c0878162c91</td>\n",
       "      <td>NaN</td>\n",
       "      <td>NaN</td>\n",
       "      <td>1fcfcacf584841d22fbdf4a51fe6177d</td>\n",
       "    </tr>\n",
       "    <tr>\n",
       "      <th>2</th>\n",
       "      <td>700b3a5644a0824831848c346d11c7d6</td>\n",
       "      <td>wavs/700b3a5644a0824831848c346d11c7d6.wav</td>\n",
       "      <td>2.5</td>\n",
       "      <td>neutral</td>\n",
       "      <td>NaN</td>\n",
       "      <td>a6aea16a81aa926eee405c0878162c91</td>\n",
       "      <td>NaN</td>\n",
       "      <td>NaN</td>\n",
       "      <td>dfd63e80a7aca8d4cb4e14e062441886</td>\n",
       "    </tr>\n",
       "    <tr>\n",
       "      <th>3</th>\n",
       "      <td>e8c053899135f139e9527c1388790e36</td>\n",
       "      <td>wavs/e8c053899135f139e9527c1388790e36.wav</td>\n",
       "      <td>1.7</td>\n",
       "      <td>neutral</td>\n",
       "      <td>NaN</td>\n",
       "      <td>a6aea16a81aa926eee405c0878162c91</td>\n",
       "      <td>NaN</td>\n",
       "      <td>NaN</td>\n",
       "      <td>63c3ae005d1663de92314be4377a8805</td>\n",
       "    </tr>\n",
       "    <tr>\n",
       "      <th>4</th>\n",
       "      <td>7fe59996e0f93b8a63e28aacf480004b</td>\n",
       "      <td>wavs/7fe59996e0f93b8a63e28aacf480004b.wav</td>\n",
       "      <td>1.9</td>\n",
       "      <td>neutral</td>\n",
       "      <td>NaN</td>\n",
       "      <td>a6aea16a81aa926eee405c0878162c91</td>\n",
       "      <td>NaN</td>\n",
       "      <td>NaN</td>\n",
       "      <td>14abbe44c78118171f01348f862698cd</td>\n",
       "    </tr>\n",
       "  </tbody>\n",
       "</table>\n",
       "</div>"
      ],
      "text/plain": [
       "                            hash_id  \\\n",
       "0  857b7099a4f5766105d166e2283066fa   \n",
       "1  2107b749055d85d7c09ac49fd30e3feb   \n",
       "2  700b3a5644a0824831848c346d11c7d6   \n",
       "3  e8c053899135f139e9527c1388790e36   \n",
       "4  7fe59996e0f93b8a63e28aacf480004b   \n",
       "\n",
       "                                  audio_path  duration annotator_emo  \\\n",
       "0  wavs/857b7099a4f5766105d166e2283066fa.wav       4.4       neutral   \n",
       "1  wavs/2107b749055d85d7c09ac49fd30e3feb.wav       3.8       neutral   \n",
       "2  wavs/700b3a5644a0824831848c346d11c7d6.wav       2.5       neutral   \n",
       "3  wavs/e8c053899135f139e9527c1388790e36.wav       1.7       neutral   \n",
       "4  wavs/7fe59996e0f93b8a63e28aacf480004b.wav       1.9       neutral   \n",
       "\n",
       "   golden_emo                      annotator_id  speaker_text  speaker_emo  \\\n",
       "0         NaN  a6aea16a81aa926eee405c0878162c91           NaN          NaN   \n",
       "1         2.0  a6aea16a81aa926eee405c0878162c91           NaN          NaN   \n",
       "2         NaN  a6aea16a81aa926eee405c0878162c91           NaN          NaN   \n",
       "3         NaN  a6aea16a81aa926eee405c0878162c91           NaN          NaN   \n",
       "4         NaN  a6aea16a81aa926eee405c0878162c91           NaN          NaN   \n",
       "\n",
       "                          source_id  \n",
       "0  d6738a1e0d59f783987e0503ddb4ca54  \n",
       "1  1fcfcacf584841d22fbdf4a51fe6177d  \n",
       "2  dfd63e80a7aca8d4cb4e14e062441886  \n",
       "3  63c3ae005d1663de92314be4377a8805  \n",
       "4  14abbe44c78118171f01348f862698cd  "
      ]
     },
     "execution_count": 14,
     "metadata": {},
     "output_type": "execute_result"
    }
   ],
   "source": [
    "df_dusha = pd.read_csv('dataset/dusha/podcast_train/raw_podcast_train.tsv',  sep = '\t')\n",
    "df_dusha.head()"
   ]
  },
  {
   "cell_type": "code",
   "execution_count": 15,
   "id": "8cdb39c3-82fc-4aa2-aa33-34d340294f06",
   "metadata": {},
   "outputs": [
    {
     "data": {
      "text/plain": [
       "(645813, 9)"
      ]
     },
     "execution_count": 15,
     "metadata": {},
     "output_type": "execute_result"
    }
   ],
   "source": [
    "df_dusha.shape"
   ]
  },
  {
   "cell_type": "code",
   "execution_count": 16,
   "id": "bec1911d-2be1-4e5d-80d2-9e9b185490e4",
   "metadata": {},
   "outputs": [
    {
     "data": {
      "text/plain": [
       "annotator_emo\n",
       "neutral     579685\n",
       "positive     37366\n",
       "sad          15100\n",
       "angry        11685\n",
       "other         1977\n",
       "Name: count, dtype: int64"
      ]
     },
     "execution_count": 16,
     "metadata": {},
     "output_type": "execute_result"
    }
   ],
   "source": [
    "df_dusha.annotator_emo.value_counts()"
   ]
  },
  {
   "cell_type": "markdown",
   "id": "ca316649-b899-4587-941e-91943d8b6777",
   "metadata": {},
   "source": [
    "- разбалансирован"
   ]
  },
  {
   "cell_type": "code",
   "execution_count": 17,
   "id": "69afd060-48cd-4a35-be00-07d78654f655",
   "metadata": {},
   "outputs": [],
   "source": [
    "path_wav = 'dataset/dusha/podcast_train/'"
   ]
  },
  {
   "cell_type": "markdown",
   "id": "032cc593-a4a4-4cdb-880c-9bf9fce351a8",
   "metadata": {},
   "source": [
    "# Запуск модели c Hugginface"
   ]
  },
  {
   "cell_type": "markdown",
   "id": "fcc42bce-df64-4142-acbc-1a1d77c6075f",
   "metadata": {},
   "source": [
    "## 1. **Запуск моделей** "
   ]
  },
  {
   "cell_type": "markdown",
   "id": "ce99f418-aeb0-47f4-be0d-d7d9edf00d41",
   "metadata": {},
   "source": [
    "+chrisjay/afrospeech-wav2vec-run : https://huggingface.co/chrisjay/afrospeech-wav2vec-run?library=true\n",
    "\n",
    "+Aniemore/wavlm-emotion-russian-resd : https://huggingface.co/Aniemore/wavlm-emotion-russian-resd?library=true\n",
    "\n",
    "+\"Aniemore/hubert-emotion-russian-resd\": https://huggingface.co/Aniemore/hubert-emotion-russian-resd?library=true\n",
    "\n",
    "+KELONMYOSA/wav2vec2-xls-r-300m-emotion-ru : https://huggingface.co/KELONMYOSA/wav2vec2-xls-r-300m-emotion-ru?library=true\n",
    "\n",
    "-\"xbgoose/hubert-base-speech-emotion-recognition-russian-dusha-finetuned\" : https://huggingface.co/xbgoose/hubert-base-speech-emotion-recognition-russian-dusha-finetuned?library=true\n",
    "\n",
    "-\"xbgoose/wavlm-large-speech-emotion-recognition-russian-dusha-finetuned\" : https://huggingface.co/xbgoose/wavlm-large-speech-emotion-recognition-russian-dusha-finetuned?library=true\n",
    "\n",
    "+\"ruisp/hubert-base-ls960-finetuned-gtzan\" : https://huggingface.co/ruisp/hubert-base-ls960-finetuned-gtzan\n",
    "\n",
    "+\"Aniemore/wav2vec2-emotion-russian-resd\" : https://huggingface.co/Aniemore/wav2vec2-emotion-russian-resd?library=true\n",
    "\n",
    "+\"Aniemore/unispeech-sat-emotion-russian-resd\" : https://huggingface.co/Aniemore/unispeech-sat-emotion-russian-resd?library=true\n",
    "\n",
    "+\"justin1983/wav2vec2-large-xlsr-53-russian-finetuned-amd\" : https://huggingface.co/justin1983/wav2vec2-large-xlsr-53-russian-finetuned-amd\n",
    "\n",
    "-\"xbgoose/hubert-large-speech-emotion-recognition-russian-dusha-finetuned\" : https://huggingface.co/xbgoose/hubert-large-speech-emotion-recognition-russian-dusha-finetuned\n",
    "\n",
    "-\"xbgoose/wavlm-base-speech-emotion-recognition-russian-dusha-finetuned\" : https://huggingface.co/xbgoose/wavlm-base-speech-emotion-recognition-russian-dusha-finetuned\n",
    "\n",
    "-\"ArinaOwl/ast-ser-ru\" : https://huggingface.co/ArinaOwl/ast-ser-ru\n",
    "\n",
    "+/- заработала/нет"
   ]
  },
  {
   "cell_type": "markdown",
   "id": "eff2e725-cf9f-4b1a-ac3e-79a6e7901911",
   "metadata": {},
   "source": [
    "### Список рабочих вариантов"
   ]
  },
  {
   "cell_type": "code",
   "execution_count": 18,
   "id": "bb609621-8225-4307-8a4c-1afac1a63342",
   "metadata": {},
   "outputs": [],
   "source": [
    "model_list = [\"Aniemore/wavlm-emotion-russian-resd\", \n",
    "              # \"chrisjay/afrospeech-wav2vec-run\", не интерпретируемая разметка или не руччкий набор в основе\n",
    "              \"Aniemore/hubert-emotion-russian-resd\", \n",
    "              \"KELONMYOSA/wav2vec2-xls-r-300m-emotion-ru\", #\n",
    "              # \"xbgoose/hubert-base-speech-emotion-recognition-russian-dusha-finetuned\", не запустилась \n",
    "              # \"xbgoose/wavlm-large-speech-emotion-recognition-russian-dusha-finetuned\", не запустилась\n",
    "              # \"ruisp/hubert-base-ls960-finetuned-gtzan\", классификатор музыки\n",
    "             \"Aniemore/wav2vec2-emotion-russian-resd\",\n",
    "             \"Aniemore/unispeech-sat-emotion-russian-resd\", \n",
    "             # justin1983/wav2vec2-large-xlsr-53-russian-finetuned-amd\", # тип шума (машины, и т.п.)\n",
    "             # \"xbgoose/hubert-large-speech-emotion-recognition-russian-dusha-finetuned\", не запустилась\n",
    "             # \"xbgoose/wavlm-base-speech-emotion-recognition-russian-dusha-finetuned\", не запустилась\n",
    "             # \"ArinaOwl/ast-ser-ru\" не работает\n",
    "             \n",
    "             ]"
   ]
  },
  {
   "cell_type": "markdown",
   "id": "95c15909-dd2f-4486-be3c-cf9883c62444",
   "metadata": {},
   "source": [
    "## 2. Tест моделей :\n",
    "\n",
    "    - модели из списка уже проверены на то, что запускаются и работают (проверены прямо в этом же коде для небольшого числа примеров), т.е. теперь просто запускаем модель для получения ответа (в привычной для нее форме)\n",
    "\n",
    "    - К сожалению, ответы не гарантированно одинаково построены (хотя и имеют для Hugginface общую структуру). Например, Aniemore - сортирует ответы в порядке качества, а KELONMYOSA - нет. Просто внимательно смотрим , что вернулось"
   ]
  },
  {
   "cell_type": "code",
   "execution_count": null,
   "id": "b1a42c1f-bcf0-4edf-89ae-98a8df51152b",
   "metadata": {
    "scrolled": true
   },
   "outputs": [],
   "source": [
    "out_model = []\n",
    "for model_name in model_list:\n",
    "    # try:\n",
    "        t1 = time.time()\n",
    "        classifier = pipeline(\"audio-classification\", model=model_name, trust_remote_code=True)\n",
    "        t1 = time.time() -  t1\n",
    "        count = 0\n",
    "        print(model_name)\n",
    "        for i in range(df_dusha.shape[0]):\n",
    "            # try:\n",
    "                wav_name = path_wav  + df_dusha.audio_path.iloc[i]\n",
    "                t1 = time.time()\n",
    "                out = classifier(wav_name)\n",
    "                t1 = time.time() -  t1\n",
    "                print(end='.')\n",
    "                out_r = np.argmax([r['score'] for r in out  ])\n",
    "                # print(model_name, out_r, out, out[out_r ]['score'])\n",
    "                out_model += [[model_name, wav_name, df_dusha.annotator_emo.iloc[i], out[out_r ]['label'], out[out_r ]['score'], out[1]['label'], out[1]['score'], t1], ]\n",
    "                if count>500:\n",
    "                    print('500')\n",
    "                    break\n",
    "                else:\n",
    "                    count += 1\n",
    "            # except:\n",
    "                if i>6000000:\n",
    "                    print('ошибки')\n",
    "                    out_model += [[model_name, '','','', 0.0, '', 0.0, 0.0]]\n",
    "                    break\n",
    "                    \n",
    "    # except:\n",
    "        print('error model')\n",
    "        out_model += [[model_name, '','','', 0.0, '', 0.0, 0.0]]\n",
    "        "
   ]
  },
  {
   "cell_type": "markdown",
   "id": "14d969ae-04d6-41e0-942c-355468891d9c",
   "metadata": {},
   "source": [
    "### Сборка ответов в датафрейм"
   ]
  },
  {
   "cell_type": "code",
   "execution_count": 11,
   "id": "c174198c-ec8f-4f4f-9401-e9860539404f",
   "metadata": {
    "scrolled": true
   },
   "outputs": [],
   "source": [
    "df_out = pd.DataFrame(out_model, columns=['model','wav','ground','m0','s0','m1','s1', 't'])\n",
    "df_out.to_csv('dataset_dusha_from_model.csv')"
   ]
  },
  {
   "cell_type": "markdown",
   "id": "ce4c2c67-bd40-4edf-8412-6682b1fb2967",
   "metadata": {},
   "source": [
    "## 3. Очистка и анализ\n",
    "\n",
    "\n",
    " - Загружаем датафрейм с результатами"
   ]
  },
  {
   "cell_type": "code",
   "execution_count": 19,
   "id": "eeb0df59-e713-4a9b-b57e-81d2b853acdb",
   "metadata": {},
   "outputs": [
    {
     "data": {
      "text/html": [
       "<div>\n",
       "<style scoped>\n",
       "    .dataframe tbody tr th:only-of-type {\n",
       "        vertical-align: middle;\n",
       "    }\n",
       "\n",
       "    .dataframe tbody tr th {\n",
       "        vertical-align: top;\n",
       "    }\n",
       "\n",
       "    .dataframe thead th {\n",
       "        text-align: right;\n",
       "    }\n",
       "</style>\n",
       "<table border=\"1\" class=\"dataframe\">\n",
       "  <thead>\n",
       "    <tr style=\"text-align: right;\">\n",
       "      <th></th>\n",
       "      <th>model</th>\n",
       "      <th>wav</th>\n",
       "      <th>ground</th>\n",
       "      <th>m0</th>\n",
       "      <th>s0</th>\n",
       "      <th>m1</th>\n",
       "      <th>s1</th>\n",
       "      <th>t</th>\n",
       "    </tr>\n",
       "  </thead>\n",
       "  <tbody>\n",
       "    <tr>\n",
       "      <th>0</th>\n",
       "      <td>Aniemore/wavlm-emotion-russian-resd</td>\n",
       "      <td>dataset/dusha/podcast_train/wavs/eac47d2886774...</td>\n",
       "      <td>sad</td>\n",
       "      <td>fear</td>\n",
       "      <td>0.527574</td>\n",
       "      <td>sadness</td>\n",
       "      <td>0.464834</td>\n",
       "      <td>1.988178</td>\n",
       "    </tr>\n",
       "    <tr>\n",
       "      <th>1</th>\n",
       "      <td>Aniemore/wavlm-emotion-russian-resd</td>\n",
       "      <td>dataset/dusha/podcast_train/wavs/0f6231dcaeb74...</td>\n",
       "      <td>neutral</td>\n",
       "      <td>fear</td>\n",
       "      <td>0.722375</td>\n",
       "      <td>sadness</td>\n",
       "      <td>0.276071</td>\n",
       "      <td>1.988178</td>\n",
       "    </tr>\n",
       "    <tr>\n",
       "      <th>2</th>\n",
       "      <td>Aniemore/wavlm-emotion-russian-resd</td>\n",
       "      <td>dataset/dusha/podcast_train/wavs/bee2345241659...</td>\n",
       "      <td>neutral</td>\n",
       "      <td>sadness</td>\n",
       "      <td>0.749593</td>\n",
       "      <td>fear</td>\n",
       "      <td>0.248569</td>\n",
       "      <td>1.988178</td>\n",
       "    </tr>\n",
       "    <tr>\n",
       "      <th>3</th>\n",
       "      <td>Aniemore/wavlm-emotion-russian-resd</td>\n",
       "      <td>dataset/dusha/podcast_train/wavs/a4b65036044fc...</td>\n",
       "      <td>angry</td>\n",
       "      <td>happiness</td>\n",
       "      <td>0.999034</td>\n",
       "      <td>enthusiasm</td>\n",
       "      <td>0.000642</td>\n",
       "      <td>1.988178</td>\n",
       "    </tr>\n",
       "    <tr>\n",
       "      <th>4</th>\n",
       "      <td>Aniemore/wavlm-emotion-russian-resd</td>\n",
       "      <td>dataset/dusha/podcast_train/wavs/2124ca527a2db...</td>\n",
       "      <td>neutral</td>\n",
       "      <td>fear</td>\n",
       "      <td>0.999496</td>\n",
       "      <td>enthusiasm</td>\n",
       "      <td>0.000248</td>\n",
       "      <td>1.988178</td>\n",
       "    </tr>\n",
       "  </tbody>\n",
       "</table>\n",
       "</div>"
      ],
      "text/plain": [
       "                                 model  \\\n",
       "0  Aniemore/wavlm-emotion-russian-resd   \n",
       "1  Aniemore/wavlm-emotion-russian-resd   \n",
       "2  Aniemore/wavlm-emotion-russian-resd   \n",
       "3  Aniemore/wavlm-emotion-russian-resd   \n",
       "4  Aniemore/wavlm-emotion-russian-resd   \n",
       "\n",
       "                                                 wav   ground         m0  \\\n",
       "0  dataset/dusha/podcast_train/wavs/eac47d2886774...      sad       fear   \n",
       "1  dataset/dusha/podcast_train/wavs/0f6231dcaeb74...  neutral       fear   \n",
       "2  dataset/dusha/podcast_train/wavs/bee2345241659...  neutral    sadness   \n",
       "3  dataset/dusha/podcast_train/wavs/a4b65036044fc...    angry  happiness   \n",
       "4  dataset/dusha/podcast_train/wavs/2124ca527a2db...  neutral       fear   \n",
       "\n",
       "         s0          m1        s1         t  \n",
       "0  0.527574     sadness  0.464834  1.988178  \n",
       "1  0.722375     sadness  0.276071  1.988178  \n",
       "2  0.749593        fear  0.248569  1.988178  \n",
       "3  0.999034  enthusiasm  0.000642  1.988178  \n",
       "4  0.999496  enthusiasm  0.000248  1.988178  "
      ]
     },
     "execution_count": 19,
     "metadata": {},
     "output_type": "execute_result"
    }
   ],
   "source": [
    "df_out = pd.read_csv('dataset_dusha_from_model.csv', index_col=0)\n",
    "df_out.head()"
   ]
  },
  {
   "cell_type": "markdown",
   "id": "61b727d2-a2aa-40f1-8663-9c2615b85113",
   "metadata": {},
   "source": [
    "    - Список рабочих соделей (для которых есть результаты)"
   ]
  },
  {
   "cell_type": "code",
   "execution_count": 20,
   "id": "04756012-9dcd-4293-a6cf-2ffb198eb9c1",
   "metadata": {},
   "outputs": [
    {
     "data": {
      "text/plain": [
       "{'Aniemore/hubert-emotion-russian-resd',\n",
       " 'Aniemore/unispeech-sat-emotion-russian-resd',\n",
       " 'Aniemore/wav2vec2-emotion-russian-resd',\n",
       " 'Aniemore/wavlm-emotion-russian-resd',\n",
       " 'KELONMYOSA/wav2vec2-xls-r-300m-emotion-ru'}"
      ]
     },
     "execution_count": 20,
     "metadata": {},
     "output_type": "execute_result"
    }
   ],
   "source": [
    "list_ok_model = set(df_out.loc[df_out.ground != '','model'].values.tolist())\n",
    "list_ok_model"
   ]
  },
  {
   "cell_type": "code",
   "execution_count": 21,
   "id": "1231a5cc-bc5a-4fac-9879-0472f7870bf5",
   "metadata": {},
   "outputs": [
    {
     "data": {
      "text/plain": [
       "5"
      ]
     },
     "execution_count": 21,
     "metadata": {},
     "output_type": "execute_result"
    }
   ],
   "source": [
    "len(list_ok_model)"
   ]
  },
  {
   "cell_type": "markdown",
   "id": "4f7bf340-5a4e-42a6-a7a7-963f562df37f",
   "metadata": {},
   "source": [
    "    - Размер данных для анализа:"
   ]
  },
  {
   "cell_type": "code",
   "execution_count": 22,
   "id": "8fdd878e-7fbe-43c0-9d8b-92ed30c90432",
   "metadata": {},
   "outputs": [
    {
     "data": {
      "text/plain": [
       "(2510, 8)"
      ]
     },
     "execution_count": 22,
     "metadata": {},
     "output_type": "execute_result"
    }
   ],
   "source": [
    "df_out.shape"
   ]
  },
  {
   "cell_type": "markdown",
   "id": "36492490-bfb9-46e6-b48d-e5b21d38ee3e",
   "metadata": {},
   "source": [
    "### оценка распределения по примерам для разметки (датасет DUSHA)"
   ]
  },
  {
   "cell_type": "code",
   "execution_count": 23,
   "id": "92c7101b-0201-440e-8133-2058b54e2fbc",
   "metadata": {},
   "outputs": [
    {
     "data": {
      "text/plain": [
       "ground\n",
       "neutral     1290\n",
       "sad          965\n",
       "angry        155\n",
       "positive      75\n",
       "other         25\n",
       "Name: count, dtype: int64"
      ]
     },
     "execution_count": 23,
     "metadata": {},
     "output_type": "execute_result"
    }
   ],
   "source": [
    "df_out.ground.value_counts()"
   ]
  },
  {
   "cell_type": "markdown",
   "id": "f444efbd-9694-49c6-8877-a2f425185713",
   "metadata": {},
   "source": [
    "    - не сбалансирован\n",
    "    - метки мимо целевых"
   ]
  },
  {
   "cell_type": "markdown",
   "id": "ae1c90b2-0273-4150-a241-6425df6b8e79",
   "metadata": {},
   "source": [
    "### Разметка данных для моделей (лучший по вероятности оценки выбор)\n"
   ]
  },
  {
   "cell_type": "code",
   "execution_count": 24,
   "id": "025e0949-ac78-4667-9eb9-8dad14ef8451",
   "metadata": {},
   "outputs": [
    {
     "data": {
      "text/plain": [
       "m0\n",
       "fear          908\n",
       "neutral       605\n",
       "sadness       324\n",
       "enthusiasm    217\n",
       "sad           182\n",
       "anger         117\n",
       "happiness      83\n",
       "angry          32\n",
       "disgust        26\n",
       "positive       12\n",
       "other           4\n",
       "Name: count, dtype: int64"
      ]
     },
     "execution_count": 24,
     "metadata": {},
     "output_type": "execute_result"
    }
   ],
   "source": [
    "df_out.m0.value_counts()"
   ]
  },
  {
   "cell_type": "markdown",
   "id": "7355ec41-ae08-4a4b-9c36-62ea4dbbf3e5",
   "metadata": {},
   "source": [
    "### Разметка данных для моделей (второй по вероятности оценки выбор)"
   ]
  },
  {
   "cell_type": "code",
   "execution_count": 25,
   "id": "ade3f38c-bcfa-4d02-bc6d-09836b6b4420",
   "metadata": {},
   "outputs": [
    {
     "data": {
      "text/plain": [
       "m1\n",
       "sadness       607\n",
       "positive      502\n",
       "neutral       397\n",
       "fear          377\n",
       "enthusiasm    333\n",
       "disgust       126\n",
       "happiness     106\n",
       "anger          62\n",
       "Name: count, dtype: int64"
      ]
     },
     "execution_count": 25,
     "metadata": {},
     "output_type": "execute_result"
    }
   ],
   "source": [
    "df_out.m1.value_counts()"
   ]
  },
  {
   "cell_type": "markdown",
   "id": "346bde0d-7f1c-488a-9f7a-5ba17fcd1f53",
   "metadata": {},
   "source": [
    "### оценка целевого числа и состава классов"
   ]
  },
  {
   "cell_type": "code",
   "execution_count": 26,
   "id": "b885f638-293f-449b-9ec0-71b62a71290a",
   "metadata": {},
   "outputs": [
    {
     "name": "stdout",
     "output_type": "stream",
     "text": [
      "{'sad', 'other', 'angry', 'neutral', 'positive'}\n"
     ]
    }
   ],
   "source": [
    "print(set(df_out.ground.values.tolist()))"
   ]
  },
  {
   "cell_type": "markdown",
   "id": "1e90290a-9150-4176-a150-0bd4c159a0a9",
   "metadata": {},
   "source": [
    " - в датасете Dusha : 5 классов\n",
    "\n",
    " - проверяем разметки для каждой модели отдельно: "
   ]
  },
  {
   "cell_type": "code",
   "execution_count": 27,
   "id": "966b0b88-1de5-44e0-a7fa-f6c47ffbfe27",
   "metadata": {},
   "outputs": [
    {
     "name": "stdout",
     "output_type": "stream",
     "text": [
      "Aniemore/wav2vec2-emotion-russian-resd ****************\n",
      "{'fear', 'happiness', 'sadness', 'enthusiasm', 'neutral', 'anger', 'disgust'}\n",
      "Aniemore/hubert-emotion-russian-resd ****************\n",
      "{'fear', 'happiness', 'sadness', 'enthusiasm', 'neutral', 'anger', 'disgust'}\n",
      "Aniemore/wavlm-emotion-russian-resd ****************\n",
      "{'fear', 'happiness', 'sadness', 'enthusiasm', 'neutral', 'anger', 'disgust'}\n",
      "Aniemore/unispeech-sat-emotion-russian-resd ****************\n",
      "{'fear', 'happiness', 'sadness', 'enthusiasm', 'neutral', 'anger', 'disgust'}\n",
      "KELONMYOSA/wav2vec2-xls-r-300m-emotion-ru ****************\n",
      "{'sad', 'other', 'angry', 'neutral', 'positive'}\n"
     ]
    }
   ],
   "source": [
    "model_list = list(list_ok_model)\n",
    "\n",
    "for model_name in model_list:\n",
    "    df = df_out.loc[df_out.model == model_name,:]\n",
    "    print(model_name, '****************')\n",
    "    print(set(df.m0.values.tolist()))"
   ]
  },
  {
   "cell_type": "code",
   "execution_count": 28,
   "id": "76234369-80fd-4c52-a2a0-b5beae8f6cc6",
   "metadata": {},
   "outputs": [
    {
     "data": {
      "text/plain": [
       "['Aniemore/wav2vec2-emotion-russian-resd',\n",
       " 'Aniemore/hubert-emotion-russian-resd',\n",
       " 'Aniemore/wavlm-emotion-russian-resd',\n",
       " 'Aniemore/unispeech-sat-emotion-russian-resd',\n",
       " 'KELONMYOSA/wav2vec2-xls-r-300m-emotion-ru']"
      ]
     },
     "execution_count": 28,
     "metadata": {},
     "output_type": "execute_result"
    }
   ],
   "source": [
    "model_list"
   ]
  },
  {
   "cell_type": "markdown",
   "id": "ab9aaa3c-afd1-4283-b3e5-e6064eb9e945",
   "metadata": {},
   "source": [
    "- разметка прошла на 11 классов (некоторые классы, являясь одним, названы по разному)\n",
    "\n",
    "### переименование классов под разметку датасета DUSHA"
   ]
  },
  {
   "cell_type": "code",
   "execution_count": 29,
   "id": "b973b109-b6ef-400a-88be-17026a7bba3f",
   "metadata": {},
   "outputs": [],
   "source": [
    "for i in range(len(model_list)):\n",
    "    df_out.loc[df_out.model == model_list[i],'new_m0'] = df_out.loc[df_out.model == model_list[i],'m0'].values\n",
    "    df_out.loc[df_out.model == model_list[i],'new_m1'] = df_out.loc[df_out.model == model_list[i],'m1'].values"
   ]
  },
  {
   "cell_type": "code",
   "execution_count": 30,
   "id": "ac16ff1a-06fc-47f5-a4cc-eb797788640d",
   "metadata": {},
   "outputs": [],
   "source": [
    "df_out.loc[df_out.m0=='happiness','new_m0'] = 'positive'\n",
    "df_out.loc[df_out.m0=='enthusiasm','new_m0'] = 'positive'\n",
    "df_out.loc[df_out.m1=='happiness','new_m1'] = 'positive'\n",
    "df_out.loc[df_out.m1=='enthusiasm','new_m1'] = 'positive'"
   ]
  },
  {
   "cell_type": "code",
   "execution_count": 31,
   "id": "63ed7006-3b74-4ee7-9ea5-9d5d5e78e2dc",
   "metadata": {},
   "outputs": [],
   "source": [
    "df_out.loc[df_out.m0=='sadness','new_m0'] = 'sad'\n",
    "df_out.loc[df_out.m1=='sadness','new_m1'] = 'sad'"
   ]
  },
  {
   "cell_type": "code",
   "execution_count": 32,
   "id": "e3ffdc27-9628-4458-95b2-b9bbfe0712ba",
   "metadata": {},
   "outputs": [],
   "source": [
    "df_out.loc[df_out.m0=='disgust','new_m0'] = 'other'\n",
    "df_out.loc[df_out.m0=='fear','new_m0'] = 'other'\n",
    "df_out.loc[df_out.m1=='disgust','new_m1'] = 'other'\n",
    "df_out.loc[df_out.m1=='fear','new_m1'] = 'other'"
   ]
  },
  {
   "cell_type": "code",
   "execution_count": 33,
   "id": "14b5b135-8d54-4b4e-ad54-de6a9d77704a",
   "metadata": {},
   "outputs": [],
   "source": [
    "df_out.loc[df_out.m0=='anger','new_m0'] = 'angry'\n",
    "df_out.loc[df_out.m1=='anger','new_m1'] = 'angry'\n",
    "\n"
   ]
  },
  {
   "cell_type": "code",
   "execution_count": 34,
   "id": "c33e62ee-00fa-4469-88f8-9973a0ed3ce1",
   "metadata": {},
   "outputs": [
    {
     "data": {
      "text/html": [
       "<div>\n",
       "<style scoped>\n",
       "    .dataframe tbody tr th:only-of-type {\n",
       "        vertical-align: middle;\n",
       "    }\n",
       "\n",
       "    .dataframe tbody tr th {\n",
       "        vertical-align: top;\n",
       "    }\n",
       "\n",
       "    .dataframe thead th {\n",
       "        text-align: right;\n",
       "    }\n",
       "</style>\n",
       "<table border=\"1\" class=\"dataframe\">\n",
       "  <thead>\n",
       "    <tr style=\"text-align: right;\">\n",
       "      <th></th>\n",
       "      <th>model</th>\n",
       "      <th>wav</th>\n",
       "      <th>ground</th>\n",
       "      <th>m0</th>\n",
       "      <th>s0</th>\n",
       "      <th>m1</th>\n",
       "      <th>s1</th>\n",
       "      <th>t</th>\n",
       "      <th>new_m0</th>\n",
       "      <th>new_m1</th>\n",
       "    </tr>\n",
       "  </thead>\n",
       "  <tbody>\n",
       "    <tr>\n",
       "      <th>0</th>\n",
       "      <td>Aniemore/wavlm-emotion-russian-resd</td>\n",
       "      <td>dataset/dusha/podcast_train/wavs/eac47d2886774...</td>\n",
       "      <td>sad</td>\n",
       "      <td>fear</td>\n",
       "      <td>0.527574</td>\n",
       "      <td>sadness</td>\n",
       "      <td>0.464834</td>\n",
       "      <td>1.988178</td>\n",
       "      <td>other</td>\n",
       "      <td>sad</td>\n",
       "    </tr>\n",
       "    <tr>\n",
       "      <th>1</th>\n",
       "      <td>Aniemore/wavlm-emotion-russian-resd</td>\n",
       "      <td>dataset/dusha/podcast_train/wavs/0f6231dcaeb74...</td>\n",
       "      <td>neutral</td>\n",
       "      <td>fear</td>\n",
       "      <td>0.722375</td>\n",
       "      <td>sadness</td>\n",
       "      <td>0.276071</td>\n",
       "      <td>1.988178</td>\n",
       "      <td>other</td>\n",
       "      <td>sad</td>\n",
       "    </tr>\n",
       "    <tr>\n",
       "      <th>2</th>\n",
       "      <td>Aniemore/wavlm-emotion-russian-resd</td>\n",
       "      <td>dataset/dusha/podcast_train/wavs/bee2345241659...</td>\n",
       "      <td>neutral</td>\n",
       "      <td>sadness</td>\n",
       "      <td>0.749593</td>\n",
       "      <td>fear</td>\n",
       "      <td>0.248569</td>\n",
       "      <td>1.988178</td>\n",
       "      <td>sad</td>\n",
       "      <td>other</td>\n",
       "    </tr>\n",
       "    <tr>\n",
       "      <th>3</th>\n",
       "      <td>Aniemore/wavlm-emotion-russian-resd</td>\n",
       "      <td>dataset/dusha/podcast_train/wavs/a4b65036044fc...</td>\n",
       "      <td>angry</td>\n",
       "      <td>happiness</td>\n",
       "      <td>0.999034</td>\n",
       "      <td>enthusiasm</td>\n",
       "      <td>0.000642</td>\n",
       "      <td>1.988178</td>\n",
       "      <td>positive</td>\n",
       "      <td>positive</td>\n",
       "    </tr>\n",
       "    <tr>\n",
       "      <th>4</th>\n",
       "      <td>Aniemore/wavlm-emotion-russian-resd</td>\n",
       "      <td>dataset/dusha/podcast_train/wavs/2124ca527a2db...</td>\n",
       "      <td>neutral</td>\n",
       "      <td>fear</td>\n",
       "      <td>0.999496</td>\n",
       "      <td>enthusiasm</td>\n",
       "      <td>0.000248</td>\n",
       "      <td>1.988178</td>\n",
       "      <td>other</td>\n",
       "      <td>positive</td>\n",
       "    </tr>\n",
       "  </tbody>\n",
       "</table>\n",
       "</div>"
      ],
      "text/plain": [
       "                                 model  \\\n",
       "0  Aniemore/wavlm-emotion-russian-resd   \n",
       "1  Aniemore/wavlm-emotion-russian-resd   \n",
       "2  Aniemore/wavlm-emotion-russian-resd   \n",
       "3  Aniemore/wavlm-emotion-russian-resd   \n",
       "4  Aniemore/wavlm-emotion-russian-resd   \n",
       "\n",
       "                                                 wav   ground         m0  \\\n",
       "0  dataset/dusha/podcast_train/wavs/eac47d2886774...      sad       fear   \n",
       "1  dataset/dusha/podcast_train/wavs/0f6231dcaeb74...  neutral       fear   \n",
       "2  dataset/dusha/podcast_train/wavs/bee2345241659...  neutral    sadness   \n",
       "3  dataset/dusha/podcast_train/wavs/a4b65036044fc...    angry  happiness   \n",
       "4  dataset/dusha/podcast_train/wavs/2124ca527a2db...  neutral       fear   \n",
       "\n",
       "         s0          m1        s1         t    new_m0    new_m1  \n",
       "0  0.527574     sadness  0.464834  1.988178     other       sad  \n",
       "1  0.722375     sadness  0.276071  1.988178     other       sad  \n",
       "2  0.749593        fear  0.248569  1.988178       sad     other  \n",
       "3  0.999034  enthusiasm  0.000642  1.988178  positive  positive  \n",
       "4  0.999496  enthusiasm  0.000248  1.988178     other  positive  "
      ]
     },
     "execution_count": 34,
     "metadata": {},
     "output_type": "execute_result"
    }
   ],
   "source": [
    "df_out.head()"
   ]
  },
  {
   "cell_type": "markdown",
   "id": "c05b96c0-a0b6-4cb9-adb5-91890e2491cf",
   "metadata": {},
   "source": [
    "### Оценка метрик: Accuracy (что не верно в текущем случае - нужно брать интегральные метрики типа PR_AUC)"
   ]
  },
  {
   "cell_type": "code",
   "execution_count": 35,
   "id": "994f438f-ead8-43c3-a3b7-0e9c2b513f25",
   "metadata": {},
   "outputs": [
    {
     "name": "stdout",
     "output_type": "stream",
     "text": [
      "Aniemore/wav2vec2-emotion-russian-resd ****************\n",
      "0.10159362549800798\n",
      "Aniemore/hubert-emotion-russian-resd ****************\n",
      "0.21713147410358566\n",
      "Aniemore/wavlm-emotion-russian-resd ****************\n",
      "0.2290836653386454\n",
      "Aniemore/unispeech-sat-emotion-russian-resd ****************\n",
      "0.3565737051792829\n",
      "KELONMYOSA/wav2vec2-xls-r-300m-emotion-ru ****************\n",
      "0.8904382470119522\n"
     ]
    }
   ],
   "source": [
    "for model_name in model_list:\n",
    "    df = df_out.loc[df_out.model == model_name,:]\n",
    "    print(model_name, '****************')\n",
    "    print(np.mean(df.new_m0.values==df.ground.values))"
   ]
  },
  {
   "cell_type": "markdown",
   "id": "772e84b2-7f8e-4232-9364-651674bd47d1",
   "metadata": {},
   "source": [
    "Более адекватный вариант:"
   ]
  },
  {
   "cell_type": "code",
   "execution_count": 36,
   "id": "2b41d7b0-00f4-4005-909a-aa462dd68120",
   "metadata": {},
   "outputs": [],
   "source": [
    "from sklearn.metrics import classification_report, f1_score, accuracy_score"
   ]
  },
  {
   "cell_type": "code",
   "execution_count": 37,
   "id": "808ebc4d-b2a8-45b2-bd38-3fbec5091129",
   "metadata": {},
   "outputs": [
    {
     "name": "stdout",
     "output_type": "stream",
     "text": [
      "              precision    recall  f1-score   support\n",
      "\n",
      "       angry       0.88      0.90      0.89        31\n",
      "     neutral       0.88      0.93      0.91       258\n",
      "       other       0.75      0.60      0.67         5\n",
      "    positive       0.92      0.73      0.81        15\n",
      "         sad       0.91      0.85      0.88       193\n",
      "\n",
      "    accuracy                           0.89       502\n",
      "   macro avg       0.87      0.80      0.83       502\n",
      "weighted avg       0.89      0.89      0.89       502\n",
      "\n"
     ]
    }
   ],
   "source": [
    "print(classification_report(df.ground.values, df.new_m0.values))"
   ]
  },
  {
   "cell_type": "code",
   "execution_count": 38,
   "id": "62c89531-83a7-4914-a4a3-9ff810600115",
   "metadata": {},
   "outputs": [
    {
     "data": {
      "text/plain": [
       "0.8896643196605611"
      ]
     },
     "execution_count": 38,
     "metadata": {},
     "output_type": "execute_result"
    }
   ],
   "source": [
    "f1_score(df.ground.values , df.new_m0.values, average='weighted')"
   ]
  },
  {
   "cell_type": "code",
   "execution_count": 39,
   "id": "97ba2638-ccc7-4743-a8b3-0b067db5f90a",
   "metadata": {},
   "outputs": [
    {
     "name": "stdout",
     "output_type": "stream",
     "text": [
      "Aniemore/wav2vec2-emotion-russian-resd ****************\n",
      "Aniemore/hubert-emotion-russian-resd ****************\n",
      "Aniemore/wavlm-emotion-russian-resd ****************\n",
      "Aniemore/unispeech-sat-emotion-russian-resd ****************\n",
      "KELONMYOSA/wav2vec2-xls-r-300m-emotion-ru ****************\n"
     ]
    },
    {
     "data": {
      "text/html": [
       "<div>\n",
       "<style scoped>\n",
       "    .dataframe tbody tr th:only-of-type {\n",
       "        vertical-align: middle;\n",
       "    }\n",
       "\n",
       "    .dataframe tbody tr th {\n",
       "        vertical-align: top;\n",
       "    }\n",
       "\n",
       "    .dataframe thead th {\n",
       "        text-align: right;\n",
       "    }\n",
       "</style>\n",
       "<table border=\"1\" class=\"dataframe\">\n",
       "  <thead>\n",
       "    <tr style=\"text-align: right;\">\n",
       "      <th></th>\n",
       "      <th>model</th>\n",
       "      <th>dataset</th>\n",
       "      <th>acc0</th>\n",
       "      <th>acc1</th>\n",
       "      <th>f1</th>\n",
       "      <th>t</th>\n",
       "    </tr>\n",
       "  </thead>\n",
       "  <tbody>\n",
       "    <tr>\n",
       "      <th>0</th>\n",
       "      <td>Aniemore/wav2vec2-emotion-russian-resd</td>\n",
       "      <td>DUSHA</td>\n",
       "      <td>0.101594</td>\n",
       "      <td>0.149402</td>\n",
       "      <td>0.110919</td>\n",
       "      <td>2.770510</td>\n",
       "    </tr>\n",
       "    <tr>\n",
       "      <th>1</th>\n",
       "      <td>Aniemore/hubert-emotion-russian-resd</td>\n",
       "      <td>DUSHA</td>\n",
       "      <td>0.217131</td>\n",
       "      <td>0.436255</td>\n",
       "      <td>0.305991</td>\n",
       "      <td>2.530516</td>\n",
       "    </tr>\n",
       "    <tr>\n",
       "      <th>2</th>\n",
       "      <td>Aniemore/wavlm-emotion-russian-resd</td>\n",
       "      <td>DUSHA</td>\n",
       "      <td>0.229084</td>\n",
       "      <td>0.322709</td>\n",
       "      <td>0.319163</td>\n",
       "      <td>1.988178</td>\n",
       "    </tr>\n",
       "    <tr>\n",
       "      <th>3</th>\n",
       "      <td>Aniemore/unispeech-sat-emotion-russian-resd</td>\n",
       "      <td>DUSHA</td>\n",
       "      <td>0.356574</td>\n",
       "      <td>0.342629</td>\n",
       "      <td>0.430552</td>\n",
       "      <td>2.920435</td>\n",
       "    </tr>\n",
       "    <tr>\n",
       "      <th>4</th>\n",
       "      <td>KELONMYOSA/wav2vec2-xls-r-300m-emotion-ru</td>\n",
       "      <td>DUSHA</td>\n",
       "      <td>0.890438</td>\n",
       "      <td>0.029880</td>\n",
       "      <td>0.889664</td>\n",
       "      <td>2.659251</td>\n",
       "    </tr>\n",
       "  </tbody>\n",
       "</table>\n",
       "</div>"
      ],
      "text/plain": [
       "                                         model dataset      acc0      acc1  \\\n",
       "0       Aniemore/wav2vec2-emotion-russian-resd   DUSHA  0.101594  0.149402   \n",
       "1         Aniemore/hubert-emotion-russian-resd   DUSHA  0.217131  0.436255   \n",
       "2          Aniemore/wavlm-emotion-russian-resd   DUSHA  0.229084  0.322709   \n",
       "3  Aniemore/unispeech-sat-emotion-russian-resd   DUSHA  0.356574  0.342629   \n",
       "4    KELONMYOSA/wav2vec2-xls-r-300m-emotion-ru   DUSHA  0.890438  0.029880   \n",
       "\n",
       "         f1         t  \n",
       "0  0.110919  2.770510  \n",
       "1  0.305991  2.530516  \n",
       "2  0.319163  1.988178  \n",
       "3  0.430552  2.920435  \n",
       "4  0.889664  2.659251  "
      ]
     },
     "execution_count": 39,
     "metadata": {},
     "output_type": "execute_result"
    }
   ],
   "source": [
    "rez_model_score = []\n",
    "columns_rez = ['model','dataset', 'acc0', 'acc1', 'f1', 't']\n",
    "for model_name in model_list:\n",
    "    df = df_out.loc[df_out.model == model_name,:]\n",
    "    \n",
    "    acc0 = accuracy_score(df.ground.values , df.new_m0.values)\n",
    "    acc1 = accuracy_score(df.ground.values , df.new_m1.values)\n",
    "    f1 = f1_score(df.ground.values , df.new_m0.values, average='weighted')\n",
    "    print(model_name, '****************')\n",
    "    rez_model_score.append([model_name, 'DUSHA', acc0, acc1, f1 , np.mean(df.t)])\n",
    "rez_model_score_pd = pd.DataFrame(rez_model_score, columns=columns_rez)\n",
    "rez_model_score_pd.head()"
   ]
  },
  {
   "cell_type": "markdown",
   "id": "5a9839cd-1592-4a72-aab2-b3694fef5880",
   "metadata": {},
   "source": [
    "## 4. Вывод\n",
    "\n",
    "    - Аccuracy для KELONMYOSA/wav2vec2-xls-r-300m-emotion-ru - дал лучший результат, но он учился для этого датасета - результат сопоставим с результатом в карточке модели\n",
    "    - Аccuracy для Aniemore/unispeech-sat-emotion-russian-resd - лучший из вариантов Aniemore\n",
    "    - нужно проверить KELONMYOSA на resd"
   ]
  },
  {
   "cell_type": "code",
   "execution_count": 40,
   "id": "aea735b0-244a-4acb-9bb9-fcdf816fbd5b",
   "metadata": {},
   "outputs": [
    {
     "data": {
      "text/html": [
       "<div>\n",
       "<style scoped>\n",
       "    .dataframe tbody tr th:only-of-type {\n",
       "        vertical-align: middle;\n",
       "    }\n",
       "\n",
       "    .dataframe tbody tr th {\n",
       "        vertical-align: top;\n",
       "    }\n",
       "\n",
       "    .dataframe thead th {\n",
       "        text-align: right;\n",
       "    }\n",
       "</style>\n",
       "<table border=\"1\" class=\"dataframe\">\n",
       "  <thead>\n",
       "    <tr style=\"text-align: right;\">\n",
       "      <th></th>\n",
       "      <th>model</th>\n",
       "      <th>wav</th>\n",
       "      <th>ground</th>\n",
       "      <th>m0</th>\n",
       "      <th>s0</th>\n",
       "      <th>m1</th>\n",
       "      <th>s1</th>\n",
       "      <th>t</th>\n",
       "      <th>new_m0</th>\n",
       "      <th>new_m1</th>\n",
       "    </tr>\n",
       "  </thead>\n",
       "  <tbody>\n",
       "    <tr>\n",
       "      <th>0</th>\n",
       "      <td>Aniemore/wavlm-emotion-russian-resd</td>\n",
       "      <td>dataset/dusha/podcast_train/wavs/eac47d2886774...</td>\n",
       "      <td>sad</td>\n",
       "      <td>fear</td>\n",
       "      <td>0.527574</td>\n",
       "      <td>sadness</td>\n",
       "      <td>0.464834</td>\n",
       "      <td>1.988178</td>\n",
       "      <td>other</td>\n",
       "      <td>sad</td>\n",
       "    </tr>\n",
       "    <tr>\n",
       "      <th>1</th>\n",
       "      <td>Aniemore/wavlm-emotion-russian-resd</td>\n",
       "      <td>dataset/dusha/podcast_train/wavs/0f6231dcaeb74...</td>\n",
       "      <td>neutral</td>\n",
       "      <td>fear</td>\n",
       "      <td>0.722375</td>\n",
       "      <td>sadness</td>\n",
       "      <td>0.276071</td>\n",
       "      <td>1.988178</td>\n",
       "      <td>other</td>\n",
       "      <td>sad</td>\n",
       "    </tr>\n",
       "    <tr>\n",
       "      <th>2</th>\n",
       "      <td>Aniemore/wavlm-emotion-russian-resd</td>\n",
       "      <td>dataset/dusha/podcast_train/wavs/bee2345241659...</td>\n",
       "      <td>neutral</td>\n",
       "      <td>sadness</td>\n",
       "      <td>0.749593</td>\n",
       "      <td>fear</td>\n",
       "      <td>0.248569</td>\n",
       "      <td>1.988178</td>\n",
       "      <td>sad</td>\n",
       "      <td>other</td>\n",
       "    </tr>\n",
       "    <tr>\n",
       "      <th>3</th>\n",
       "      <td>Aniemore/wavlm-emotion-russian-resd</td>\n",
       "      <td>dataset/dusha/podcast_train/wavs/a4b65036044fc...</td>\n",
       "      <td>angry</td>\n",
       "      <td>happiness</td>\n",
       "      <td>0.999034</td>\n",
       "      <td>enthusiasm</td>\n",
       "      <td>0.000642</td>\n",
       "      <td>1.988178</td>\n",
       "      <td>positive</td>\n",
       "      <td>positive</td>\n",
       "    </tr>\n",
       "    <tr>\n",
       "      <th>4</th>\n",
       "      <td>Aniemore/wavlm-emotion-russian-resd</td>\n",
       "      <td>dataset/dusha/podcast_train/wavs/2124ca527a2db...</td>\n",
       "      <td>neutral</td>\n",
       "      <td>fear</td>\n",
       "      <td>0.999496</td>\n",
       "      <td>enthusiasm</td>\n",
       "      <td>0.000248</td>\n",
       "      <td>1.988178</td>\n",
       "      <td>other</td>\n",
       "      <td>positive</td>\n",
       "    </tr>\n",
       "  </tbody>\n",
       "</table>\n",
       "</div>"
      ],
      "text/plain": [
       "                                 model  \\\n",
       "0  Aniemore/wavlm-emotion-russian-resd   \n",
       "1  Aniemore/wavlm-emotion-russian-resd   \n",
       "2  Aniemore/wavlm-emotion-russian-resd   \n",
       "3  Aniemore/wavlm-emotion-russian-resd   \n",
       "4  Aniemore/wavlm-emotion-russian-resd   \n",
       "\n",
       "                                                 wav   ground         m0  \\\n",
       "0  dataset/dusha/podcast_train/wavs/eac47d2886774...      sad       fear   \n",
       "1  dataset/dusha/podcast_train/wavs/0f6231dcaeb74...  neutral       fear   \n",
       "2  dataset/dusha/podcast_train/wavs/bee2345241659...  neutral    sadness   \n",
       "3  dataset/dusha/podcast_train/wavs/a4b65036044fc...    angry  happiness   \n",
       "4  dataset/dusha/podcast_train/wavs/2124ca527a2db...  neutral       fear   \n",
       "\n",
       "         s0          m1        s1         t    new_m0    new_m1  \n",
       "0  0.527574     sadness  0.464834  1.988178     other       sad  \n",
       "1  0.722375     sadness  0.276071  1.988178     other       sad  \n",
       "2  0.749593        fear  0.248569  1.988178       sad     other  \n",
       "3  0.999034  enthusiasm  0.000642  1.988178  positive  positive  \n",
       "4  0.999496  enthusiasm  0.000248  1.988178     other  positive  "
      ]
     },
     "execution_count": 40,
     "metadata": {},
     "output_type": "execute_result"
    }
   ],
   "source": [
    "df_out.loc[df_out.model == model_list[2],:].head()"
   ]
  },
  {
   "cell_type": "markdown",
   "id": "6e6c1fbf-8d60-4755-a389-2560b1e9aa2f",
   "metadata": {},
   "source": [
    "## 5. Содержание (граф модели, оазюор основного цикла исполнения):\n",
    "\n",
    "    - создаем модель:"
   ]
  },
  {
   "cell_type": "code",
   "execution_count": 41,
   "id": "7da90a10-55b6-4b53-996e-eed7897b300d",
   "metadata": {},
   "outputs": [
    {
     "name": "stderr",
     "output_type": "stream",
     "text": [
      "Some weights of the model checkpoint at Aniemore/wavlm-emotion-russian-resd were not used when initializing WavLMForSequenceClassification: ['wavlm.encoder.pos_conv_embed.conv.weight_g', 'wavlm.encoder.pos_conv_embed.conv.weight_v']\n",
      "- This IS expected if you are initializing WavLMForSequenceClassification from the checkpoint of a model trained on another task or with another architecture (e.g. initializing a BertForSequenceClassification model from a BertForPreTraining model).\n",
      "- This IS NOT expected if you are initializing WavLMForSequenceClassification from the checkpoint of a model that you expect to be exactly identical (initializing a BertForSequenceClassification model from a BertForSequenceClassification model).\n",
      "Some weights of WavLMForSequenceClassification were not initialized from the model checkpoint at Aniemore/wavlm-emotion-russian-resd and are newly initialized: ['wavlm.encoder.pos_conv_embed.conv.parametrizations.weight.original0', 'wavlm.encoder.pos_conv_embed.conv.parametrizations.weight.original1']\n",
      "You should probably TRAIN this model on a down-stream task to be able to use it for predictions and inference.\n"
     ]
    }
   ],
   "source": [
    "classifier = pipeline(\"audio-classification\", model=model_list[2], trust_remote_code=True)"
   ]
  },
  {
   "cell_type": "markdown",
   "id": "3ce5bf54-d0fe-408d-b580-4bc629e30271",
   "metadata": {},
   "source": [
    "    - открываем основную часть модели:"
   ]
  },
  {
   "cell_type": "code",
   "execution_count": 42,
   "id": "6af00b27-2981-449c-8d92-240278899cc8",
   "metadata": {},
   "outputs": [
    {
     "data": {
      "text/plain": [
       "WavLMForSequenceClassification(\n",
       "  (wavlm): WavLMModel(\n",
       "    (feature_extractor): WavLMFeatureEncoder(\n",
       "      (conv_layers): ModuleList(\n",
       "        (0): WavLMLayerNormConvLayer(\n",
       "          (conv): Conv1d(1, 512, kernel_size=(10,), stride=(5,), bias=False)\n",
       "          (layer_norm): LayerNorm((512,), eps=1e-05, elementwise_affine=True)\n",
       "          (activation): GELUActivation()\n",
       "        )\n",
       "        (1-4): 4 x WavLMLayerNormConvLayer(\n",
       "          (conv): Conv1d(512, 512, kernel_size=(3,), stride=(2,), bias=False)\n",
       "          (layer_norm): LayerNorm((512,), eps=1e-05, elementwise_affine=True)\n",
       "          (activation): GELUActivation()\n",
       "        )\n",
       "        (5-6): 2 x WavLMLayerNormConvLayer(\n",
       "          (conv): Conv1d(512, 512, kernel_size=(2,), stride=(2,), bias=False)\n",
       "          (layer_norm): LayerNorm((512,), eps=1e-05, elementwise_affine=True)\n",
       "          (activation): GELUActivation()\n",
       "        )\n",
       "      )\n",
       "    )\n",
       "    (feature_projection): WavLMFeatureProjection(\n",
       "      (layer_norm): LayerNorm((512,), eps=1e-05, elementwise_affine=True)\n",
       "      (projection): Linear(in_features=512, out_features=1024, bias=True)\n",
       "      (dropout): Dropout(p=0.05, inplace=False)\n",
       "    )\n",
       "    (encoder): WavLMEncoderStableLayerNorm(\n",
       "      (pos_conv_embed): WavLMPositionalConvEmbedding(\n",
       "        (conv): ParametrizedConv1d(\n",
       "          1024, 1024, kernel_size=(128,), stride=(1,), padding=(64,), groups=16\n",
       "          (parametrizations): ModuleDict(\n",
       "            (weight): ParametrizationList(\n",
       "              (0): _WeightNorm()\n",
       "            )\n",
       "          )\n",
       "        )\n",
       "        (padding): WavLMSamePadLayer()\n",
       "        (activation): GELUActivation()\n",
       "      )\n",
       "      (layer_norm): LayerNorm((1024,), eps=1e-05, elementwise_affine=True)\n",
       "      (dropout): Dropout(p=0.05, inplace=False)\n",
       "      (layers): ModuleList(\n",
       "        (0): WavLMEncoderLayerStableLayerNorm(\n",
       "          (attention): WavLMAttention(\n",
       "            (k_proj): Linear(in_features=1024, out_features=1024, bias=True)\n",
       "            (v_proj): Linear(in_features=1024, out_features=1024, bias=True)\n",
       "            (q_proj): Linear(in_features=1024, out_features=1024, bias=True)\n",
       "            (out_proj): Linear(in_features=1024, out_features=1024, bias=True)\n",
       "            (gru_rel_pos_linear): Linear(in_features=64, out_features=8, bias=True)\n",
       "            (rel_attn_embed): Embedding(320, 16)\n",
       "          )\n",
       "          (dropout): Dropout(p=0.05, inplace=False)\n",
       "          (layer_norm): LayerNorm((1024,), eps=1e-05, elementwise_affine=True)\n",
       "          (feed_forward): WavLMFeedForward(\n",
       "            (intermediate_dropout): Dropout(p=0.05, inplace=False)\n",
       "            (intermediate_dense): Linear(in_features=1024, out_features=4096, bias=True)\n",
       "            (intermediate_act_fn): GELUActivation()\n",
       "            (output_dense): Linear(in_features=4096, out_features=1024, bias=True)\n",
       "            (output_dropout): Dropout(p=0.05, inplace=False)\n",
       "          )\n",
       "          (final_layer_norm): LayerNorm((1024,), eps=1e-05, elementwise_affine=True)\n",
       "        )\n",
       "        (1-23): 23 x WavLMEncoderLayerStableLayerNorm(\n",
       "          (attention): WavLMAttention(\n",
       "            (k_proj): Linear(in_features=1024, out_features=1024, bias=True)\n",
       "            (v_proj): Linear(in_features=1024, out_features=1024, bias=True)\n",
       "            (q_proj): Linear(in_features=1024, out_features=1024, bias=True)\n",
       "            (out_proj): Linear(in_features=1024, out_features=1024, bias=True)\n",
       "            (gru_rel_pos_linear): Linear(in_features=64, out_features=8, bias=True)\n",
       "          )\n",
       "          (dropout): Dropout(p=0.05, inplace=False)\n",
       "          (layer_norm): LayerNorm((1024,), eps=1e-05, elementwise_affine=True)\n",
       "          (feed_forward): WavLMFeedForward(\n",
       "            (intermediate_dropout): Dropout(p=0.05, inplace=False)\n",
       "            (intermediate_dense): Linear(in_features=1024, out_features=4096, bias=True)\n",
       "            (intermediate_act_fn): GELUActivation()\n",
       "            (output_dense): Linear(in_features=4096, out_features=1024, bias=True)\n",
       "            (output_dropout): Dropout(p=0.05, inplace=False)\n",
       "          )\n",
       "          (final_layer_norm): LayerNorm((1024,), eps=1e-05, elementwise_affine=True)\n",
       "        )\n",
       "      )\n",
       "    )\n",
       "  )\n",
       "  (projector): Linear(in_features=1024, out_features=1024, bias=True)\n",
       "  (classifier): Linear(in_features=1024, out_features=7, bias=True)\n",
       ")"
      ]
     },
     "execution_count": 42,
     "metadata": {},
     "output_type": "execute_result"
    }
   ],
   "source": [
    "classifier.model"
   ]
  },
  {
   "cell_type": "code",
   "execution_count": null,
   "id": "36a16f56-3099-492c-821a-6291d69dbc8e",
   "metadata": {},
   "outputs": [],
   "source": []
  },
  {
   "cell_type": "markdown",
   "id": "e6daa238-1400-4198-9a5a-a201d04fc702",
   "metadata": {},
   "source": [
    "### препроцессинг данных"
   ]
  },
  {
   "cell_type": "code",
   "execution_count": 44,
   "id": "170305d4-449c-4cc8-a01e-753b9c3a1cdb",
   "metadata": {},
   "outputs": [
    {
     "data": {
      "text/plain": [
       "{'input_values': tensor([[-0.0036, -0.0134, -0.0169,  ...,  0.0203,  0.0119,  0.0077]]), 'attention_mask': tensor([[1, 1, 1,  ..., 1, 1, 1]], dtype=torch.int32)}"
      ]
     },
     "execution_count": 44,
     "metadata": {},
     "output_type": "execute_result"
    }
   ],
   "source": [
    "tr_pt = classifier.preprocess('dataset/RESD_train/032_happiness_enthusiasm_h_120')\n",
    "tr_pt"
   ]
  },
  {
   "cell_type": "markdown",
   "id": "aaa9e27a-baa3-44ce-a158-070a18aa3593",
   "metadata": {},
   "source": [
    "### исполнение модели"
   ]
  },
  {
   "cell_type": "code",
   "execution_count": 45,
   "id": "3c76d4d1-4881-45c5-9d23-99a135fac042",
   "metadata": {},
   "outputs": [
    {
     "data": {
      "text/plain": [
       "SequenceClassifierOutput(loss=None, logits=tensor([[-0.7961, -1.9680, -0.8598, -1.5010,  8.6319, -3.1188, -1.7019]],\n",
       "       grad_fn=<AddmmBackward0>), hidden_states=None, attentions=None)"
      ]
     },
     "execution_count": 45,
     "metadata": {},
     "output_type": "execute_result"
    }
   ],
   "source": [
    "tr_model = classifier.model(tr_pt['input_values'], tr_pt['attention_mask'])\n",
    "tr_model"
   ]
  },
  {
   "cell_type": "markdown",
   "id": "2902ff6c-6af4-4705-ab87-4016e787de99",
   "metadata": {},
   "source": [
    "### постпроцессинг"
   ]
  },
  {
   "cell_type": "code",
   "execution_count": 46,
   "id": "11970eba-69d6-4e03-87d8-09dc7c204ba4",
   "metadata": {},
   "outputs": [
    {
     "data": {
      "text/plain": [
       "[{'score': 0.9997391104698181, 'label': 'happiness'},\n",
       " {'score': 8.041437104111537e-05, 'label': 'anger'},\n",
       " {'score': 7.54516659071669e-05, 'label': 'enthusiasm'},\n",
       " {'score': 3.9740101783536375e-05, 'label': 'fear'},\n",
       " {'score': 3.250683221267536e-05, 'label': 'sadness'}]"
      ]
     },
     "execution_count": 46,
     "metadata": {},
     "output_type": "execute_result"
    }
   ],
   "source": [
    "tr_out = classifier.postprocess(tr_model)\n",
    "tr_out"
   ]
  },
  {
   "cell_type": "code",
   "execution_count": 69,
   "id": "0984338b-ef13-48f0-91e4-118c1bfd8766",
   "metadata": {},
   "outputs": [],
   "source": [
    "## 7.Кросс-проверка на RESD"
   ]
  },
  {
   "cell_type": "code",
   "execution_count": 47,
   "id": "e5428b57-118a-46d6-8570-662599494309",
   "metadata": {},
   "outputs": [
    {
     "data": {
      "text/html": [
       "<div>\n",
       "<style scoped>\n",
       "    .dataframe tbody tr th:only-of-type {\n",
       "        vertical-align: middle;\n",
       "    }\n",
       "\n",
       "    .dataframe tbody tr th {\n",
       "        vertical-align: top;\n",
       "    }\n",
       "\n",
       "    .dataframe thead th {\n",
       "        text-align: right;\n",
       "    }\n",
       "</style>\n",
       "<table border=\"1\" class=\"dataframe\">\n",
       "  <thead>\n",
       "    <tr style=\"text-align: right;\">\n",
       "      <th></th>\n",
       "      <th>name</th>\n",
       "      <th>path</th>\n",
       "      <th>emotion</th>\n",
       "      <th>text</th>\n",
       "    </tr>\n",
       "  </thead>\n",
       "  <tbody>\n",
       "    <tr>\n",
       "      <th>0</th>\n",
       "      <td>27_neutral_fear_n_100</td>\n",
       "      <td>neutral_fear_27/27_neutral_fear_n_100.wav</td>\n",
       "      <td>neutral</td>\n",
       "      <td>Вам дадут целый минимальный оклад, но при этом...</td>\n",
       "    </tr>\n",
       "    <tr>\n",
       "      <th>1</th>\n",
       "      <td>08_sadness_anger a_010</td>\n",
       "      <td>08_sadness_anger/08_sadness_anger a_010.wav</td>\n",
       "      <td>anger</td>\n",
       "      <td>Сколько можно звонить?</td>\n",
       "    </tr>\n",
       "    <tr>\n",
       "      <th>2</th>\n",
       "      <td>26_enthusiasm_happiness_e_120</td>\n",
       "      <td>enthusiasm_happiness_26/26_enthusiasm_happines...</td>\n",
       "      <td>enthusiasm</td>\n",
       "      <td>А как долго тебе нужно это всё узнавать?</td>\n",
       "    </tr>\n",
       "    <tr>\n",
       "      <th>3</th>\n",
       "      <td>42_anger_fear_a_190</td>\n",
       "      <td>anger_fear_42/42_anger_fear_a_190.wav</td>\n",
       "      <td>anger</td>\n",
       "      <td>Ну а мне в 5 часов вставать на работу!</td>\n",
       "    </tr>\n",
       "    <tr>\n",
       "      <th>4</th>\n",
       "      <td>04_fear_enthusiasm f_090</td>\n",
       "      <td>04_fear_enthusiasm/04_fear_enthusiasm f_090.wav</td>\n",
       "      <td>fear</td>\n",
       "      <td>Честно, я не подскажу, ну как и обычно, любым ...</td>\n",
       "    </tr>\n",
       "  </tbody>\n",
       "</table>\n",
       "</div>"
      ],
      "text/plain": [
       "                            name  \\\n",
       "0          27_neutral_fear_n_100   \n",
       "1         08_sadness_anger a_010   \n",
       "2  26_enthusiasm_happiness_e_120   \n",
       "3            42_anger_fear_a_190   \n",
       "4       04_fear_enthusiasm f_090   \n",
       "\n",
       "                                                path     emotion  \\\n",
       "0          neutral_fear_27/27_neutral_fear_n_100.wav     neutral   \n",
       "1        08_sadness_anger/08_sadness_anger a_010.wav       anger   \n",
       "2  enthusiasm_happiness_26/26_enthusiasm_happines...  enthusiasm   \n",
       "3              anger_fear_42/42_anger_fear_a_190.wav       anger   \n",
       "4    04_fear_enthusiasm/04_fear_enthusiasm f_090.wav        fear   \n",
       "\n",
       "                                                text  \n",
       "0  Вам дадут целый минимальный оклад, но при этом...  \n",
       "1                             Сколько можно звонить?  \n",
       "2           А как долго тебе нужно это всё узнавать?  \n",
       "3             Ну а мне в 5 часов вставать на работу!  \n",
       "4  Честно, я не подскажу, ну как и обычно, любым ...  "
      ]
     },
     "execution_count": 47,
     "metadata": {},
     "output_type": "execute_result"
    }
   ],
   "source": [
    "df_resd.head()"
   ]
  },
  {
   "cell_type": "code",
   "execution_count": 134,
   "id": "8cae6d65-ba7e-4ec0-b897-a0bcea8a4dea",
   "metadata": {},
   "outputs": [
    {
     "data": {
      "text/plain": [
       "(280, 4)"
      ]
     },
     "execution_count": 134,
     "metadata": {},
     "output_type": "execute_result"
    }
   ],
   "source": [
    "df_resd.shape"
   ]
  },
  {
   "cell_type": "markdown",
   "id": "c535095a-9e95-4b1c-8388-3e3e860e328b",
   "metadata": {},
   "source": [
    "### подгоняем данные под удобный нам вариант (сохраняем в файлы)"
   ]
  },
  {
   "cell_type": "code",
   "execution_count": 37,
   "id": "12cc5b99-e2fa-4775-b045-76ed872f115b",
   "metadata": {},
   "outputs": [],
   "source": [
    "# import scipy.io.wavfile as wavf\n",
    "# import numpy as np\n",
    "\n",
    "\n",
    " \n",
    "# for i in range(df_resd.shape[0]):\n",
    "#     try:\n",
    "#         wav_name = df_resd.name.iloc[i]\n",
    "#         speech = df_resd.speech.iloc[i]\n",
    "#         samples = speech['array']\n",
    "#         fs = speech['sampling_rate']\n",
    "#         out_f = 'dataset/RESD/' + str(i) + wav_name\n",
    "#         wavf.write(out_f, fs, samples)\n",
    "#     except:\n",
    "#         print('error')\n",
    "   "
   ]
  },
  {
   "cell_type": "code",
   "execution_count": null,
   "id": "b5cac143-8acd-4c88-8eeb-718b5c039064",
   "metadata": {},
   "outputs": [],
   "source": [
    "# rez_resd = [] \n",
    "# for model_name in model_list:\n",
    "#     try:\n",
    "#         t1 = time.time()\n",
    "#         classifier = pipeline(\"audio-classification\", model=model_name, trust_remote_code=True)\n",
    "#         t1 = time.time() -  t1\n",
    "#         for i in range(0,df_resd.shape[0],3):\n",
    "#             try:\n",
    "#                 wav_name = df_resd.name.iloc[i]\n",
    "#                 # speech = df_resd.speech.iloc[i]\n",
    "#                 # samples = speech['array']\n",
    "#                 # fs = speech['sampling_rate']\n",
    "#                 out_f =  'dataset/RESD/' + str(i) + wav_name\n",
    "#                 t1 = time.time()\n",
    "#                 label_pred = classifier(out_f)\n",
    "#                 t1 = time.time() -  t1\n",
    "                \n",
    "#                 rez_model_s = [ ss['score'] for ss in label_pred]\n",
    "#                 k = np.argmax(rez_model_s)\n",
    "                \n",
    "#                 label_true = df_resd.emotion.iloc[i]\n",
    "#                 rez_resd.append([i, wav_name, label_pred[k]['label'],label_true,label_pred, t1 ]) \n",
    "#                 # break\n",
    "#             except:\n",
    "#                 pass\n",
    "#     except:\n",
    "#         print('model error')"
   ]
  },
  {
   "cell_type": "markdown",
   "id": "085b9a7b-96c1-4fc5-b9f1-d18550c915d5",
   "metadata": {},
   "source": [
    "### делаем анализ"
   ]
  },
  {
   "cell_type": "code",
   "execution_count": 104,
   "id": "d5c82c3e-ec9b-424a-bd56-ab98ebaee667",
   "metadata": {},
   "outputs": [
    {
     "name": "stderr",
     "output_type": "stream",
     "text": [
      "Some weights of Wav2Vec2ForSpeechClassification were not initialized from the model checkpoint at Aniemore/wav2vec2-emotion-russian-resd and are newly initialized: ['classifier.dense.bias', 'classifier.dense.weight', 'classifier.out_proj.weight', 'wav2vec2.encoder.pos_conv_embed.conv.parametrizations.weight.original0', 'classifier.out_proj.bias', 'wav2vec2.encoder.pos_conv_embed.conv.parametrizations.weight.original1']\n",
      "You should probably TRAIN this model on a down-stream task to be able to use it for predictions and inference.\n",
      "Could not load the `decoder` for Aniemore/wav2vec2-emotion-russian-resd. Defaulting to raw CTC. Error: No module named 'kenlm'\n",
      "Try to install `kenlm`: `pip install kenlm\n",
      "Try to install `pyctcdecode`: `pip install pyctcdecode\n",
      "Some weights of the model checkpoint at Aniemore/hubert-emotion-russian-resd were not used when initializing HubertForSequenceClassification: ['hubert.encoder.pos_conv_embed.conv.weight_v', 'hubert.encoder.pos_conv_embed.conv.weight_g']\n",
      "- This IS expected if you are initializing HubertForSequenceClassification from the checkpoint of a model trained on another task or with another architecture (e.g. initializing a BertForSequenceClassification model from a BertForPreTraining model).\n",
      "- This IS NOT expected if you are initializing HubertForSequenceClassification from the checkpoint of a model that you expect to be exactly identical (initializing a BertForSequenceClassification model from a BertForSequenceClassification model).\n",
      "Some weights of HubertForSequenceClassification were not initialized from the model checkpoint at Aniemore/hubert-emotion-russian-resd and are newly initialized: ['hubert.encoder.pos_conv_embed.conv.parametrizations.weight.original1', 'hubert.encoder.pos_conv_embed.conv.parametrizations.weight.original0']\n",
      "You should probably TRAIN this model on a down-stream task to be able to use it for predictions and inference.\n",
      "Some weights of the model checkpoint at Aniemore/wavlm-emotion-russian-resd were not used when initializing WavLMForSequenceClassification: ['wavlm.encoder.pos_conv_embed.conv.weight_g', 'wavlm.encoder.pos_conv_embed.conv.weight_v']\n",
      "- This IS expected if you are initializing WavLMForSequenceClassification from the checkpoint of a model trained on another task or with another architecture (e.g. initializing a BertForSequenceClassification model from a BertForPreTraining model).\n",
      "- This IS NOT expected if you are initializing WavLMForSequenceClassification from the checkpoint of a model that you expect to be exactly identical (initializing a BertForSequenceClassification model from a BertForSequenceClassification model).\n",
      "Some weights of WavLMForSequenceClassification were not initialized from the model checkpoint at Aniemore/wavlm-emotion-russian-resd and are newly initialized: ['wavlm.encoder.pos_conv_embed.conv.parametrizations.weight.original0', 'wavlm.encoder.pos_conv_embed.conv.parametrizations.weight.original1']\n",
      "You should probably TRAIN this model on a down-stream task to be able to use it for predictions and inference.\n",
      "Some weights of the model checkpoint at Aniemore/unispeech-sat-emotion-russian-resd were not used when initializing UniSpeechSatForSequenceClassification: ['unispeech_sat.encoder.pos_conv_embed.conv.weight_v', 'unispeech_sat.encoder.pos_conv_embed.conv.weight_g']\n",
      "- This IS expected if you are initializing UniSpeechSatForSequenceClassification from the checkpoint of a model trained on another task or with another architecture (e.g. initializing a BertForSequenceClassification model from a BertForPreTraining model).\n",
      "- This IS NOT expected if you are initializing UniSpeechSatForSequenceClassification from the checkpoint of a model that you expect to be exactly identical (initializing a BertForSequenceClassification model from a BertForSequenceClassification model).\n",
      "Some weights of UniSpeechSatForSequenceClassification were not initialized from the model checkpoint at Aniemore/unispeech-sat-emotion-russian-resd and are newly initialized: ['unispeech_sat.encoder.pos_conv_embed.conv.parametrizations.weight.original0', 'unispeech_sat.encoder.pos_conv_embed.conv.parametrizations.weight.original1']\n",
      "You should probably TRAIN this model on a down-stream task to be able to use it for predictions and inference.\n",
      "Some weights of the model checkpoint at KELONMYOSA/wav2vec2-xls-r-300m-emotion-ru were not used when initializing Wav2Vec2ForSpeechClassification: ['wav2vec2.encoder.pos_conv_embed.conv.weight_g', 'wav2vec2.encoder.pos_conv_embed.conv.weight_v']\n",
      "- This IS expected if you are initializing Wav2Vec2ForSpeechClassification from the checkpoint of a model trained on another task or with another architecture (e.g. initializing a BertForSequenceClassification model from a BertForPreTraining model).\n",
      "- This IS NOT expected if you are initializing Wav2Vec2ForSpeechClassification from the checkpoint of a model that you expect to be exactly identical (initializing a BertForSequenceClassification model from a BertForSequenceClassification model).\n",
      "Some weights of Wav2Vec2ForSpeechClassification were not initialized from the model checkpoint at KELONMYOSA/wav2vec2-xls-r-300m-emotion-ru and are newly initialized: ['wav2vec2.encoder.pos_conv_embed.conv.parametrizations.weight.original1', 'wav2vec2.encoder.pos_conv_embed.conv.parametrizations.weight.original0']\n",
      "You should probably TRAIN this model on a down-stream task to be able to use it for predictions and inference.\n",
      "Could not load the `decoder` for KELONMYOSA/wav2vec2-xls-r-300m-emotion-ru. Defaulting to raw CTC. Error: No module named 'kenlm'\n",
      "Try to install `kenlm`: `pip install kenlm\n",
      "Try to install `pyctcdecode`: `pip install pyctcdecode\n"
     ]
    }
   ],
   "source": [
    "     \n",
    "rez_resd = [] \n",
    "for model_name in model_list:\n",
    "    try:\n",
    "        t1 = time.time()\n",
    "        classifier = pipeline(\"audio-classification\", model=model_name, trust_remote_code=True)\n",
    "        t1 = time.time() -  t1\n",
    "        for i in range(0,df_resd.shape[0],3):\n",
    "            try:\n",
    "                wav_name = df_resd.path.iloc[i]\n",
    "                # speech = df_resd.speech.iloc[i]\n",
    "                # samples = speech['array']\n",
    "                # fs = speech['sampling_rate']\n",
    "                out_f =  'dataset/RESD_csv/test/'  + wav_name\n",
    "                t1 = time.time()\n",
    "                label_pred = classifier(out_f)\n",
    "                t1 = time.time() -  t1\n",
    "                \n",
    "                rez_model_s = [ ss['score'] for ss in label_pred]\n",
    "                k = np.argmax(rez_model_s)\n",
    "                \n",
    "                label_true = df_resd.emotion.iloc[i]\n",
    "                rez_resd.append([i, model_name, wav_name, label_pred[k]['label'],label_true,label_pred, t1 ]) \n",
    "                # break\n",
    "            except:\n",
    "                pass\n",
    "    except:\n",
    "        print('model error')"
   ]
  },
  {
   "cell_type": "code",
   "execution_count": 123,
   "id": "49baf6bb-4f8e-4462-8c92-6946dd28775a",
   "metadata": {},
   "outputs": [
    {
     "data": {
      "text/html": [
       "<div>\n",
       "<style scoped>\n",
       "    .dataframe tbody tr th:only-of-type {\n",
       "        vertical-align: middle;\n",
       "    }\n",
       "\n",
       "    .dataframe tbody tr th {\n",
       "        vertical-align: top;\n",
       "    }\n",
       "\n",
       "    .dataframe thead th {\n",
       "        text-align: right;\n",
       "    }\n",
       "</style>\n",
       "<table border=\"1\" class=\"dataframe\">\n",
       "  <thead>\n",
       "    <tr style=\"text-align: right;\">\n",
       "      <th></th>\n",
       "      <th>number</th>\n",
       "      <th>model</th>\n",
       "      <th>file</th>\n",
       "      <th>label_pred</th>\n",
       "      <th>label_true</th>\n",
       "      <th>rez_from_model</th>\n",
       "      <th>t1</th>\n",
       "    </tr>\n",
       "  </thead>\n",
       "  <tbody>\n",
       "    <tr>\n",
       "      <th>0</th>\n",
       "      <td>0</td>\n",
       "      <td>Aniemore/wav2vec2-emotion-russian-resd</td>\n",
       "      <td>neutral_fear_27/27_neutral_fear_n_100.wav</td>\n",
       "      <td>anger</td>\n",
       "      <td>neutral</td>\n",
       "      <td>[{'score': 0.17598015069961548, 'label': 'ange...</td>\n",
       "      <td>1.761193</td>\n",
       "    </tr>\n",
       "    <tr>\n",
       "      <th>1</th>\n",
       "      <td>3</td>\n",
       "      <td>Aniemore/wav2vec2-emotion-russian-resd</td>\n",
       "      <td>anger_fear_42/42_anger_fear_a_190.wav</td>\n",
       "      <td>anger</td>\n",
       "      <td>anger</td>\n",
       "      <td>[{'score': 0.18954557180404663, 'label': 'ange...</td>\n",
       "      <td>0.346388</td>\n",
       "    </tr>\n",
       "    <tr>\n",
       "      <th>2</th>\n",
       "      <td>6</td>\n",
       "      <td>Aniemore/wav2vec2-emotion-russian-resd</td>\n",
       "      <td>fear_disgust_41/41_fear_disgust_f_050.wav</td>\n",
       "      <td>enthusiasm</td>\n",
       "      <td>fear</td>\n",
       "      <td>[{'score': 0.1559067964553833, 'label': 'enthu...</td>\n",
       "      <td>2.020141</td>\n",
       "    </tr>\n",
       "    <tr>\n",
       "      <th>3</th>\n",
       "      <td>9</td>\n",
       "      <td>Aniemore/wav2vec2-emotion-russian-resd</td>\n",
       "      <td>neutral_fear_27/27_neutral_fear_n_020.wav</td>\n",
       "      <td>neutral</td>\n",
       "      <td>neutral</td>\n",
       "      <td>[{'score': 0.18447254598140717, 'label': 'neut...</td>\n",
       "      <td>1.415429</td>\n",
       "    </tr>\n",
       "    <tr>\n",
       "      <th>4</th>\n",
       "      <td>12</td>\n",
       "      <td>Aniemore/wav2vec2-emotion-russian-resd</td>\n",
       "      <td>anger_disgust_19/19_anger_disgust_a_030.wav</td>\n",
       "      <td>anger</td>\n",
       "      <td>anger</td>\n",
       "      <td>[{'score': 0.18711082637310028, 'label': 'ange...</td>\n",
       "      <td>0.863154</td>\n",
       "    </tr>\n",
       "  </tbody>\n",
       "</table>\n",
       "</div>"
      ],
      "text/plain": [
       "   number                                   model  \\\n",
       "0       0  Aniemore/wav2vec2-emotion-russian-resd   \n",
       "1       3  Aniemore/wav2vec2-emotion-russian-resd   \n",
       "2       6  Aniemore/wav2vec2-emotion-russian-resd   \n",
       "3       9  Aniemore/wav2vec2-emotion-russian-resd   \n",
       "4      12  Aniemore/wav2vec2-emotion-russian-resd   \n",
       "\n",
       "                                          file  label_pred label_true  \\\n",
       "0    neutral_fear_27/27_neutral_fear_n_100.wav       anger    neutral   \n",
       "1        anger_fear_42/42_anger_fear_a_190.wav       anger      anger   \n",
       "2    fear_disgust_41/41_fear_disgust_f_050.wav  enthusiasm       fear   \n",
       "3    neutral_fear_27/27_neutral_fear_n_020.wav     neutral    neutral   \n",
       "4  anger_disgust_19/19_anger_disgust_a_030.wav       anger      anger   \n",
       "\n",
       "                                      rez_from_model        t1  \n",
       "0  [{'score': 0.17598015069961548, 'label': 'ange...  1.761193  \n",
       "1  [{'score': 0.18954557180404663, 'label': 'ange...  0.346388  \n",
       "2  [{'score': 0.1559067964553833, 'label': 'enthu...  2.020141  \n",
       "3  [{'score': 0.18447254598140717, 'label': 'neut...  1.415429  \n",
       "4  [{'score': 0.18711082637310028, 'label': 'ange...  0.863154  "
      ]
     },
     "execution_count": 123,
     "metadata": {},
     "output_type": "execute_result"
    }
   ],
   "source": [
    "df_K = pd.DataFrame(rez_resd, columns = ['number', 'model', 'file', 'label_pred', 'label_true', 'rez_from_model', 't1' ])\n",
    "df_K.head()"
   ]
  },
  {
   "cell_type": "code",
   "execution_count": 124,
   "id": "53bcb75d-9c02-4240-b3bd-e85238cc3a1d",
   "metadata": {},
   "outputs": [
    {
     "data": {
      "text/html": [
       "<div>\n",
       "<style scoped>\n",
       "    .dataframe tbody tr th:only-of-type {\n",
       "        vertical-align: middle;\n",
       "    }\n",
       "\n",
       "    .dataframe tbody tr th {\n",
       "        vertical-align: top;\n",
       "    }\n",
       "\n",
       "    .dataframe thead th {\n",
       "        text-align: right;\n",
       "    }\n",
       "</style>\n",
       "<table border=\"1\" class=\"dataframe\">\n",
       "  <thead>\n",
       "    <tr style=\"text-align: right;\">\n",
       "      <th></th>\n",
       "      <th>number</th>\n",
       "      <th>model</th>\n",
       "      <th>file</th>\n",
       "      <th>label_pred</th>\n",
       "      <th>label_true</th>\n",
       "      <th>rez_from_model</th>\n",
       "      <th>t1</th>\n",
       "    </tr>\n",
       "  </thead>\n",
       "  <tbody>\n",
       "    <tr>\n",
       "      <th>465</th>\n",
       "      <td>267</td>\n",
       "      <td>KELONMYOSA/wav2vec2-xls-r-300m-emotion-ru</td>\n",
       "      <td>enthusiasm_neutral_37/37_enthusiasm_neutral_e_...</td>\n",
       "      <td>neutral</td>\n",
       "      <td>enthusiasm</td>\n",
       "      <td>[{'label': 'neutral', 'score': 0.44425}, {'lab...</td>\n",
       "      <td>1.123654</td>\n",
       "    </tr>\n",
       "    <tr>\n",
       "      <th>466</th>\n",
       "      <td>270</td>\n",
       "      <td>KELONMYOSA/wav2vec2-xls-r-300m-emotion-ru</td>\n",
       "      <td>fear_happiness_30/30_fear_happiness_f_150.wav</td>\n",
       "      <td>positive</td>\n",
       "      <td>fear</td>\n",
       "      <td>[{'label': 'neutral', 'score': 0.0368}, {'labe...</td>\n",
       "      <td>1.331740</td>\n",
       "    </tr>\n",
       "    <tr>\n",
       "      <th>467</th>\n",
       "      <td>273</td>\n",
       "      <td>KELONMYOSA/wav2vec2-xls-r-300m-emotion-ru</td>\n",
       "      <td>sadness_happiness_49/49_sadness_happiness_s_03...</td>\n",
       "      <td>positive</td>\n",
       "      <td>sadness</td>\n",
       "      <td>[{'label': 'neutral', 'score': 0.4427}, {'labe...</td>\n",
       "      <td>1.966012</td>\n",
       "    </tr>\n",
       "    <tr>\n",
       "      <th>468</th>\n",
       "      <td>276</td>\n",
       "      <td>KELONMYOSA/wav2vec2-xls-r-300m-emotion-ru</td>\n",
       "      <td>happiness_neutral_38/38_happiness_neutral_n_03...</td>\n",
       "      <td>angry</td>\n",
       "      <td>neutral</td>\n",
       "      <td>[{'label': 'neutral', 'score': 0.3054}, {'labe...</td>\n",
       "      <td>0.817347</td>\n",
       "    </tr>\n",
       "    <tr>\n",
       "      <th>469</th>\n",
       "      <td>279</td>\n",
       "      <td>KELONMYOSA/wav2vec2-xls-r-300m-emotion-ru</td>\n",
       "      <td>04_fear_enthusiasm/04_fear_enthusiasm f_140.wav</td>\n",
       "      <td>positive</td>\n",
       "      <td>fear</td>\n",
       "      <td>[{'label': 'neutral', 'score': 0.33407}, {'lab...</td>\n",
       "      <td>1.549704</td>\n",
       "    </tr>\n",
       "  </tbody>\n",
       "</table>\n",
       "</div>"
      ],
      "text/plain": [
       "     number                                      model  \\\n",
       "465     267  KELONMYOSA/wav2vec2-xls-r-300m-emotion-ru   \n",
       "466     270  KELONMYOSA/wav2vec2-xls-r-300m-emotion-ru   \n",
       "467     273  KELONMYOSA/wav2vec2-xls-r-300m-emotion-ru   \n",
       "468     276  KELONMYOSA/wav2vec2-xls-r-300m-emotion-ru   \n",
       "469     279  KELONMYOSA/wav2vec2-xls-r-300m-emotion-ru   \n",
       "\n",
       "                                                  file label_pred  label_true  \\\n",
       "465  enthusiasm_neutral_37/37_enthusiasm_neutral_e_...    neutral  enthusiasm   \n",
       "466      fear_happiness_30/30_fear_happiness_f_150.wav   positive        fear   \n",
       "467  sadness_happiness_49/49_sadness_happiness_s_03...   positive     sadness   \n",
       "468  happiness_neutral_38/38_happiness_neutral_n_03...      angry     neutral   \n",
       "469    04_fear_enthusiasm/04_fear_enthusiasm f_140.wav   positive        fear   \n",
       "\n",
       "                                        rez_from_model        t1  \n",
       "465  [{'label': 'neutral', 'score': 0.44425}, {'lab...  1.123654  \n",
       "466  [{'label': 'neutral', 'score': 0.0368}, {'labe...  1.331740  \n",
       "467  [{'label': 'neutral', 'score': 0.4427}, {'labe...  1.966012  \n",
       "468  [{'label': 'neutral', 'score': 0.3054}, {'labe...  0.817347  \n",
       "469  [{'label': 'neutral', 'score': 0.33407}, {'lab...  1.549704  "
      ]
     },
     "execution_count": 124,
     "metadata": {},
     "output_type": "execute_result"
    }
   ],
   "source": [
    "df_K.tail()"
   ]
  },
  {
   "cell_type": "code",
   "execution_count": 125,
   "id": "062ce487-5b64-4101-99b0-a033420b2ae8",
   "metadata": {},
   "outputs": [],
   "source": [
    "df_K.to_csv('resd_result.csv')"
   ]
  },
  {
   "cell_type": "markdown",
   "id": "18ea239e-e100-4b3c-850a-70cc501ab976",
   "metadata": {},
   "source": [
    "### обработка данных"
   ]
  },
  {
   "cell_type": "code",
   "execution_count": 126,
   "id": "8bc852a7-fb5d-45f1-9e76-68486e214e07",
   "metadata": {},
   "outputs": [],
   "source": [
    "df_K = pd.read_csv('resd_result.csv', index_col=0)"
   ]
  },
  {
   "cell_type": "code",
   "execution_count": 127,
   "id": "cf0843f4-6083-47f7-8eff-08cd102f5beb",
   "metadata": {},
   "outputs": [],
   "source": [
    "df_K['new_label_true'] = df_K['label_true'].values #'neutral'"
   ]
  },
  {
   "cell_type": "code",
   "execution_count": 128,
   "id": "0b871407-4853-4376-bc8f-b9c1b4d1594c",
   "metadata": {},
   "outputs": [],
   "source": [
    "df_K.loc[df_K.label_true=='happiness','new_label_true'] = 'positive'\n",
    "df_K.loc[df_K.label_true=='enthusiasm','new_label_true'] = 'positive'\n",
    "df_K.loc[df_K.label_pred=='happiness','label_pred'] = 'positive'\n",
    "df_K.loc[df_K.label_pred=='enthusiasm','label_pred'] = 'positive'"
   ]
  },
  {
   "cell_type": "code",
   "execution_count": 129,
   "id": "048a3732-5b30-4676-b91d-998d04faf46a",
   "metadata": {},
   "outputs": [],
   "source": [
    "df_K.loc[df_K.label_true=='sadness','new_label_true'] = 'sad'\n",
    "df_K.loc[df_K.label_pred=='sadness','label_pred'] = 'sad'\n"
   ]
  },
  {
   "cell_type": "code",
   "execution_count": 130,
   "id": "99c9654b-73b8-42f0-9787-fe51cb92ab6f",
   "metadata": {},
   "outputs": [],
   "source": [
    "df_K.loc[df_K.label_true=='disgust','new_label_true'] = 'other'\n",
    "df_K.loc[df_K.label_true=='fear','new_label_true'] = 'other'\n",
    "df_K.loc[df_K.label_pred=='disgust','label_pred'] = 'other'\n",
    "df_K.loc[df_K.label_pred=='fear','label_pred'] = 'other'\n"
   ]
  },
  {
   "cell_type": "code",
   "execution_count": 131,
   "id": "5ed5cf59-815f-4ecd-8e30-eadcdc79dc7f",
   "metadata": {},
   "outputs": [],
   "source": [
    "df_K.loc[df_K.label_true=='anger','new_label_true'] = 'angry'\n",
    "df_K.loc[df_K.label_pred=='anger','label_pred'] = 'angry'\n",
    "\n",
    "\n"
   ]
  },
  {
   "cell_type": "code",
   "execution_count": 132,
   "id": "7fe2d7b0-f9d5-4b83-823a-b1e51e3c80d8",
   "metadata": {},
   "outputs": [
    {
     "data": {
      "text/html": [
       "<div>\n",
       "<style scoped>\n",
       "    .dataframe tbody tr th:only-of-type {\n",
       "        vertical-align: middle;\n",
       "    }\n",
       "\n",
       "    .dataframe tbody tr th {\n",
       "        vertical-align: top;\n",
       "    }\n",
       "\n",
       "    .dataframe thead th {\n",
       "        text-align: right;\n",
       "    }\n",
       "</style>\n",
       "<table border=\"1\" class=\"dataframe\">\n",
       "  <thead>\n",
       "    <tr style=\"text-align: right;\">\n",
       "      <th></th>\n",
       "      <th>number</th>\n",
       "      <th>model</th>\n",
       "      <th>file</th>\n",
       "      <th>label_pred</th>\n",
       "      <th>label_true</th>\n",
       "      <th>rez_from_model</th>\n",
       "      <th>t1</th>\n",
       "      <th>new_label_true</th>\n",
       "    </tr>\n",
       "  </thead>\n",
       "  <tbody>\n",
       "    <tr>\n",
       "      <th>465</th>\n",
       "      <td>267</td>\n",
       "      <td>KELONMYOSA/wav2vec2-xls-r-300m-emotion-ru</td>\n",
       "      <td>enthusiasm_neutral_37/37_enthusiasm_neutral_e_...</td>\n",
       "      <td>neutral</td>\n",
       "      <td>enthusiasm</td>\n",
       "      <td>[{'label': 'neutral', 'score': 0.44425}, {'lab...</td>\n",
       "      <td>1.123654</td>\n",
       "      <td>positive</td>\n",
       "    </tr>\n",
       "    <tr>\n",
       "      <th>466</th>\n",
       "      <td>270</td>\n",
       "      <td>KELONMYOSA/wav2vec2-xls-r-300m-emotion-ru</td>\n",
       "      <td>fear_happiness_30/30_fear_happiness_f_150.wav</td>\n",
       "      <td>positive</td>\n",
       "      <td>fear</td>\n",
       "      <td>[{'label': 'neutral', 'score': 0.0368}, {'labe...</td>\n",
       "      <td>1.331740</td>\n",
       "      <td>other</td>\n",
       "    </tr>\n",
       "    <tr>\n",
       "      <th>467</th>\n",
       "      <td>273</td>\n",
       "      <td>KELONMYOSA/wav2vec2-xls-r-300m-emotion-ru</td>\n",
       "      <td>sadness_happiness_49/49_sadness_happiness_s_03...</td>\n",
       "      <td>positive</td>\n",
       "      <td>sadness</td>\n",
       "      <td>[{'label': 'neutral', 'score': 0.4427}, {'labe...</td>\n",
       "      <td>1.966012</td>\n",
       "      <td>sad</td>\n",
       "    </tr>\n",
       "    <tr>\n",
       "      <th>468</th>\n",
       "      <td>276</td>\n",
       "      <td>KELONMYOSA/wav2vec2-xls-r-300m-emotion-ru</td>\n",
       "      <td>happiness_neutral_38/38_happiness_neutral_n_03...</td>\n",
       "      <td>angry</td>\n",
       "      <td>neutral</td>\n",
       "      <td>[{'label': 'neutral', 'score': 0.3054}, {'labe...</td>\n",
       "      <td>0.817347</td>\n",
       "      <td>neutral</td>\n",
       "    </tr>\n",
       "    <tr>\n",
       "      <th>469</th>\n",
       "      <td>279</td>\n",
       "      <td>KELONMYOSA/wav2vec2-xls-r-300m-emotion-ru</td>\n",
       "      <td>04_fear_enthusiasm/04_fear_enthusiasm f_140.wav</td>\n",
       "      <td>positive</td>\n",
       "      <td>fear</td>\n",
       "      <td>[{'label': 'neutral', 'score': 0.33407}, {'lab...</td>\n",
       "      <td>1.549704</td>\n",
       "      <td>other</td>\n",
       "    </tr>\n",
       "  </tbody>\n",
       "</table>\n",
       "</div>"
      ],
      "text/plain": [
       "     number                                      model  \\\n",
       "465     267  KELONMYOSA/wav2vec2-xls-r-300m-emotion-ru   \n",
       "466     270  KELONMYOSA/wav2vec2-xls-r-300m-emotion-ru   \n",
       "467     273  KELONMYOSA/wav2vec2-xls-r-300m-emotion-ru   \n",
       "468     276  KELONMYOSA/wav2vec2-xls-r-300m-emotion-ru   \n",
       "469     279  KELONMYOSA/wav2vec2-xls-r-300m-emotion-ru   \n",
       "\n",
       "                                                  file label_pred  label_true  \\\n",
       "465  enthusiasm_neutral_37/37_enthusiasm_neutral_e_...    neutral  enthusiasm   \n",
       "466      fear_happiness_30/30_fear_happiness_f_150.wav   positive        fear   \n",
       "467  sadness_happiness_49/49_sadness_happiness_s_03...   positive     sadness   \n",
       "468  happiness_neutral_38/38_happiness_neutral_n_03...      angry     neutral   \n",
       "469    04_fear_enthusiasm/04_fear_enthusiasm f_140.wav   positive        fear   \n",
       "\n",
       "                                        rez_from_model        t1  \\\n",
       "465  [{'label': 'neutral', 'score': 0.44425}, {'lab...  1.123654   \n",
       "466  [{'label': 'neutral', 'score': 0.0368}, {'labe...  1.331740   \n",
       "467  [{'label': 'neutral', 'score': 0.4427}, {'labe...  1.966012   \n",
       "468  [{'label': 'neutral', 'score': 0.3054}, {'labe...  0.817347   \n",
       "469  [{'label': 'neutral', 'score': 0.33407}, {'lab...  1.549704   \n",
       "\n",
       "    new_label_true  \n",
       "465       positive  \n",
       "466          other  \n",
       "467            sad  \n",
       "468        neutral  \n",
       "469          other  "
      ]
     },
     "execution_count": 132,
     "metadata": {},
     "output_type": "execute_result"
    }
   ],
   "source": [
    "df_K.tail()"
   ]
  },
  {
   "cell_type": "code",
   "execution_count": 133,
   "id": "f5270fae-0f06-4bbc-a041-1146b3413393",
   "metadata": {},
   "outputs": [
    {
     "data": {
      "text/html": [
       "<div>\n",
       "<style scoped>\n",
       "    .dataframe tbody tr th:only-of-type {\n",
       "        vertical-align: middle;\n",
       "    }\n",
       "\n",
       "    .dataframe tbody tr th {\n",
       "        vertical-align: top;\n",
       "    }\n",
       "\n",
       "    .dataframe thead th {\n",
       "        text-align: right;\n",
       "    }\n",
       "</style>\n",
       "<table border=\"1\" class=\"dataframe\">\n",
       "  <thead>\n",
       "    <tr style=\"text-align: right;\">\n",
       "      <th></th>\n",
       "      <th>number</th>\n",
       "      <th>model</th>\n",
       "      <th>file</th>\n",
       "      <th>label_pred</th>\n",
       "      <th>label_true</th>\n",
       "      <th>rez_from_model</th>\n",
       "      <th>t1</th>\n",
       "      <th>new_label_true</th>\n",
       "    </tr>\n",
       "  </thead>\n",
       "  <tbody>\n",
       "    <tr>\n",
       "      <th>0</th>\n",
       "      <td>0</td>\n",
       "      <td>Aniemore/wav2vec2-emotion-russian-resd</td>\n",
       "      <td>neutral_fear_27/27_neutral_fear_n_100.wav</td>\n",
       "      <td>angry</td>\n",
       "      <td>neutral</td>\n",
       "      <td>[{'score': 0.17598015069961548, 'label': 'ange...</td>\n",
       "      <td>1.761193</td>\n",
       "      <td>neutral</td>\n",
       "    </tr>\n",
       "    <tr>\n",
       "      <th>1</th>\n",
       "      <td>3</td>\n",
       "      <td>Aniemore/wav2vec2-emotion-russian-resd</td>\n",
       "      <td>anger_fear_42/42_anger_fear_a_190.wav</td>\n",
       "      <td>angry</td>\n",
       "      <td>anger</td>\n",
       "      <td>[{'score': 0.18954557180404663, 'label': 'ange...</td>\n",
       "      <td>0.346388</td>\n",
       "      <td>angry</td>\n",
       "    </tr>\n",
       "    <tr>\n",
       "      <th>2</th>\n",
       "      <td>6</td>\n",
       "      <td>Aniemore/wav2vec2-emotion-russian-resd</td>\n",
       "      <td>fear_disgust_41/41_fear_disgust_f_050.wav</td>\n",
       "      <td>positive</td>\n",
       "      <td>fear</td>\n",
       "      <td>[{'score': 0.1559067964553833, 'label': 'enthu...</td>\n",
       "      <td>2.020141</td>\n",
       "      <td>other</td>\n",
       "    </tr>\n",
       "    <tr>\n",
       "      <th>3</th>\n",
       "      <td>9</td>\n",
       "      <td>Aniemore/wav2vec2-emotion-russian-resd</td>\n",
       "      <td>neutral_fear_27/27_neutral_fear_n_020.wav</td>\n",
       "      <td>neutral</td>\n",
       "      <td>neutral</td>\n",
       "      <td>[{'score': 0.18447254598140717, 'label': 'neut...</td>\n",
       "      <td>1.415429</td>\n",
       "      <td>neutral</td>\n",
       "    </tr>\n",
       "    <tr>\n",
       "      <th>4</th>\n",
       "      <td>12</td>\n",
       "      <td>Aniemore/wav2vec2-emotion-russian-resd</td>\n",
       "      <td>anger_disgust_19/19_anger_disgust_a_030.wav</td>\n",
       "      <td>angry</td>\n",
       "      <td>anger</td>\n",
       "      <td>[{'score': 0.18711082637310028, 'label': 'ange...</td>\n",
       "      <td>0.863154</td>\n",
       "      <td>angry</td>\n",
       "    </tr>\n",
       "  </tbody>\n",
       "</table>\n",
       "</div>"
      ],
      "text/plain": [
       "   number                                   model  \\\n",
       "0       0  Aniemore/wav2vec2-emotion-russian-resd   \n",
       "1       3  Aniemore/wav2vec2-emotion-russian-resd   \n",
       "2       6  Aniemore/wav2vec2-emotion-russian-resd   \n",
       "3       9  Aniemore/wav2vec2-emotion-russian-resd   \n",
       "4      12  Aniemore/wav2vec2-emotion-russian-resd   \n",
       "\n",
       "                                          file label_pred label_true  \\\n",
       "0    neutral_fear_27/27_neutral_fear_n_100.wav      angry    neutral   \n",
       "1        anger_fear_42/42_anger_fear_a_190.wav      angry      anger   \n",
       "2    fear_disgust_41/41_fear_disgust_f_050.wav   positive       fear   \n",
       "3    neutral_fear_27/27_neutral_fear_n_020.wav    neutral    neutral   \n",
       "4  anger_disgust_19/19_anger_disgust_a_030.wav      angry      anger   \n",
       "\n",
       "                                      rez_from_model        t1 new_label_true  \n",
       "0  [{'score': 0.17598015069961548, 'label': 'ange...  1.761193        neutral  \n",
       "1  [{'score': 0.18954557180404663, 'label': 'ange...  0.346388          angry  \n",
       "2  [{'score': 0.1559067964553833, 'label': 'enthu...  2.020141          other  \n",
       "3  [{'score': 0.18447254598140717, 'label': 'neut...  1.415429        neutral  \n",
       "4  [{'score': 0.18711082637310028, 'label': 'ange...  0.863154          angry  "
      ]
     },
     "execution_count": 133,
     "metadata": {},
     "output_type": "execute_result"
    }
   ],
   "source": [
    "df_K.head()"
   ]
  },
  {
   "cell_type": "code",
   "execution_count": 134,
   "id": "d3128c8d-9ab9-463e-8b08-b9a6a9866fd4",
   "metadata": {},
   "outputs": [],
   "source": [
    "acc = np.mean(df_K.label_pred == df_K.new_label_true)"
   ]
  },
  {
   "cell_type": "markdown",
   "id": "6eca0576-8c25-49de-8a39-5a47a041c4c9",
   "metadata": {},
   "source": [
    "## **Оценка асс на resd**"
   ]
  },
  {
   "cell_type": "code",
   "execution_count": 135,
   "id": "c8229244-665c-4ea3-ae7d-ff876da192f2",
   "metadata": {},
   "outputs": [
    {
     "data": {
      "text/plain": [
       "0.6234042553191489"
      ]
     },
     "execution_count": 135,
     "metadata": {},
     "output_type": "execute_result"
    }
   ],
   "source": [
    "acc"
   ]
  },
  {
   "cell_type": "code",
   "execution_count": 142,
   "id": "dfcdf90b-0917-4213-90ed-fa81fc152a1b",
   "metadata": {},
   "outputs": [
    {
     "name": "stdout",
     "output_type": "stream",
     "text": [
      "Aniemore/wav2vec2-emotion-russian-resd ****************\n",
      "Aniemore/hubert-emotion-russian-resd ****************\n",
      "Aniemore/wavlm-emotion-russian-resd ****************\n",
      "Aniemore/unispeech-sat-emotion-russian-resd ****************\n",
      "KELONMYOSA/wav2vec2-xls-r-300m-emotion-ru ****************\n"
     ]
    },
    {
     "data": {
      "text/html": [
       "<div>\n",
       "<style scoped>\n",
       "    .dataframe tbody tr th:only-of-type {\n",
       "        vertical-align: middle;\n",
       "    }\n",
       "\n",
       "    .dataframe tbody tr th {\n",
       "        vertical-align: top;\n",
       "    }\n",
       "\n",
       "    .dataframe thead th {\n",
       "        text-align: right;\n",
       "    }\n",
       "</style>\n",
       "<table border=\"1\" class=\"dataframe\">\n",
       "  <thead>\n",
       "    <tr style=\"text-align: right;\">\n",
       "      <th></th>\n",
       "      <th>model</th>\n",
       "      <th>dataset</th>\n",
       "      <th>acc0</th>\n",
       "      <th>acc1</th>\n",
       "      <th>f1</th>\n",
       "      <th>t</th>\n",
       "    </tr>\n",
       "  </thead>\n",
       "  <tbody>\n",
       "    <tr>\n",
       "      <th>0</th>\n",
       "      <td>Aniemore/wav2vec2-emotion-russian-resd</td>\n",
       "      <td>DUSHA</td>\n",
       "      <td>0.101594</td>\n",
       "      <td>0.149402</td>\n",
       "      <td>0.110919</td>\n",
       "      <td>2.770510</td>\n",
       "    </tr>\n",
       "    <tr>\n",
       "      <th>1</th>\n",
       "      <td>Aniemore/hubert-emotion-russian-resd</td>\n",
       "      <td>DUSHA</td>\n",
       "      <td>0.217131</td>\n",
       "      <td>0.436255</td>\n",
       "      <td>0.305991</td>\n",
       "      <td>2.530516</td>\n",
       "    </tr>\n",
       "    <tr>\n",
       "      <th>2</th>\n",
       "      <td>Aniemore/wavlm-emotion-russian-resd</td>\n",
       "      <td>DUSHA</td>\n",
       "      <td>0.229084</td>\n",
       "      <td>0.322709</td>\n",
       "      <td>0.319163</td>\n",
       "      <td>1.988178</td>\n",
       "    </tr>\n",
       "    <tr>\n",
       "      <th>3</th>\n",
       "      <td>Aniemore/unispeech-sat-emotion-russian-resd</td>\n",
       "      <td>DUSHA</td>\n",
       "      <td>0.356574</td>\n",
       "      <td>0.342629</td>\n",
       "      <td>0.430552</td>\n",
       "      <td>2.920435</td>\n",
       "    </tr>\n",
       "    <tr>\n",
       "      <th>4</th>\n",
       "      <td>KELONMYOSA/wav2vec2-xls-r-300m-emotion-ru</td>\n",
       "      <td>DUSHA</td>\n",
       "      <td>0.890438</td>\n",
       "      <td>0.029880</td>\n",
       "      <td>0.889664</td>\n",
       "      <td>2.659251</td>\n",
       "    </tr>\n",
       "  </tbody>\n",
       "</table>\n",
       "</div>"
      ],
      "text/plain": [
       "                                         model dataset      acc0      acc1  \\\n",
       "0       Aniemore/wav2vec2-emotion-russian-resd   DUSHA  0.101594  0.149402   \n",
       "1         Aniemore/hubert-emotion-russian-resd   DUSHA  0.217131  0.436255   \n",
       "2          Aniemore/wavlm-emotion-russian-resd   DUSHA  0.229084  0.322709   \n",
       "3  Aniemore/unispeech-sat-emotion-russian-resd   DUSHA  0.356574  0.342629   \n",
       "4    KELONMYOSA/wav2vec2-xls-r-300m-emotion-ru   DUSHA  0.890438  0.029880   \n",
       "\n",
       "         f1         t  \n",
       "0  0.110919  2.770510  \n",
       "1  0.305991  2.530516  \n",
       "2  0.319163  1.988178  \n",
       "3  0.430552  2.920435  \n",
       "4  0.889664  2.659251  "
      ]
     },
     "execution_count": 142,
     "metadata": {},
     "output_type": "execute_result"
    }
   ],
   "source": [
    "columns_rez = ['model','dataset', 'acc0', 'acc1', 'f1', 't']\n",
    "for model_name in model_list:\n",
    "    df = df_K.loc[df_K.model == model_name,:]\n",
    "    \n",
    "    acc0 = accuracy_score(df.new_label_true.values , df.label_pred.values)\n",
    "    acc1 = accuracy_score(df.new_label_true.values , df.label_pred.values)\n",
    "    f1 = f1_score(df.new_label_true, df.label_pred.values, average='weighted')\n",
    "    print(model_name, '****************')\n",
    "    rez_model_score.append([model_name, 'RESD', acc0, acc1, f1 , np.mean(df.t1)])\n",
    "rez_model_score_pd1 = pd.DataFrame(rez_model_score, columns=columns_rez)\n",
    "rez_model_score_pd1.head()"
   ]
  },
  {
   "cell_type": "code",
   "execution_count": 143,
   "id": "4f6507e7-5525-47ae-bc85-9cfda16454da",
   "metadata": {},
   "outputs": [
    {
     "data": {
      "text/html": [
       "<div>\n",
       "<style scoped>\n",
       "    .dataframe tbody tr th:only-of-type {\n",
       "        vertical-align: middle;\n",
       "    }\n",
       "\n",
       "    .dataframe tbody tr th {\n",
       "        vertical-align: top;\n",
       "    }\n",
       "\n",
       "    .dataframe thead th {\n",
       "        text-align: right;\n",
       "    }\n",
       "</style>\n",
       "<table border=\"1\" class=\"dataframe\">\n",
       "  <thead>\n",
       "    <tr style=\"text-align: right;\">\n",
       "      <th></th>\n",
       "      <th>model</th>\n",
       "      <th>dataset</th>\n",
       "      <th>acc0</th>\n",
       "      <th>acc1</th>\n",
       "      <th>f1</th>\n",
       "      <th>t</th>\n",
       "    </tr>\n",
       "  </thead>\n",
       "  <tbody>\n",
       "    <tr>\n",
       "      <th>0</th>\n",
       "      <td>Aniemore/wav2vec2-emotion-russian-resd</td>\n",
       "      <td>DUSHA</td>\n",
       "      <td>0.101594</td>\n",
       "      <td>0.149402</td>\n",
       "      <td>0.110919</td>\n",
       "      <td>2.770510</td>\n",
       "    </tr>\n",
       "    <tr>\n",
       "      <th>1</th>\n",
       "      <td>Aniemore/hubert-emotion-russian-resd</td>\n",
       "      <td>DUSHA</td>\n",
       "      <td>0.217131</td>\n",
       "      <td>0.436255</td>\n",
       "      <td>0.305991</td>\n",
       "      <td>2.530516</td>\n",
       "    </tr>\n",
       "    <tr>\n",
       "      <th>2</th>\n",
       "      <td>Aniemore/wavlm-emotion-russian-resd</td>\n",
       "      <td>DUSHA</td>\n",
       "      <td>0.229084</td>\n",
       "      <td>0.322709</td>\n",
       "      <td>0.319163</td>\n",
       "      <td>1.988178</td>\n",
       "    </tr>\n",
       "    <tr>\n",
       "      <th>3</th>\n",
       "      <td>Aniemore/unispeech-sat-emotion-russian-resd</td>\n",
       "      <td>DUSHA</td>\n",
       "      <td>0.356574</td>\n",
       "      <td>0.342629</td>\n",
       "      <td>0.430552</td>\n",
       "      <td>2.920435</td>\n",
       "    </tr>\n",
       "    <tr>\n",
       "      <th>4</th>\n",
       "      <td>KELONMYOSA/wav2vec2-xls-r-300m-emotion-ru</td>\n",
       "      <td>DUSHA</td>\n",
       "      <td>0.890438</td>\n",
       "      <td>0.029880</td>\n",
       "      <td>0.889664</td>\n",
       "      <td>2.659251</td>\n",
       "    </tr>\n",
       "    <tr>\n",
       "      <th>5</th>\n",
       "      <td>Aniemore/wav2vec2-emotion-russian-resd</td>\n",
       "      <td>RESD</td>\n",
       "      <td>0.340426</td>\n",
       "      <td>0.340426</td>\n",
       "      <td>0.310288</td>\n",
       "      <td>0.947531</td>\n",
       "    </tr>\n",
       "    <tr>\n",
       "      <th>6</th>\n",
       "      <td>Aniemore/hubert-emotion-russian-resd</td>\n",
       "      <td>RESD</td>\n",
       "      <td>0.797872</td>\n",
       "      <td>0.797872</td>\n",
       "      <td>0.798911</td>\n",
       "      <td>0.928738</td>\n",
       "    </tr>\n",
       "    <tr>\n",
       "      <th>7</th>\n",
       "      <td>Aniemore/wavlm-emotion-russian-resd</td>\n",
       "      <td>RESD</td>\n",
       "      <td>0.872340</td>\n",
       "      <td>0.872340</td>\n",
       "      <td>0.872970</td>\n",
       "      <td>0.971125</td>\n",
       "    </tr>\n",
       "    <tr>\n",
       "      <th>8</th>\n",
       "      <td>Aniemore/unispeech-sat-emotion-russian-resd</td>\n",
       "      <td>RESD</td>\n",
       "      <td>0.712766</td>\n",
       "      <td>0.712766</td>\n",
       "      <td>0.703554</td>\n",
       "      <td>0.940354</td>\n",
       "    </tr>\n",
       "    <tr>\n",
       "      <th>9</th>\n",
       "      <td>KELONMYOSA/wav2vec2-xls-r-300m-emotion-ru</td>\n",
       "      <td>RESD</td>\n",
       "      <td>0.393617</td>\n",
       "      <td>0.393617</td>\n",
       "      <td>0.323023</td>\n",
       "      <td>0.867656</td>\n",
       "    </tr>\n",
       "  </tbody>\n",
       "</table>\n",
       "</div>"
      ],
      "text/plain": [
       "                                         model dataset      acc0      acc1  \\\n",
       "0       Aniemore/wav2vec2-emotion-russian-resd   DUSHA  0.101594  0.149402   \n",
       "1         Aniemore/hubert-emotion-russian-resd   DUSHA  0.217131  0.436255   \n",
       "2          Aniemore/wavlm-emotion-russian-resd   DUSHA  0.229084  0.322709   \n",
       "3  Aniemore/unispeech-sat-emotion-russian-resd   DUSHA  0.356574  0.342629   \n",
       "4    KELONMYOSA/wav2vec2-xls-r-300m-emotion-ru   DUSHA  0.890438  0.029880   \n",
       "5       Aniemore/wav2vec2-emotion-russian-resd    RESD  0.340426  0.340426   \n",
       "6         Aniemore/hubert-emotion-russian-resd    RESD  0.797872  0.797872   \n",
       "7          Aniemore/wavlm-emotion-russian-resd    RESD  0.872340  0.872340   \n",
       "8  Aniemore/unispeech-sat-emotion-russian-resd    RESD  0.712766  0.712766   \n",
       "9    KELONMYOSA/wav2vec2-xls-r-300m-emotion-ru    RESD  0.393617  0.393617   \n",
       "\n",
       "         f1         t  \n",
       "0  0.110919  2.770510  \n",
       "1  0.305991  2.530516  \n",
       "2  0.319163  1.988178  \n",
       "3  0.430552  2.920435  \n",
       "4  0.889664  2.659251  \n",
       "5  0.310288  0.947531  \n",
       "6  0.798911  0.928738  \n",
       "7  0.872970  0.971125  \n",
       "8  0.703554  0.940354  \n",
       "9  0.323023  0.867656  "
      ]
     },
     "execution_count": 143,
     "metadata": {},
     "output_type": "execute_result"
    }
   ],
   "source": [
    "rez_model_score_pd1.head(40)"
   ]
  },
  {
   "cell_type": "markdown",
   "id": "84a2d5cd-8735-4ae0-8adf-e1e6d7061eb8",
   "metadata": {},
   "source": [
    "### Вывод:\n",
    "\n",
    "    - на чужом датасете сильно хуже"
   ]
  },
  {
   "cell_type": "markdown",
   "id": "2c8d9601-9880-4acc-af6f-9faad512bb52",
   "metadata": {},
   "source": [
    "## Интересные проекты в области речи (с моделями, кодом и всякими приятными теоретическими историями, но в массе на английский язык расчитаны, т.е. часть вещей можем брать)\n",
    "\n",
    "    - ps://github.com/speechbrain/speechbrain ( модели Speech Separation, Speech Enhancement, Voice Activity Detection, Diarization) - еще куча моделей для анализа"
   ]
  },
  {
   "cell_type": "markdown",
   "id": "703b08e7-cdc5-4044-8b04-7a7f27290866",
   "metadata": {},
   "source": [
    "## Дополнение: Наш предполагаемый пайплайн обработки"
   ]
  },
  {
   "cell_type": "markdown",
   "id": "4e4b0144-79eb-4f74-984f-5dbd1722dd76",
   "metadata": {},
   "source": [
    "оценка эмоций по звуку речи"
   ]
  },
  {
   "cell_type": "code",
   "execution_count": 10,
   "id": "0803a953-41f4-45b6-931a-bc792d3d2d12",
   "metadata": {},
   "outputs": [
    {
     "name": "stderr",
     "output_type": "stream",
     "text": [
      "Some weights of the model checkpoint at aniemore/wavlm-emotion-russian-resd were not used when initializing WavLMForSequenceClassification: ['wavlm.encoder.pos_conv_embed.conv.weight_g', 'wavlm.encoder.pos_conv_embed.conv.weight_v']\n",
      "- This IS expected if you are initializing WavLMForSequenceClassification from the checkpoint of a model trained on another task or with another architecture (e.g. initializing a BertForSequenceClassification model from a BertForPreTraining model).\n",
      "- This IS NOT expected if you are initializing WavLMForSequenceClassification from the checkpoint of a model that you expect to be exactly identical (initializing a BertForSequenceClassification model from a BertForSequenceClassification model).\n",
      "Some weights of WavLMForSequenceClassification were not initialized from the model checkpoint at aniemore/wavlm-emotion-russian-resd and are newly initialized: ['wavlm.encoder.pos_conv_embed.conv.parametrizations.weight.original0', 'wavlm.encoder.pos_conv_embed.conv.parametrizations.weight.original1']\n",
      "You should probably TRAIN this model on a down-stream task to be able to use it for predictions and inference.\n",
      "Some weights of the model checkpoint at aniemore/wavlm-emotion-russian-resd were not used when initializing WavLMForSequenceClassification: ['wavlm.encoder.pos_conv_embed.conv.weight_g', 'wavlm.encoder.pos_conv_embed.conv.weight_v']\n",
      "- This IS expected if you are initializing WavLMForSequenceClassification from the checkpoint of a model trained on another task or with another architecture (e.g. initializing a BertForSequenceClassification model from a BertForPreTraining model).\n",
      "- This IS NOT expected if you are initializing WavLMForSequenceClassification from the checkpoint of a model that you expect to be exactly identical (initializing a BertForSequenceClassification model from a BertForSequenceClassification model).\n",
      "Some weights of WavLMForSequenceClassification were not initialized from the model checkpoint at aniemore/wavlm-emotion-russian-resd and are newly initialized: ['wavlm.encoder.pos_conv_embed.conv.parametrizations.weight.original0', 'wavlm.encoder.pos_conv_embed.conv.parametrizations.weight.original1']\n",
      "You should probably TRAIN this model on a down-stream task to be able to use it for predictions and inference.\n"
     ]
    },
    {
     "data": {
      "text/plain": [
       "'happiness'"
      ]
     },
     "execution_count": 10,
     "metadata": {},
     "output_type": "execute_result"
    }
   ],
   "source": [
    "\n",
    "\n",
    "import torch\n",
    "from aniemore.recognizers.voice import VoiceRecognizer\n",
    "from aniemore.models import HuggingFaceModel\n",
    "\n",
    "model_w = HuggingFaceModel.Voice.WavLM\n",
    "device = 'cuda' if torch.cuda.is_available() else 'cpu'\n",
    "vr = VoiceRecognizer(model=model_w, device=device)\n",
    "\n",
    "n = 0\n",
    "wav_name = df_resd_train.name.iloc[n]\n",
    "out_f =  'dataset/RESD_train/' + str(n) + wav_name\n",
    "vr.recognize(out_f, return_single_label=True)"
   ]
  },
  {
   "cell_type": "markdown",
   "id": "5f3ca43f-ab85-4214-bae8-481335a93c7d",
   "metadata": {},
   "source": [
    "перевод речи в текст"
   ]
  },
  {
   "cell_type": "code",
   "execution_count": 11,
   "id": "26487beb-3b36-4b4f-8d28-54678aa915bb",
   "metadata": {},
   "outputs": [
    {
     "data": {
      "text/plain": [
       "[' Конечно, скажу, обязательно. Ой, сейчас, ну скажу.']"
      ]
     },
     "execution_count": 11,
     "metadata": {},
     "output_type": "execute_result"
    }
   ],
   "source": [
    "from transformers import WhisperProcessor, WhisperForConditionalGeneration\n",
    "from datasets import Audio, load_dataset\n",
    "\n",
    "# load model and processor\n",
    "processor = WhisperProcessor.from_pretrained(\"openai/whisper-tiny\")\n",
    "model_t = WhisperForConditionalGeneration.from_pretrained(\"openai/whisper-tiny\")\n",
    "forced_decoder_ids = processor.get_decoder_prompt_ids(language=\"russian\", task=\"transcribe\")\n",
    "\n",
    "wav_name = df_resd_train.name.iloc[n]\n",
    "speech = df_resd_train.speech.iloc[n]\n",
    "#\n",
    "#  тут чтение и создание структуры {'array':[  numpy массив из аудио ], \"sampling_rate\":16000}\n",
    "#\n",
    "\n",
    "input_features = processor(speech[\"array\"], sampling_rate=speech[\"sampling_rate\"], return_tensors=\"pt\").input_features\n",
    "\n",
    "# generate token ids\n",
    "predicted_ids = model_t.generate(input_features, forced_decoder_ids=forced_decoder_ids)\n",
    "# decode token ids to text\n",
    "transcription = processor.batch_decode(predicted_ids)\n",
    "\n",
    "transcription = processor.batch_decode(predicted_ids, skip_special_tokens=True)\n",
    "transcription"
   ]
  },
  {
   "cell_type": "markdown",
   "id": "b078ac22-a42a-4338-9f37-e7224a6113f5",
   "metadata": {},
   "source": [
    "Оценка эмоций по тексту"
   ]
  },
  {
   "cell_type": "code",
   "execution_count": 12,
   "id": "67525093-4032-4b9e-98c7-c699794959b3",
   "metadata": {},
   "outputs": [
    {
     "data": {
      "text/plain": [
       "'happiness'"
      ]
     },
     "execution_count": 12,
     "metadata": {},
     "output_type": "execute_result"
    }
   ],
   "source": [
    "import torch\n",
    "from aniemore.recognizers.text import TextRecognizer\n",
    "from aniemore.models import HuggingFaceModel\n",
    "\n",
    "model_e = HuggingFaceModel.Text.Bert_Tiny2\n",
    "device = 'cuda' if torch.cuda.is_available() else 'cpu'\n",
    "tr = TextRecognizer(model=model_e, device=device)\n",
    "\n",
    "tr.recognize(transcription[0], return_single_label=True)"
   ]
  },
  {
   "cell_type": "markdown",
   "id": "50044e0c-c5a5-49e6-9080-cf16fa51bfdc",
   "metadata": {},
   "source": [
    "### Весь поток целиком"
   ]
  },
  {
   "cell_type": "code",
   "execution_count": 19,
   "id": "5887a248-c80f-4cca-9a6a-03917a7b74e8",
   "metadata": {},
   "outputs": [],
   "source": [
    "rez = [] \n",
    "for i in range(100):#df_resd_train.shape[0]):\n",
    "    try:\n",
    "        t1 =  time.time()\n",
    "        wav_name = df_resd_train.name.iloc[i]\n",
    "        speech = df_resd_train.speech.iloc[i]\n",
    "        samples = speech['array']\n",
    "        fs = speech['sampling_rate']\n",
    "        out_f =  'dataset/RESD_train/' + str(i) + wav_name\n",
    "\n",
    "        s_em = vr.recognize(out_f, return_single_label=True)\n",
    "        # SER\n",
    "        input_features = processor(speech[\"array\"], sampling_rate=speech[\"sampling_rate\"], return_tensors=\"pt\").input_features\n",
    "\n",
    "        # STT\n",
    "        predicted_ids = model_t.generate(input_features, forced_decoder_ids=forced_decoder_ids)\n",
    "        # \n",
    "        transcription = processor.batch_decode(predicted_ids)\n",
    "        \n",
    "        transcription = processor.batch_decode(predicted_ids, skip_special_tokens=True)\n",
    "        \n",
    "        #SA\n",
    "        t_em = tr.recognize(transcription[0], return_single_label=True)\n",
    "\n",
    "        # label_pred = model(processor(speech))\n",
    "\n",
    "        label_true = df_resd_train.emotion.iloc[i]\n",
    "        t1 =  time.time() - t1 \n",
    "        rez.append([i, wav_name, label_true, s_em, t_em, t1]) \n",
    "        # break\n",
    "    except:\n",
    "        pass"
   ]
  },
  {
   "cell_type": "code",
   "execution_count": 21,
   "id": "13fd1c8c-c3d5-4f5d-93c8-c6e8663dce39",
   "metadata": {},
   "outputs": [],
   "source": [
    "df_aniemore_resd = pd.DataFrame(rez, columns=['N','file_name','label_true','label_audio','label_text', 't'])\n",
    "df_aniemore_resd.to_csv('aniem_resd.csv')"
   ]
  },
  {
   "cell_type": "markdown",
   "id": "56b1ef44-7853-4a06-af4b-7b2c80d2157b",
   "metadata": {},
   "source": [
    "### аккуратность модели\n",
    "    - по тексту"
   ]
  },
  {
   "cell_type": "code",
   "execution_count": 22,
   "id": "a1e1a755-fa3e-4e8b-adee-a4a5a75e2e57",
   "metadata": {},
   "outputs": [
    {
     "data": {
      "text/plain": [
       "0.15384615384615385"
      ]
     },
     "execution_count": 22,
     "metadata": {},
     "output_type": "execute_result"
    }
   ],
   "source": [
    "acc = np.mean(df_aniemore_resd.label_text == df_aniemore_resd.label_true)\n",
    "acc"
   ]
  },
  {
   "cell_type": "markdown",
   "id": "37aa7635-a60b-4fec-8465-8fe3c0656f13",
   "metadata": {},
   "source": [
    "    - по голосу"
   ]
  },
  {
   "cell_type": "code",
   "execution_count": 23,
   "id": "4f386739-73ce-42cc-958b-33cc8d58a32a",
   "metadata": {},
   "outputs": [
    {
     "data": {
      "text/plain": [
       "1.0"
      ]
     },
     "execution_count": 23,
     "metadata": {},
     "output_type": "execute_result"
    }
   ],
   "source": [
    "acc = np.mean(df_aniemore_resd.label_audio == df_aniemore_resd.label_true)\n",
    "acc"
   ]
  },
  {
   "cell_type": "markdown",
   "id": "1bd9d409-af0f-48cf-8627-c6f5f4cd6622",
   "metadata": {},
   "source": [
    "    - среднее время обработки"
   ]
  },
  {
   "cell_type": "code",
   "execution_count": 24,
   "id": "cd52e8d1-8d2f-4b67-9f5a-5debccd6492f",
   "metadata": {},
   "outputs": [
    {
     "data": {
      "text/plain": [
       "1.2905627672488873"
      ]
     },
     "execution_count": 24,
     "metadata": {},
     "output_type": "execute_result"
    }
   ],
   "source": [
    "df_aniemore_resd.t.mean()"
   ]
  },
  {
   "cell_type": "code",
   "execution_count": null,
   "id": "1fd4912b-ec10-4554-87d8-8ff287c27583",
   "metadata": {},
   "outputs": [],
   "source": []
  }
 ],
 "metadata": {
  "kernelspec": {
   "display_name": "Python 3 (ipykernel)",
   "language": "python",
   "name": "python3"
  },
  "language_info": {
   "codemirror_mode": {
    "name": "ipython",
    "version": 3
   },
   "file_extension": ".py",
   "mimetype": "text/x-python",
   "name": "python",
   "nbconvert_exporter": "python",
   "pygments_lexer": "ipython3",
   "version": "3.10.12"
  }
 },
 "nbformat": 4,
 "nbformat_minor": 5
}
