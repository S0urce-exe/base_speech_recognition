{
 "cells": [
  {
   "cell_type": "code",
   "execution_count": null,
   "id": "7521b107-9e48-4afc-bcb8-7c8be9e03208",
   "metadata": {
    "scrolled": true
   },
   "outputs": [],
   "source": []
  },
  {
   "cell_type": "code",
   "execution_count": null,
   "id": "47e02bf8-9861-4dde-8c6d-359f6fd3025b",
   "metadata": {},
   "outputs": [],
   "source": [
    "if name in whisper.available_models():\n",
    "    name = f\"openai/whisper-{name}\"\n",
    "    # TODO: use download_root\n",
    "    # TODO: does in_memory makes sense?\n",
    "    cache_dir=os.path.join(download_root, \"huggingface\", \"hub\") if download_root else None,\n",
    "    try:\n",
    "        generation_config = transformers.GenerationConfig.from_pretrained(name, cache_dir=cache_dir)\n",
    "    except OSError:\n",
    "        generation_config = transformers.GenerationConfig.from_pretrained(\"openai/whisper-tiny\", cache_dir=cache_dir)\n",
    "    processor = transformers.WhisperProcessor.from_pretrained(name, cache_dir=cache_dir)\n",
    "    if device is None:\n",
    "        device = \"cuda\" if torch.cuda.is_available() else \"cpu\"\n",
    "    precision = torch.float32\n",
    "    model = transformers.WhisperForConditionalGeneration.from_pretrained(\n",
    "        name,\n",
    "        # load_in_8bit=True,\n",
    "        # load_in_4bit=True,\n",
    "        torch_dtype=precision,\n",
    "        # torch_dtype=torch.bfloat16, \n",
    "        # attn_implementation=\"flash_attention_2\",\n",
    "        # attn_implementation=\"sdpa\",\n",
    "        cache_dir=cache_dir,\n",
    "    )\n",
    "    # model = model.to_bettertransformer()\n",
    "\n",
    "    model = model.to(device)"
   ]
  }
 ],
 "metadata": {
  "kernelspec": {
   "display_name": "Python 3 (ipykernel)",
   "language": "python",
   "name": "python3"
  },
  "language_info": {
   "codemirror_mode": {
    "name": "ipython",
    "version": 3
   },
   "file_extension": ".py",
   "mimetype": "text/x-python",
   "name": "python",
   "nbconvert_exporter": "python",
   "pygments_lexer": "ipython3",
   "version": "3.10.12"
  }
 },
 "nbformat": 4,
 "nbformat_minor": 5
}
