{
 "cells": [
  {
   "cell_type": "code",
   "execution_count": 8,
   "id": "2a3485c1-3616-49a6-a541-5246c576e416",
   "metadata": {},
   "outputs": [],
   "source": [
    "from optimum.onnxruntime import ORTModelForQuestionAnswering, ORTModelForAudioClassification, ORTModelForSequenceClassification, ORTModelForSpeechSeq2Seq\n",
    "from transformers import AutoConfig, Wav2Vec2Processor, AutoTokenizer, PretrainedConfig, WhisperProcessor\n",
    "import time\n",
    "import librosa\n",
    "import numpy as np\n",
    "import pandas as pd\n",
    "import os\n",
    "\n",
    "import audio_base \n",
    "import metric\n",
    "import config"
   ]
  },
  {
   "cell_type": "markdown",
   "id": "17346e07-e69a-452c-8907-11095b3ac412",
   "metadata": {},
   "source": [
    "# Речь в текст"
   ]
  },
  {
   "cell_type": "code",
   "execution_count": 9,
   "id": "10a668ac-1ed8-42fd-96e6-32224e0865be",
   "metadata": {},
   "outputs": [
    {
     "name": "stderr",
     "output_type": "stream",
     "text": [
      "Special tokens have been added in the vocabulary, make sure the associated word embeddings are fine-tuned or trained.\n",
      "You are using a model of type whisper to instantiate a model of type . This is not supported for all configurations of models and can yield errors.\n"
     ]
    },
    {
     "data": {
      "text/plain": [
       "[' Слушай, я потратил обретьом кучу денег для того, чтобы притоситься в эту дару. Это что вообще такое? Посмотри на официантов, они все в черных каких-то рубашках с кислыми минами. Даже никто из них до сих пор не подошел к нам.']"
      ]
     },
     "execution_count": 9,
     "metadata": {},
     "output_type": "execute_result"
    }
   ],
   "source": [
    "\n",
    "sampling_rate =  16000\n",
    "path_a ='01_happiness_anger a_020.wav'\n",
    "speech, sr = librosa.load(path_a, sr=sampling_rate)\n",
    "model_text = audio_base.SpeechtoText('whisper-tiny_onnx', \"openai/whisper-base\", \"openai/whisper-tiny\")\n",
    "model_text.run(speech)"
   ]
  },
  {
   "cell_type": "code",
   "execution_count": 10,
   "id": "add289d5-94c7-4842-b0ba-7aebff4a4e70",
   "metadata": {},
   "outputs": [
    {
     "name": "stdout",
     "output_type": "stream",
     "text": [
      "Ignored unknown kwarg option normalize\n",
      "Ignored unknown kwarg option normalize\n",
      "Ignored unknown kwarg option normalize\n",
      "Ignored unknown kwarg option normalize\n"
     ]
    },
    {
     "data": {
      "text/plain": [
       "'angry'"
      ]
     },
     "execution_count": 10,
     "metadata": {},
     "output_type": "execute_result"
    }
   ],
   "source": [
    "path_a ='01_happiness_anger a_020.wav'\n",
    "speech, sr = librosa.load(path_a, sr=sampling_rate)\n",
    "model_em = audio_base.SpeechtoEmotion(\"wav2vec2-xls-r-300m-emotion-ru_onnx\", \"KELONMYOSA/wav2vec2-xls-r-300m-emotion-ru\")\n",
    "model_em.run(speech)"
   ]
  },
  {
   "cell_type": "markdown",
   "id": "b9e7049a-2787-4aab-9a38-3fe41eebb7bb",
   "metadata": {},
   "source": [
    "# Текст в эмоции"
   ]
  },
  {
   "cell_type": "code",
   "execution_count": 11,
   "id": "b88aa544-086e-4036-8bf4-2cc54e9f9a8c",
   "metadata": {},
   "outputs": [
    {
     "data": {
      "text/plain": [
       "'sadness'"
      ]
     },
     "execution_count": 11,
     "metadata": {},
     "output_type": "execute_result"
    }
   ],
   "source": [
    "model_textem = audio_base.TexttoEmotion(\"rubert-tiny2-russian-emotion-detection_onnx\", \"Djacon/rubert-tiny2-russian-emotion-detection\")\n",
    "model_textem.run(\"ой беда, какая беда\")"
   ]
  },
  {
   "cell_type": "markdown",
   "id": "e0b5a6d2-77e0-4505-91a9-fa8c3b88452b",
   "metadata": {},
   "source": [
    "## Общий поток распознавания"
   ]
  },
  {
   "cell_type": "code",
   "execution_count": 12,
   "id": "5aa031db-bf41-44ce-bc8a-b7ea195496c6",
   "metadata": {},
   "outputs": [
    {
     "name": "stderr",
     "output_type": "stream",
     "text": [
      "Special tokens have been added in the vocabulary, make sure the associated word embeddings are fine-tuned or trained.\n",
      "You are using a model of type whisper to instantiate a model of type . This is not supported for all configurations of models and can yield errors.\n"
     ]
    },
    {
     "name": "stdout",
     "output_type": "stream",
     "text": [
      "Ignored unknown kwarg option normalize\n",
      "Ignored unknown kwarg option normalize\n",
      "Ignored unknown kwarg option normalize\n",
      "Ignored unknown kwarg option normalize\n"
     ]
    }
   ],
   "source": [
    "path_a ='01_happiness_anger a_020.wav'\n",
    "# path_a = '1725.wav'\n",
    "\n",
    "\n",
    "# создаем модели\n",
    "\n",
    "model_text = audio_base.SpeechtoText(config.model_name_speech_to_text[0], config.model_name_speech_to_text[1], config.model_name_speech_to_text[2])\n",
    "model_textem = audio_base.TexttoEmotion(config.model_name_text_to_emo[0], config.model_name_text_to_emo[1])\n",
    "model_em = audio_base.SpeechtoEmotion(config.model_name_speech_to_emo[0],config.model_name_speech_to_emo[1],)\n",
    "\n",
    "# длина эпизода записи в с. \n",
    "dt = 1\n",
    "d = 16000 * dt\n",
    "n_d = 4\n",
    "\n",
    "\n",
    "# rez_text_all = model_text.run(speech)\n",
    "# rez_text_all_buf = rez_text_all[0] \n",
    "# rez_text_all_list = rez_text_all[0].split(' ')"
   ]
  },
  {
   "cell_type": "code",
   "execution_count": 13,
   "id": "fba851f1-75d2-4d10-9126-a05dcc492762",
   "metadata": {},
   "outputs": [
    {
     "data": {
      "text/plain": [
       "(' Слушай, потратил об этом  кучу денег для  того, что  притащится в эту дару. Это что   вообще такое? Посмотри на офицантов. Они все в    черных каких-то рубашках с   кислыми минами. Даже   никто из них до сих пор не  подошел к нам.',\n",
       "      t                                         sub_string     word  \\\n",
       " 0  0.0   Слушай, потратил об этом кучу денег. Для того...  Слушай,   \n",
       " 1  0.5   кучу денег для того, чтобы притащиться в эту ...     кучу   \n",
       " 2  1.0   Для того, что притащится в эту дару, это что ...      Для   \n",
       " 3  1.5   что притащится в эту дару. Это что вообще так...      что   \n",
       " 4  2.0   В эту дару это что вообще такое посовинайся ц...        В   \n",
       " \n",
       "           em1    em2  emotion  k2  k1  \n",
       " 0     neutral  angry     0.50  26   0  \n",
       " 1     neutral  angry     0.50  16   0  \n",
       " 2     neutral  angry     0.50  15   4  \n",
       " 3  enthusiasm  angry     0.55  36   4  \n",
       " 4  enthusiasm  angry     0.55  20  19  )"
      ]
     },
     "execution_count": 13,
     "metadata": {},
     "output_type": "execute_result"
    }
   ],
   "source": [
    "    \n",
    "s, df =  audio_base.check_model(path_a, dt=1, d=d, n_d=4,  model_text=model_text, model_textem=model_textem, model_em=model_em)\n",
    "s, df.head()"
   ]
  },
  {
   "cell_type": "code",
   "execution_count": 14,
   "id": "a5053f48-620c-497c-8c62-c78bf4b77ed0",
   "metadata": {},
   "outputs": [
    {
     "data": {
      "text/plain": [
       "' Слушай, потратил об этом  кучу денег для  того, что  притащится в эту дару. Это что   вообще такое? Посмотри на офицантов. Они все в    черных каких-то рубашках с   кислыми минами. Даже   никто из них до сих пор не  подошел к нам.'"
      ]
     },
     "execution_count": 14,
     "metadata": {},
     "output_type": "execute_result"
    }
   ],
   "source": [
    "s"
   ]
  },
  {
   "cell_type": "code",
   "execution_count": 15,
   "id": "d42db914-9667-4007-95ff-4ea71826467f",
   "metadata": {},
   "outputs": [],
   "source": [
    "dir_rez = 'save_rez/' # создать катол\n",
    "df.to_csv(dir_rez + '.'.join(path_a.split('/')[-1].split('.')[:-1]) + '.csv')"
   ]
  },
  {
   "cell_type": "code",
   "execution_count": null,
   "id": "8112ae2c-9fef-4019-8340-39d2b1b9d136",
   "metadata": {},
   "outputs": [],
   "source": []
  }
 ],
 "metadata": {
  "kernelspec": {
   "display_name": "Python 3 (ipykernel)",
   "language": "python",
   "name": "python3"
  },
  "language_info": {
   "codemirror_mode": {
    "name": "ipython",
    "version": 3
   },
   "file_extension": ".py",
   "mimetype": "text/x-python",
   "name": "python",
   "nbconvert_exporter": "python",
   "pygments_lexer": "ipython3",
   "version": "3.10.12"
  }
 },
 "nbformat": 4,
 "nbformat_minor": 5
}
