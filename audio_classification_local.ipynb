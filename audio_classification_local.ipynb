{
 "cells": [
  {
   "cell_type": "markdown",
   "id": "97cdbef4-9e7b-43a8-a242-cf757d7a11ac",
   "metadata": {},
   "source": [
    "# Пример работы с моделями открытых репозиториев:\n",
    "\n",
    "## - Hugginface:\n",
    "\n",
    "1. **Запуск моделей**:\n",
    "    - загрузить биилиотеки для работы: requirements.txt\n",
    "    - пройти на страницу моделей Hugginface: https://huggingface.co/models\n",
    "    - выбрать теги для работы. наши теги по задачам:\n",
    "        - Speech to text (STT): Audio и там automatic-speech-recognition, в \"Filter by name\" в меру воображения про русский язык (например, просто пишем  - ru )\n",
    "        - Text Sentiment Analize (TSA): Natural Language Processing и там text-classification, а  в \"Filter by name\" в меру воображения про русский язык (например, просто пишем  - ru ) \n",
    "        - Speech to Emotion recognition (SER): Audio и там audio-classification, в \"Filter by name\" в меру воображения про русский язык (например, просто пишем  - ru ) - замечание : тут много моделей не про речь - читаем описание моделей и корректируем выбор.\n",
    "    - Собираем список имен моделей:\n",
    "        - открыть модель из списка оставшихся рабочих образцов со страницы \n",
    "        - запустить модель с примером из датасета (небольшое тестовое множество)\n",
    "        - записать выходы и проверить адекватность записываемого \n",
    "    - Отбросить модели, которые решают не \"нашу\" задачу (не всегда прозрачно описан выход модели), и модели, которые не заработала (так тоже бывает)\n",
    " \n",
    " 2. **Тест**:\n",
    "    - Не верим результатам из карты модели - проверяем, но и себе не верим (проверяем)\n",
    "    - Запускаем \"Уцелевший список рабочих моделей\" и записываем результаты в один параллельно заполняемый Дата фрейм\n",
    "    - собрать таблицу результатов работы модели (дописать выходы модели к таблице с датасетом)\n",
    " \n",
    " 3. **Анализ**:\n",
    "    - провести очистку и интерпретицию результатов (модели не обязаны писать ответы как нам нужно, они пищут их как у них записано)\n",
    "    - тестим на разных данных (датасеты, тоже имеют свою разметку)\n",
    "    - пользуемся одной метрикой!!!!\n",
    " \n",
    " 4. **Выводы**       \n",
    "        "
   ]
  },
  {
   "cell_type": "markdown",
   "id": "ffbe034c-3518-4047-976a-bf70d11dc234",
   "metadata": {},
   "source": [
    "Пример для юболее продвинутого варианта использования моделей-  с доучиванием https://github.com/huggingface/notebooks/blob/main/examples/audio_classification.ipynb\n",
    "\n",
    "## Audio classification"
   ]
  },
  {
   "cell_type": "code",
   "execution_count": 2,
   "id": "1487e952-2211-49e8-b224-bddaa109ac70",
   "metadata": {},
   "outputs": [],
   "source": [
    "\n",
    "import pandas as pd\n",
    "import numpy as np\n",
    "import time\n",
    "\n",
    "import warnings\n",
    "warnings.simplefilter('ignore')\n"
   ]
  },
  {
   "cell_type": "markdown",
   "id": "ad45c130-ca05-4a5e-924b-6a75171b5add",
   "metadata": {},
   "source": [
    "## инсталировать нужные пакеты"
   ]
  },
  {
   "cell_type": "code",
   "execution_count": 3,
   "id": "908baa76-e27a-4dd7-8f20-07a24ca7c43d",
   "metadata": {},
   "outputs": [],
   "source": [
    "# # для установки torch (похоже tensorflow если используем его)\n",
    "# !pip install torch torchvision\n",
    "# # общий вариант\n",
    "# !pip install transformers \n",
    "# # вариант с только с цпу\n",
    "# # for torch\n",
    "# !pip install 'transformers[torch]'\n",
    "# # for tensorflow\n",
    "# !pip install 'transformers[tf-cpu]'\n",
    "\n",
    "# # другие варианты https://huggingface.co/docs/transformers/installation"
   ]
  },
  {
   "cell_type": "code",
   "execution_count": 4,
   "id": "5b6c7ea5-acab-4d87-a781-c443dd3673d4",
   "metadata": {},
   "outputs": [],
   "source": [
    "# пакет от Hugginface"
   ]
  },
  {
   "cell_type": "code",
   "execution_count": 5,
   "id": "f35d395c-cca0-46a8-9807-667fdde6833f",
   "metadata": {},
   "outputs": [],
   "source": [
    "from transformers import pipeline\n"
   ]
  },
  {
   "cell_type": "code",
   "execution_count": 6,
   "id": "8ab05915-d536-47b0-b35c-d20f7fed5ae8",
   "metadata": {},
   "outputs": [],
   "source": [
    "# серилизация объектов"
   ]
  },
  {
   "cell_type": "code",
   "execution_count": 7,
   "id": "75ad8b89-6747-4f43-ac73-be75a228d17b",
   "metadata": {},
   "outputs": [],
   "source": [
    "import pickle"
   ]
  },
  {
   "cell_type": "markdown",
   "id": "63303d8f-c844-4894-91dd-d30b5ad755f3",
   "metadata": {},
   "source": [
    "## Датасеты\n",
    "\n",
    "  - **RESD** : 7 классов\n",
    "  - https://huggingface.co/datasets/Aniemore/resd_annotated\n"
   ]
  },
  {
   "cell_type": "code",
   "execution_count": 8,
   "id": "b996bbac-2493-413e-8b85-41cd7ac6889d",
   "metadata": {},
   "outputs": [],
   "source": [
    "path_resd_train = '../dataset/data_RESD.pickle'\n",
    "\n",
    "\n",
    "with open(path_resd_train, 'rb') as f:\n",
    "    # The protocol version used is detected automatically, so we do not\n",
    "    # have to specify it.\n",
    "    data = pickle.load(f)"
   ]
  },
  {
   "cell_type": "code",
   "execution_count": 9,
   "id": "ff99a7b4-b8a0-4741-99fb-74f6325d85e4",
   "metadata": {},
   "outputs": [
    {
     "data": {
      "text/plain": [
       "{'name': '32_happiness_enthusiasm_h_120',\n",
       " 'path': 'happiness_enthusiasm_32/32_happiness_enthusiasm_h_120.wav',\n",
       " 'emotion': 'happiness',\n",
       " 'speech': {'path': '32_happiness_enthusiasm_h_120.wav',\n",
       "  'array': array([-0.00018311, -0.00061035, -0.00076294, ...,  0.00085449,\n",
       "          0.00048828,  0.00030518]),\n",
       "  'sampling_rate': 16000}}"
      ]
     },
     "execution_count": 9,
     "metadata": {},
     "output_type": "execute_result"
    }
   ],
   "source": [
    "data[0]"
   ]
  },
  {
   "cell_type": "code",
   "execution_count": 10,
   "id": "af5d6073-2663-4718-b276-3a28cf298175",
   "metadata": {},
   "outputs": [
    {
     "data": {
      "text/html": [
       "<div>\n",
       "<style scoped>\n",
       "    .dataframe tbody tr th:only-of-type {\n",
       "        vertical-align: middle;\n",
       "    }\n",
       "\n",
       "    .dataframe tbody tr th {\n",
       "        vertical-align: top;\n",
       "    }\n",
       "\n",
       "    .dataframe thead th {\n",
       "        text-align: right;\n",
       "    }\n",
       "</style>\n",
       "<table border=\"1\" class=\"dataframe\">\n",
       "  <thead>\n",
       "    <tr style=\"text-align: right;\">\n",
       "      <th></th>\n",
       "      <th>name</th>\n",
       "      <th>path</th>\n",
       "      <th>emotion</th>\n",
       "      <th>speech</th>\n",
       "    </tr>\n",
       "  </thead>\n",
       "  <tbody>\n",
       "    <tr>\n",
       "      <th>0</th>\n",
       "      <td>32_happiness_enthusiasm_h_120</td>\n",
       "      <td>happiness_enthusiasm_32/32_happiness_enthusias...</td>\n",
       "      <td>happiness</td>\n",
       "      <td>{'path': '32_happiness_enthusiasm_h_120.wav', ...</td>\n",
       "    </tr>\n",
       "    <tr>\n",
       "      <th>1</th>\n",
       "      <td>36_disgust_happiness_d_130</td>\n",
       "      <td>disgust_happiness_36/36_disgust_happiness_d_13...</td>\n",
       "      <td>disgust</td>\n",
       "      <td>{'path': '36_disgust_happiness_d_130.wav', 'ar...</td>\n",
       "    </tr>\n",
       "    <tr>\n",
       "      <th>2</th>\n",
       "      <td>34_anger_fear_a_060</td>\n",
       "      <td>anger_fear_34/34_anger_fear_a_060.wav</td>\n",
       "      <td>anger</td>\n",
       "      <td>{'path': '34_anger_fear_a_060.wav', 'array': [...</td>\n",
       "    </tr>\n",
       "    <tr>\n",
       "      <th>3</th>\n",
       "      <td>25_anger_disgust_a_010</td>\n",
       "      <td>anger_disgust_25/25_anger_disgust_a_010.wav</td>\n",
       "      <td>anger</td>\n",
       "      <td>{'path': '25_anger_disgust_a_010.wav', 'array'...</td>\n",
       "    </tr>\n",
       "    <tr>\n",
       "      <th>4</th>\n",
       "      <td>17_neutral_disgust_d_092</td>\n",
       "      <td>neutral_disgust_17/17_neutral_disgust_d_092.wav</td>\n",
       "      <td>disgust</td>\n",
       "      <td>{'path': '17_neutral_disgust_d_092.wav', 'arra...</td>\n",
       "    </tr>\n",
       "  </tbody>\n",
       "</table>\n",
       "</div>"
      ],
      "text/plain": [
       "                            name  \\\n",
       "0  32_happiness_enthusiasm_h_120   \n",
       "1     36_disgust_happiness_d_130   \n",
       "2            34_anger_fear_a_060   \n",
       "3         25_anger_disgust_a_010   \n",
       "4       17_neutral_disgust_d_092   \n",
       "\n",
       "                                                path    emotion  \\\n",
       "0  happiness_enthusiasm_32/32_happiness_enthusias...  happiness   \n",
       "1  disgust_happiness_36/36_disgust_happiness_d_13...    disgust   \n",
       "2              anger_fear_34/34_anger_fear_a_060.wav      anger   \n",
       "3        anger_disgust_25/25_anger_disgust_a_010.wav      anger   \n",
       "4    neutral_disgust_17/17_neutral_disgust_d_092.wav    disgust   \n",
       "\n",
       "                                              speech  \n",
       "0  {'path': '32_happiness_enthusiasm_h_120.wav', ...  \n",
       "1  {'path': '36_disgust_happiness_d_130.wav', 'ar...  \n",
       "2  {'path': '34_anger_fear_a_060.wav', 'array': [...  \n",
       "3  {'path': '25_anger_disgust_a_010.wav', 'array'...  \n",
       "4  {'path': '17_neutral_disgust_d_092.wav', 'arra...  "
      ]
     },
     "execution_count": 10,
     "metadata": {},
     "output_type": "execute_result"
    }
   ],
   "source": [
    "df_resd_train = pd.DataFrame(data)\n",
    "df_resd_train.head()"
   ]
  },
  {
   "cell_type": "code",
   "execution_count": 11,
   "id": "9bdf08d1-de75-40be-9860-180570b2074f",
   "metadata": {},
   "outputs": [],
   "source": [
    "# from https://www.kaggle.com/datasets/ar4ikov/resd-dataset?resource=download"
   ]
  },
  {
   "cell_type": "code",
   "execution_count": 12,
   "id": "f6a55370-a4df-492a-8198-f4fe717da40b",
   "metadata": {},
   "outputs": [],
   "source": [
    "path_resd_test  = '../dataset/RESD_csv/test.csv'"
   ]
  },
  {
   "cell_type": "code",
   "execution_count": 13,
   "id": "36f1a243-5294-4fb0-a65b-3fa727a638c4",
   "metadata": {},
   "outputs": [
    {
     "data": {
      "text/html": [
       "<div>\n",
       "<style scoped>\n",
       "    .dataframe tbody tr th:only-of-type {\n",
       "        vertical-align: middle;\n",
       "    }\n",
       "\n",
       "    .dataframe tbody tr th {\n",
       "        vertical-align: top;\n",
       "    }\n",
       "\n",
       "    .dataframe thead th {\n",
       "        text-align: right;\n",
       "    }\n",
       "</style>\n",
       "<table border=\"1\" class=\"dataframe\">\n",
       "  <thead>\n",
       "    <tr style=\"text-align: right;\">\n",
       "      <th></th>\n",
       "      <th>name</th>\n",
       "      <th>path</th>\n",
       "      <th>emotion</th>\n",
       "      <th>text</th>\n",
       "    </tr>\n",
       "  </thead>\n",
       "  <tbody>\n",
       "    <tr>\n",
       "      <th>0</th>\n",
       "      <td>27_neutral_fear_n_100</td>\n",
       "      <td>neutral_fear_27/27_neutral_fear_n_100.wav</td>\n",
       "      <td>neutral</td>\n",
       "      <td>Вам дадут целый минимальный оклад, но при этом...</td>\n",
       "    </tr>\n",
       "    <tr>\n",
       "      <th>1</th>\n",
       "      <td>08_sadness_anger a_010</td>\n",
       "      <td>08_sadness_anger/08_sadness_anger a_010.wav</td>\n",
       "      <td>anger</td>\n",
       "      <td>Сколько можно звонить?</td>\n",
       "    </tr>\n",
       "    <tr>\n",
       "      <th>2</th>\n",
       "      <td>26_enthusiasm_happiness_e_120</td>\n",
       "      <td>enthusiasm_happiness_26/26_enthusiasm_happines...</td>\n",
       "      <td>enthusiasm</td>\n",
       "      <td>А как долго тебе нужно это всё узнавать?</td>\n",
       "    </tr>\n",
       "    <tr>\n",
       "      <th>3</th>\n",
       "      <td>42_anger_fear_a_190</td>\n",
       "      <td>anger_fear_42/42_anger_fear_a_190.wav</td>\n",
       "      <td>anger</td>\n",
       "      <td>Ну а мне в 5 часов вставать на работу!</td>\n",
       "    </tr>\n",
       "    <tr>\n",
       "      <th>4</th>\n",
       "      <td>04_fear_enthusiasm f_090</td>\n",
       "      <td>04_fear_enthusiasm/04_fear_enthusiasm f_090.wav</td>\n",
       "      <td>fear</td>\n",
       "      <td>Честно, я не подскажу, ну как и обычно, любым ...</td>\n",
       "    </tr>\n",
       "  </tbody>\n",
       "</table>\n",
       "</div>"
      ],
      "text/plain": [
       "                            name  \\\n",
       "0          27_neutral_fear_n_100   \n",
       "1         08_sadness_anger a_010   \n",
       "2  26_enthusiasm_happiness_e_120   \n",
       "3            42_anger_fear_a_190   \n",
       "4       04_fear_enthusiasm f_090   \n",
       "\n",
       "                                                path     emotion  \\\n",
       "0          neutral_fear_27/27_neutral_fear_n_100.wav     neutral   \n",
       "1        08_sadness_anger/08_sadness_anger a_010.wav       anger   \n",
       "2  enthusiasm_happiness_26/26_enthusiasm_happines...  enthusiasm   \n",
       "3              anger_fear_42/42_anger_fear_a_190.wav       anger   \n",
       "4    04_fear_enthusiasm/04_fear_enthusiasm f_090.wav        fear   \n",
       "\n",
       "                                                text  \n",
       "0  Вам дадут целый минимальный оклад, но при этом...  \n",
       "1                             Сколько можно звонить?  \n",
       "2           А как долго тебе нужно это всё узнавать?  \n",
       "3             Ну а мне в 5 часов вставать на работу!  \n",
       "4  Честно, я не подскажу, ну как и обычно, любым ...  "
      ]
     },
     "execution_count": 13,
     "metadata": {},
     "output_type": "execute_result"
    }
   ],
   "source": [
    "df_resd = pd.read_csv(path_resd_test )\n",
    "df_resd.head()"
   ]
  },
  {
   "cell_type": "markdown",
   "id": "59757131-b8bb-454a-8044-aa605349e1eb",
   "metadata": {},
   "source": [
    "- сбалансирован"
   ]
  },
  {
   "cell_type": "code",
   "execution_count": null,
   "id": "14edb6d7-9970-4765-9525-97f100e1c9fb",
   "metadata": {},
   "outputs": [],
   "source": []
  },
  {
   "cell_type": "markdown",
   "id": "703b08e7-cdc5-4044-8b04-7a7f27290866",
   "metadata": {},
   "source": [
    "## Дополнение: Наш предполагаемый пайплайн обработки"
   ]
  },
  {
   "cell_type": "markdown",
   "id": "4e4b0144-79eb-4f74-984f-5dbd1722dd76",
   "metadata": {},
   "source": [
    "оценка эмоций по звуку речи"
   ]
  },
  {
   "cell_type": "code",
   "execution_count": 14,
   "id": "0803a953-41f4-45b6-931a-bc792d3d2d12",
   "metadata": {},
   "outputs": [
    {
     "name": "stderr",
     "output_type": "stream",
     "text": [
      "Some weights of the model checkpoint at aniemore/wavlm-emotion-russian-resd were not used when initializing WavLMForSequenceClassification: ['wavlm.encoder.pos_conv_embed.conv.weight_v', 'wavlm.encoder.pos_conv_embed.conv.weight_g']\n",
      "- This IS expected if you are initializing WavLMForSequenceClassification from the checkpoint of a model trained on another task or with another architecture (e.g. initializing a BertForSequenceClassification model from a BertForPreTraining model).\n",
      "- This IS NOT expected if you are initializing WavLMForSequenceClassification from the checkpoint of a model that you expect to be exactly identical (initializing a BertForSequenceClassification model from a BertForSequenceClassification model).\n",
      "Some weights of WavLMForSequenceClassification were not initialized from the model checkpoint at aniemore/wavlm-emotion-russian-resd and are newly initialized: ['wavlm.encoder.pos_conv_embed.conv.parametrizations.weight.original1', 'wavlm.encoder.pos_conv_embed.conv.parametrizations.weight.original0']\n",
      "You should probably TRAIN this model on a down-stream task to be able to use it for predictions and inference.\n",
      "Some weights of the model checkpoint at aniemore/wavlm-emotion-russian-resd were not used when initializing WavLMForSequenceClassification: ['wavlm.encoder.pos_conv_embed.conv.weight_v', 'wavlm.encoder.pos_conv_embed.conv.weight_g']\n",
      "- This IS expected if you are initializing WavLMForSequenceClassification from the checkpoint of a model trained on another task or with another architecture (e.g. initializing a BertForSequenceClassification model from a BertForPreTraining model).\n",
      "- This IS NOT expected if you are initializing WavLMForSequenceClassification from the checkpoint of a model that you expect to be exactly identical (initializing a BertForSequenceClassification model from a BertForSequenceClassification model).\n",
      "Some weights of WavLMForSequenceClassification were not initialized from the model checkpoint at aniemore/wavlm-emotion-russian-resd and are newly initialized: ['wavlm.encoder.pos_conv_embed.conv.parametrizations.weight.original1', 'wavlm.encoder.pos_conv_embed.conv.parametrizations.weight.original0']\n",
      "You should probably TRAIN this model on a down-stream task to be able to use it for predictions and inference.\n"
     ]
    },
    {
     "data": {
      "text/plain": [
       "'happiness'"
      ]
     },
     "execution_count": 14,
     "metadata": {},
     "output_type": "execute_result"
    }
   ],
   "source": [
    "\n",
    "\n",
    "import torch\n",
    "from aniemore.recognizers.voice import VoiceRecognizer\n",
    "from aniemore.models import HuggingFaceModel\n",
    "\n",
    "model_w = HuggingFaceModel.Voice.WavLM\n",
    "device = 'cuda' if torch.cuda.is_available() else 'cpu'\n",
    "vr = VoiceRecognizer(model=model_w, device=device)\n",
    "\n",
    "n = 0\n",
    "wav_name = df_resd_train.name.iloc[n]\n",
    "out_f =  '../dataset/RESD_train/' + str(n) + wav_name\n",
    "vr.recognize(out_f, return_single_label=True)"
   ]
  },
  {
   "cell_type": "markdown",
   "id": "5f3ca43f-ab85-4214-bae8-481335a93c7d",
   "metadata": {},
   "source": [
    "перевод речи в текст"
   ]
  },
  {
   "cell_type": "code",
   "execution_count": 15,
   "id": "26487beb-3b36-4b4f-8d28-54678aa915bb",
   "metadata": {},
   "outputs": [
    {
     "name": "stderr",
     "output_type": "stream",
     "text": [
      "Special tokens have been added in the vocabulary, make sure the associated word embeddings are fine-tuned or trained.\n"
     ]
    },
    {
     "data": {
      "text/plain": [
       "[' Конечно, скажу, обязательно. Ой, сейчас, ну скажу.']"
      ]
     },
     "execution_count": 15,
     "metadata": {},
     "output_type": "execute_result"
    }
   ],
   "source": [
    "from transformers import WhisperProcessor, WhisperForConditionalGeneration\n",
    "from datasets import Audio, load_dataset\n",
    "\n",
    "# load model and processor\n",
    "processor = WhisperProcessor.from_pretrained(\"openai/whisper-tiny\")\n",
    "model_t = WhisperForConditionalGeneration.from_pretrained(\"openai/whisper-tiny\")\n",
    "forced_decoder_ids = processor.get_decoder_prompt_ids(language=\"russian\", task=\"transcribe\")\n",
    "\n",
    "wav_name = df_resd_train.name.iloc[n]\n",
    "speech = df_resd_train.speech.iloc[n]\n",
    "#\n",
    "#  тут чтение и создание структуры {'array':[  numpy массив из аудио ], \"sampling_rate\":16000}\n",
    "#\n",
    "\n",
    "input_features = processor(speech[\"array\"], sampling_rate=speech[\"sampling_rate\"], return_tensors=\"pt\").input_features\n",
    "\n",
    "# generate token ids\n",
    "predicted_ids = model_t.generate(input_features, forced_decoder_ids=forced_decoder_ids)\n",
    "# decode token ids to text\n",
    "transcription = processor.batch_decode(predicted_ids)\n",
    "\n",
    "transcription = processor.batch_decode(predicted_ids, skip_special_tokens=True)\n",
    "transcription"
   ]
  },
  {
   "cell_type": "code",
   "execution_count": null,
   "id": "e9c09a7a-999e-42a1-ac10-e8c3f17b51fe",
   "metadata": {},
   "outputs": [],
   "source": []
  },
  {
   "cell_type": "markdown",
   "id": "b078ac22-a42a-4338-9f37-e7224a6113f5",
   "metadata": {},
   "source": [
    "Оценка эмоций по тексту"
   ]
  },
  {
   "cell_type": "code",
   "execution_count": 16,
   "id": "67525093-4032-4b9e-98c7-c699794959b3",
   "metadata": {},
   "outputs": [
    {
     "data": {
      "text/plain": [
       "'happiness'"
      ]
     },
     "execution_count": 16,
     "metadata": {},
     "output_type": "execute_result"
    }
   ],
   "source": [
    "import torch\n",
    "from aniemore.recognizers.text import TextRecognizer\n",
    "from aniemore.models import HuggingFaceModel\n",
    "\n",
    "model_e = HuggingFaceModel.Text.Bert_Tiny2\n",
    "device = 'cuda' if torch.cuda.is_available() else 'cpu'\n",
    "tr = TextRecognizer(model=model_e, device=device)\n",
    "\n",
    "tr.recognize(transcription[0], return_single_label=True)"
   ]
  },
  {
   "cell_type": "markdown",
   "id": "50044e0c-c5a5-49e6-9080-cf16fa51bfdc",
   "metadata": {},
   "source": [
    "### Весь поток целиком"
   ]
  },
  {
   "cell_type": "code",
   "execution_count": 17,
   "id": "5887a248-c80f-4cca-9a6a-03917a7b74e8",
   "metadata": {},
   "outputs": [
    {
     "name": "stdout",
     "output_type": "stream",
     "text": [
      "[0, '32_happiness_enthusiasm_h_120', 'happiness', 'happiness', 'happiness', 1.2302322387695312, ' Конечно, скажу, обязательно. Ой, сейчас, ну скажу.']\n",
      "[1, '36_disgust_happiness_d_130', 'disgust', 'disgust', 'neutral', 0.8124287128448486, ' Вы еще профессию решили поменять.']\n",
      "[2, '34_anger_fear_a_060', 'anger', 'anger', 'enthusiasm', 0.8759293556213379, ' Ты знаешь, чем это для тебя закончится?']\n",
      "[7, '32_happiness_enthusiasm_e_060', 'enthusiasm', 'enthusiasm', 'happiness', 1.5873656272888184, ' Ну хорошо, если например друзья, то что может быть латарейный билет и может им тоже повезет.']\n",
      "[9, '33_sadness_disgust_s_080', 'sadness', 'sadness', 'enthusiasm', 0.878122091293335, ' Вжи одно то, что ты пришла, то уже праздник.']\n",
      "[11, '32_happiness_enthusiasm_e_050', 'enthusiasm', 'enthusiasm', 'neutral', 1.1607391834259033, ' Так, ну и что ж ты купишь? Платили в сумму, а чеку может быть кошелёга для это.']\n",
      "[15, '03_disgust_neutral n_050', 'neutral', 'neutral', 'anger', 1.036041498184204, ' Финотирование недостаточно вы знаете как сейчас плохо сообразования.']\n",
      "[19, '28_disgust_enthusiasm_d_030', 'disgust', 'disgust', 'neutral', 0.5739490985870361, ' Новодон.']\n"
     ]
    }
   ],
   "source": [
    "rez = [] \n",
    "for i in range(20):#df_resd_train.shape[0]):\n",
    "    try:\n",
    "        t1 =  time.time()\n",
    "        wav_name = df_resd_train.name.iloc[i]\n",
    "        speech = df_resd_train.speech.iloc[i]\n",
    "        samples = speech['array']\n",
    "        fs = speech['sampling_rate']\n",
    "        out_f =  '../dataset/RESD_train/' + str(i) + wav_name\n",
    "\n",
    "        s_em = vr.recognize(out_f, return_single_label=True)\n",
    "        # SER\n",
    "        input_features = processor(speech[\"array\"], sampling_rate=speech[\"sampling_rate\"], return_tensors=\"pt\").input_features\n",
    "\n",
    "        # STT\n",
    "        predicted_ids = model_t.generate(input_features, forced_decoder_ids=forced_decoder_ids)\n",
    "        # \n",
    "        \n",
    "        transcription = processor.batch_decode(predicted_ids, skip_special_tokens=True)\n",
    "        \n",
    "        #SA\n",
    "        t_em = tr.recognize(transcription[0], return_single_label=True)\n",
    "\n",
    "        # label_pred = model(processor(speech))\n",
    "\n",
    "        label_true = df_resd_train.emotion.iloc[i]\n",
    "        t1 =  time.time() - t1 \n",
    "        rez.append([i, wav_name, label_true, s_em, t_em, t1, transcription[0]]) \n",
    "        # break\n",
    "        print([i, wav_name, label_true, s_em, t_em, t1, transcription[0]])\n",
    "    except:\n",
    "        pass"
   ]
  },
  {
   "cell_type": "code",
   "execution_count": 18,
   "id": "1fd4912b-ec10-4554-87d8-8ff287c27583",
   "metadata": {},
   "outputs": [],
   "source": [
    "df_aniemore_resd = pd.DataFrame(rez, columns=['N','file_name','label_true','label_audio','label_text', 't', 'text'])\n",
    "df_aniemore_resd.to_csv('aniem_resd.csv')"
   ]
  },
  {
   "cell_type": "code",
   "execution_count": null,
   "id": "fe0e9d30-bd1a-4a1e-ae59-dfcd2c0da300",
   "metadata": {},
   "outputs": [],
   "source": []
  },
  {
   "cell_type": "code",
   "execution_count": null,
   "id": "cddb6965-9cac-44c3-bab7-92ae14e9d50e",
   "metadata": {},
   "outputs": [],
   "source": []
  },
  {
   "cell_type": "code",
   "execution_count": null,
   "id": "0f8d582b-1e9d-4391-a7bc-907ebedfcb77",
   "metadata": {},
   "outputs": [],
   "source": []
  }
 ],
 "metadata": {
  "kernelspec": {
   "display_name": "Python 3 (ipykernel)",
   "language": "python",
   "name": "python3"
  },
  "language_info": {
   "codemirror_mode": {
    "name": "ipython",
    "version": 3
   },
   "file_extension": ".py",
   "mimetype": "text/x-python",
   "name": "python",
   "nbconvert_exporter": "python",
   "pygments_lexer": "ipython3",
   "version": "3.12.7"
  }
 },
 "nbformat": 4,
 "nbformat_minor": 5
}
